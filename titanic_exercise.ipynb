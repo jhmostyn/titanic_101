{
 "cells": [
  {
   "cell_type": "code",
   "execution_count": 1,
   "metadata": {
    "collapsed": true
   },
   "outputs": [],
   "source": [
    "import numpy as np\n",
    "import pandas as pd \n",
    "import matplotlib.pyplot as plt\n",
    "from patsy import dmatrices\n",
    "from sklearn.linear_model import LogisticRegression, LogisticRegressionCV\n",
    "from sklearn.model_selection import train_test_split, cross_val_score\n",
    "from sklearn import metrics\n",
    "\n",
    "from sklearn.preprocessing import StandardScaler\n",
    "from sklearn.metrics import classification_report, confusion_matrix\n",
    "from sklearn.metrics import roc_curve, auc\n",
    "from sklearn.model_selection import GridSearchCV\n",
    "from sklearn.tree import DecisionTreeClassifier\n",
    "from sklearn.ensemble import BaggingClassifier\n",
    "\n",
    "%matplotlib inline"
   ]
  },
  {
   "cell_type": "markdown",
   "metadata": {},
   "source": [
    "## Pre-Task: Describe the goals of your study"
   ]
  },
  {
   "cell_type": "markdown",
   "metadata": {},
   "source": [
    "The goal of my study is to discover what factors influenced the survival rate of the passengers of the Titanic.\n",
    "\n",
    "Were the chances of survival the same for everyone, or did certain groups fare better? I will use a range of models to analyse this question, determine if everyone had an equal chance, and determine what were the important factors in survival if that wasn't the case.\n",
    "\n",
    "I will use this study to develop and showcase data science skills, using a variety of techniques to both impute missing data and create new features,, then apply models to answer the question above."
   ]
  },
  {
   "cell_type": "markdown",
   "metadata": {},
   "source": [
    "The null hypothesis underpinning this project is that each passenger on the Titanic was equally likely to live."
   ]
  },
  {
   "cell_type": "markdown",
   "metadata": {},
   "source": [
    "  "
   ]
  },
  {
   "cell_type": "markdown",
   "metadata": {},
   "source": [
    "## Part 1: Aquire the Data"
   ]
  },
  {
   "cell_type": "markdown",
   "metadata": {
    "collapsed": true
   },
   "source": [
    "<https://www.kaggle.com/c/titanic>"
   ]
  },
  {
   "cell_type": "code",
   "execution_count": 2,
   "metadata": {
    "collapsed": true
   },
   "outputs": [],
   "source": [
    "titanic_df = pd.read_csv(\"assets/train.csv\")"
   ]
  },
  {
   "cell_type": "code",
   "execution_count": 3,
   "metadata": {},
   "outputs": [
    {
     "data": {
      "text/html": [
       "<div>\n",
       "<style>\n",
       "    .dataframe thead tr:only-child th {\n",
       "        text-align: right;\n",
       "    }\n",
       "\n",
       "    .dataframe thead th {\n",
       "        text-align: left;\n",
       "    }\n",
       "\n",
       "    .dataframe tbody tr th {\n",
       "        vertical-align: top;\n",
       "    }\n",
       "</style>\n",
       "<table border=\"1\" class=\"dataframe\">\n",
       "  <thead>\n",
       "    <tr style=\"text-align: right;\">\n",
       "      <th></th>\n",
       "      <th>PassengerId</th>\n",
       "      <th>Survived</th>\n",
       "      <th>Pclass</th>\n",
       "      <th>Name</th>\n",
       "      <th>Sex</th>\n",
       "      <th>Age</th>\n",
       "      <th>SibSp</th>\n",
       "      <th>Parch</th>\n",
       "      <th>Ticket</th>\n",
       "      <th>Fare</th>\n",
       "      <th>Cabin</th>\n",
       "      <th>Embarked</th>\n",
       "    </tr>\n",
       "  </thead>\n",
       "  <tbody>\n",
       "    <tr>\n",
       "      <th>0</th>\n",
       "      <td>1</td>\n",
       "      <td>0</td>\n",
       "      <td>3</td>\n",
       "      <td>Braund, Mr. Owen Harris</td>\n",
       "      <td>male</td>\n",
       "      <td>22.0</td>\n",
       "      <td>1</td>\n",
       "      <td>0</td>\n",
       "      <td>A/5 21171</td>\n",
       "      <td>7.2500</td>\n",
       "      <td>NaN</td>\n",
       "      <td>S</td>\n",
       "    </tr>\n",
       "    <tr>\n",
       "      <th>1</th>\n",
       "      <td>2</td>\n",
       "      <td>1</td>\n",
       "      <td>1</td>\n",
       "      <td>Cumings, Mrs. John Bradley (Florence Briggs Th...</td>\n",
       "      <td>female</td>\n",
       "      <td>38.0</td>\n",
       "      <td>1</td>\n",
       "      <td>0</td>\n",
       "      <td>PC 17599</td>\n",
       "      <td>71.2833</td>\n",
       "      <td>C85</td>\n",
       "      <td>C</td>\n",
       "    </tr>\n",
       "    <tr>\n",
       "      <th>2</th>\n",
       "      <td>3</td>\n",
       "      <td>1</td>\n",
       "      <td>3</td>\n",
       "      <td>Heikkinen, Miss. Laina</td>\n",
       "      <td>female</td>\n",
       "      <td>26.0</td>\n",
       "      <td>0</td>\n",
       "      <td>0</td>\n",
       "      <td>STON/O2. 3101282</td>\n",
       "      <td>7.9250</td>\n",
       "      <td>NaN</td>\n",
       "      <td>S</td>\n",
       "    </tr>\n",
       "    <tr>\n",
       "      <th>3</th>\n",
       "      <td>4</td>\n",
       "      <td>1</td>\n",
       "      <td>1</td>\n",
       "      <td>Futrelle, Mrs. Jacques Heath (Lily May Peel)</td>\n",
       "      <td>female</td>\n",
       "      <td>35.0</td>\n",
       "      <td>1</td>\n",
       "      <td>0</td>\n",
       "      <td>113803</td>\n",
       "      <td>53.1000</td>\n",
       "      <td>C123</td>\n",
       "      <td>S</td>\n",
       "    </tr>\n",
       "    <tr>\n",
       "      <th>4</th>\n",
       "      <td>5</td>\n",
       "      <td>0</td>\n",
       "      <td>3</td>\n",
       "      <td>Allen, Mr. William Henry</td>\n",
       "      <td>male</td>\n",
       "      <td>35.0</td>\n",
       "      <td>0</td>\n",
       "      <td>0</td>\n",
       "      <td>373450</td>\n",
       "      <td>8.0500</td>\n",
       "      <td>NaN</td>\n",
       "      <td>S</td>\n",
       "    </tr>\n",
       "  </tbody>\n",
       "</table>\n",
       "</div>"
      ],
      "text/plain": [
       "   PassengerId  Survived  Pclass  \\\n",
       "0            1         0       3   \n",
       "1            2         1       1   \n",
       "2            3         1       3   \n",
       "3            4         1       1   \n",
       "4            5         0       3   \n",
       "\n",
       "                                                Name     Sex   Age  SibSp  \\\n",
       "0                            Braund, Mr. Owen Harris    male  22.0      1   \n",
       "1  Cumings, Mrs. John Bradley (Florence Briggs Th...  female  38.0      1   \n",
       "2                             Heikkinen, Miss. Laina  female  26.0      0   \n",
       "3       Futrelle, Mrs. Jacques Heath (Lily May Peel)  female  35.0      1   \n",
       "4                           Allen, Mr. William Henry    male  35.0      0   \n",
       "\n",
       "   Parch            Ticket     Fare Cabin Embarked  \n",
       "0      0         A/5 21171   7.2500   NaN        S  \n",
       "1      0          PC 17599  71.2833   C85        C  \n",
       "2      0  STON/O2. 3101282   7.9250   NaN        S  \n",
       "3      0            113803  53.1000  C123        S  \n",
       "4      0            373450   8.0500   NaN        S  "
      ]
     },
     "execution_count": 3,
     "metadata": {},
     "output_type": "execute_result"
    }
   ],
   "source": [
    "# Check the header of the new dataframe:\n",
    "titanic_df.head()"
   ]
  },
  {
   "cell_type": "markdown",
   "metadata": {},
   "source": [
    "    "
   ]
  },
  {
   "cell_type": "markdown",
   "metadata": {},
   "source": [
    "## Part 2: Exploratory Data Analysis"
   ]
  },
  {
   "cell_type": "markdown",
   "metadata": {},
   "source": [
    "#### 1. Describe the Data"
   ]
  },
  {
   "cell_type": "code",
   "execution_count": 4,
   "metadata": {},
   "outputs": [
    {
     "data": {
      "text/plain": [
       "(891, 12)"
      ]
     },
     "execution_count": 4,
     "metadata": {},
     "output_type": "execute_result"
    }
   ],
   "source": [
    "titanic_df.shape"
   ]
  },
  {
   "cell_type": "code",
   "execution_count": 5,
   "metadata": {},
   "outputs": [
    {
     "data": {
      "text/html": [
       "<div>\n",
       "<style>\n",
       "    .dataframe thead tr:only-child th {\n",
       "        text-align: right;\n",
       "    }\n",
       "\n",
       "    .dataframe thead th {\n",
       "        text-align: left;\n",
       "    }\n",
       "\n",
       "    .dataframe tbody tr th {\n",
       "        vertical-align: top;\n",
       "    }\n",
       "</style>\n",
       "<table border=\"1\" class=\"dataframe\">\n",
       "  <thead>\n",
       "    <tr style=\"text-align: right;\">\n",
       "      <th></th>\n",
       "      <th>PassengerId</th>\n",
       "      <th>Survived</th>\n",
       "      <th>Pclass</th>\n",
       "      <th>Age</th>\n",
       "      <th>SibSp</th>\n",
       "      <th>Parch</th>\n",
       "      <th>Fare</th>\n",
       "    </tr>\n",
       "  </thead>\n",
       "  <tbody>\n",
       "    <tr>\n",
       "      <th>count</th>\n",
       "      <td>891.000000</td>\n",
       "      <td>891.000000</td>\n",
       "      <td>891.000000</td>\n",
       "      <td>714.000000</td>\n",
       "      <td>891.000000</td>\n",
       "      <td>891.000000</td>\n",
       "      <td>891.000000</td>\n",
       "    </tr>\n",
       "    <tr>\n",
       "      <th>mean</th>\n",
       "      <td>446.000000</td>\n",
       "      <td>0.383838</td>\n",
       "      <td>2.308642</td>\n",
       "      <td>29.699118</td>\n",
       "      <td>0.523008</td>\n",
       "      <td>0.381594</td>\n",
       "      <td>32.204208</td>\n",
       "    </tr>\n",
       "    <tr>\n",
       "      <th>std</th>\n",
       "      <td>257.353842</td>\n",
       "      <td>0.486592</td>\n",
       "      <td>0.836071</td>\n",
       "      <td>14.526497</td>\n",
       "      <td>1.102743</td>\n",
       "      <td>0.806057</td>\n",
       "      <td>49.693429</td>\n",
       "    </tr>\n",
       "    <tr>\n",
       "      <th>min</th>\n",
       "      <td>1.000000</td>\n",
       "      <td>0.000000</td>\n",
       "      <td>1.000000</td>\n",
       "      <td>0.420000</td>\n",
       "      <td>0.000000</td>\n",
       "      <td>0.000000</td>\n",
       "      <td>0.000000</td>\n",
       "    </tr>\n",
       "    <tr>\n",
       "      <th>25%</th>\n",
       "      <td>223.500000</td>\n",
       "      <td>0.000000</td>\n",
       "      <td>2.000000</td>\n",
       "      <td>20.125000</td>\n",
       "      <td>0.000000</td>\n",
       "      <td>0.000000</td>\n",
       "      <td>7.910400</td>\n",
       "    </tr>\n",
       "    <tr>\n",
       "      <th>50%</th>\n",
       "      <td>446.000000</td>\n",
       "      <td>0.000000</td>\n",
       "      <td>3.000000</td>\n",
       "      <td>28.000000</td>\n",
       "      <td>0.000000</td>\n",
       "      <td>0.000000</td>\n",
       "      <td>14.454200</td>\n",
       "    </tr>\n",
       "    <tr>\n",
       "      <th>75%</th>\n",
       "      <td>668.500000</td>\n",
       "      <td>1.000000</td>\n",
       "      <td>3.000000</td>\n",
       "      <td>38.000000</td>\n",
       "      <td>1.000000</td>\n",
       "      <td>0.000000</td>\n",
       "      <td>31.000000</td>\n",
       "    </tr>\n",
       "    <tr>\n",
       "      <th>max</th>\n",
       "      <td>891.000000</td>\n",
       "      <td>1.000000</td>\n",
       "      <td>3.000000</td>\n",
       "      <td>80.000000</td>\n",
       "      <td>8.000000</td>\n",
       "      <td>6.000000</td>\n",
       "      <td>512.329200</td>\n",
       "    </tr>\n",
       "  </tbody>\n",
       "</table>\n",
       "</div>"
      ],
      "text/plain": [
       "       PassengerId    Survived      Pclass         Age       SibSp  \\\n",
       "count   891.000000  891.000000  891.000000  714.000000  891.000000   \n",
       "mean    446.000000    0.383838    2.308642   29.699118    0.523008   \n",
       "std     257.353842    0.486592    0.836071   14.526497    1.102743   \n",
       "min       1.000000    0.000000    1.000000    0.420000    0.000000   \n",
       "25%     223.500000    0.000000    2.000000   20.125000    0.000000   \n",
       "50%     446.000000    0.000000    3.000000   28.000000    0.000000   \n",
       "75%     668.500000    1.000000    3.000000   38.000000    1.000000   \n",
       "max     891.000000    1.000000    3.000000   80.000000    8.000000   \n",
       "\n",
       "            Parch        Fare  \n",
       "count  891.000000  891.000000  \n",
       "mean     0.381594   32.204208  \n",
       "std      0.806057   49.693429  \n",
       "min      0.000000    0.000000  \n",
       "25%      0.000000    7.910400  \n",
       "50%      0.000000   14.454200  \n",
       "75%      0.000000   31.000000  \n",
       "max      6.000000  512.329200  "
      ]
     },
     "execution_count": 5,
     "metadata": {},
     "output_type": "execute_result"
    }
   ],
   "source": [
    "titanic_df.describe()"
   ]
  },
  {
   "cell_type": "markdown",
   "metadata": {},
   "source": [
    "Right now we only have six functional numeric fields - this will need to be increased for the logistic regression modelling, by converting text data to numeric and dummy fields, and creating new features."
   ]
  },
  {
   "cell_type": "markdown",
   "metadata": {},
   "source": [
    "First, are there any blank cells in the dataframe?"
   ]
  },
  {
   "cell_type": "code",
   "execution_count": 6,
   "metadata": {},
   "outputs": [
    {
     "data": {
      "text/plain": [
       "True"
      ]
     },
     "execution_count": 6,
     "metadata": {},
     "output_type": "execute_result"
    }
   ],
   "source": [
    "titanic_df.isnull().values.any()"
   ]
  },
  {
   "cell_type": "markdown",
   "metadata": {},
   "source": [
    "There are blank data cells. Let's see where:"
   ]
  },
  {
   "cell_type": "code",
   "execution_count": 7,
   "metadata": {},
   "outputs": [
    {
     "data": {
      "text/plain": [
       "PassengerId      0\n",
       "Survived         0\n",
       "Pclass           0\n",
       "Name             0\n",
       "Sex              0\n",
       "Age            177\n",
       "SibSp            0\n",
       "Parch            0\n",
       "Ticket           0\n",
       "Fare             0\n",
       "Cabin          687\n",
       "Embarked         2\n",
       "dtype: int64"
      ]
     },
     "execution_count": 7,
     "metadata": {},
     "output_type": "execute_result"
    }
   ],
   "source": [
    "titanic_df.isnull().sum()"
   ]
  },
  {
   "cell_type": "markdown",
   "metadata": {},
   "source": [
    "Age, Cabin and Embarked will need to be imputed, or removed as columns."
   ]
  },
  {
   "cell_type": "code",
   "execution_count": 8,
   "metadata": {},
   "outputs": [
    {
     "data": {
      "text/plain": [
       "0    549\n",
       "1    342\n",
       "Name: Survived, dtype: int64"
      ]
     },
     "execution_count": 8,
     "metadata": {},
     "output_type": "execute_result"
    }
   ],
   "source": [
    "# Let's check headline survival stats in the dataset, to begin to establish a baseline:\n",
    "titanic_df['Survived'].value_counts(dropna=False)"
   ]
  },
  {
   "cell_type": "code",
   "execution_count": 9,
   "metadata": {},
   "outputs": [
    {
     "data": {
      "text/plain": [
       "0    0.616162\n",
       "1    0.383838\n",
       "Name: Survived, dtype: float64"
      ]
     },
     "execution_count": 9,
     "metadata": {},
     "output_type": "execute_result"
    }
   ],
   "source": [
    "titanic_df['Survived'].value_counts(dropna=False) / titanic_df.shape[0]\n",
    "#baseline calculation will be the % chance of the most frequest event."
   ]
  },
  {
   "cell_type": "markdown",
   "metadata": {},
   "source": [
    "The baseline accuracy any model will be judged against is 62% - the chance of picking a none surviving passenger at random."
   ]
  },
  {
   "cell_type": "markdown",
   "metadata": {},
   "source": [
    "Let's start imputing missing data, first off the easiest - the two missing Embarked chars"
   ]
  },
  {
   "cell_type": "code",
   "execution_count": 10,
   "metadata": {},
   "outputs": [
    {
     "data": {
      "text/html": [
       "<div>\n",
       "<style>\n",
       "    .dataframe thead tr:only-child th {\n",
       "        text-align: right;\n",
       "    }\n",
       "\n",
       "    .dataframe thead th {\n",
       "        text-align: left;\n",
       "    }\n",
       "\n",
       "    .dataframe tbody tr th {\n",
       "        vertical-align: top;\n",
       "    }\n",
       "</style>\n",
       "<table border=\"1\" class=\"dataframe\">\n",
       "  <thead>\n",
       "    <tr style=\"text-align: right;\">\n",
       "      <th></th>\n",
       "      <th>PassengerId</th>\n",
       "      <th>Survived</th>\n",
       "      <th>Pclass</th>\n",
       "      <th>Name</th>\n",
       "      <th>Sex</th>\n",
       "      <th>Age</th>\n",
       "      <th>SibSp</th>\n",
       "      <th>Parch</th>\n",
       "      <th>Ticket</th>\n",
       "      <th>Fare</th>\n",
       "      <th>Cabin</th>\n",
       "      <th>Embarked</th>\n",
       "    </tr>\n",
       "  </thead>\n",
       "  <tbody>\n",
       "    <tr>\n",
       "      <th>61</th>\n",
       "      <td>62</td>\n",
       "      <td>1</td>\n",
       "      <td>1</td>\n",
       "      <td>Icard, Miss. Amelie</td>\n",
       "      <td>female</td>\n",
       "      <td>38.0</td>\n",
       "      <td>0</td>\n",
       "      <td>0</td>\n",
       "      <td>113572</td>\n",
       "      <td>80.0</td>\n",
       "      <td>B28</td>\n",
       "      <td>NaN</td>\n",
       "    </tr>\n",
       "    <tr>\n",
       "      <th>829</th>\n",
       "      <td>830</td>\n",
       "      <td>1</td>\n",
       "      <td>1</td>\n",
       "      <td>Stone, Mrs. George Nelson (Martha Evelyn)</td>\n",
       "      <td>female</td>\n",
       "      <td>62.0</td>\n",
       "      <td>0</td>\n",
       "      <td>0</td>\n",
       "      <td>113572</td>\n",
       "      <td>80.0</td>\n",
       "      <td>B28</td>\n",
       "      <td>NaN</td>\n",
       "    </tr>\n",
       "  </tbody>\n",
       "</table>\n",
       "</div>"
      ],
      "text/plain": [
       "     PassengerId  Survived  Pclass                                       Name  \\\n",
       "61            62         1       1                        Icard, Miss. Amelie   \n",
       "829          830         1       1  Stone, Mrs. George Nelson (Martha Evelyn)   \n",
       "\n",
       "        Sex   Age  SibSp  Parch  Ticket  Fare Cabin Embarked  \n",
       "61   female  38.0      0      0  113572  80.0   B28      NaN  \n",
       "829  female  62.0      0      0  113572  80.0   B28      NaN  "
      ]
     },
     "execution_count": 10,
     "metadata": {},
     "output_type": "execute_result"
    }
   ],
   "source": [
    "titanic_df[titanic_df['Embarked'].isnull()]"
   ]
  },
  {
   "cell_type": "markdown",
   "metadata": {},
   "source": [
    "Researching the matter online :\n",
    "\n",
    "62 embarked in Southampton\n",
    "\n",
    "https://www.encyclopedia-titanica.org/titanic-survivor/amelia-icard.html\n",
    "\n",
    "830 also embarked in Southampton\n",
    "\n",
    "<https://www.encyclopedia-titanica.org/titanic-survivor/martha-evelyn-stone.html>"
   ]
  },
  {
   "cell_type": "markdown",
   "metadata": {},
   "source": [
    "Let's input the two missing values with Southampton, which is both the modal value, and the correct one in both cases here:"
   ]
  },
  {
   "cell_type": "code",
   "execution_count": 11,
   "metadata": {},
   "outputs": [
    {
     "name": "stdout",
     "output_type": "stream",
     "text": [
      "S    644\n",
      "C    168\n",
      "Q     77\n",
      "Name: Embarked, dtype: int64\n"
     ]
    }
   ],
   "source": [
    "print titanic_df['Embarked'].value_counts()"
   ]
  },
  {
   "cell_type": "code",
   "execution_count": 12,
   "metadata": {
    "collapsed": true
   },
   "outputs": [],
   "source": [
    "#DataFrame.fillna(value=None, method=None, axis=None, inplace=False, limit=None, downcast=None, **kwargs)¶\n",
    "titanic_df['Embarked'].fillna(value='S',inplace=True)"
   ]
  },
  {
   "cell_type": "code",
   "execution_count": 13,
   "metadata": {},
   "outputs": [
    {
     "name": "stdout",
     "output_type": "stream",
     "text": [
      "Empty DataFrame\n",
      "Columns: [PassengerId, Survived, Pclass, Name, Sex, Age, SibSp, Parch, Ticket, Fare, Cabin, Embarked]\n",
      "Index: []\n"
     ]
    }
   ],
   "source": [
    "print titanic_df[titanic_df['Embarked'].isnull()]"
   ]
  },
  {
   "cell_type": "markdown",
   "metadata": {},
   "source": [
    "Class is the next column across - lets see if there are any missing values:"
   ]
  },
  {
   "cell_type": "code",
   "execution_count": 14,
   "metadata": {},
   "outputs": [
    {
     "data": {
      "text/plain": [
       "3    491\n",
       "1    216\n",
       "2    184\n",
       "Name: Pclass, dtype: int64"
      ]
     },
     "execution_count": 14,
     "metadata": {},
     "output_type": "execute_result"
    }
   ],
   "source": [
    "titanic_df['Pclass'].value_counts(dropna=False)"
   ]
  },
  {
   "cell_type": "markdown",
   "metadata": {},
   "source": [
    "No missing values - great! As this could be a decisive variable (going by some of the subplots of the movie!) let's check headline figures of the survival rates per class:"
   ]
  },
  {
   "cell_type": "code",
   "execution_count": 15,
   "metadata": {},
   "outputs": [
    {
     "name": "stdout",
     "output_type": "stream",
     "text": [
      "Survived    0    1  perished %  survived %\n",
      "Pclass                                    \n",
      "1          80  136    0.370370    0.629630\n",
      "2          97   87    0.527174    0.472826\n",
      "3         372  119    0.757637    0.242363\n"
     ]
    }
   ],
   "source": [
    "survived_table = pd.pivot_table(titanic_df[['Survived','Pclass']], index='Pclass', columns='Survived', aggfunc=lambda x: len(x))\n",
    "\n",
    "survived_table['perished %'] = survived_table[0] / (survived_table[0] + survived_table[1])\n",
    "survived_table['survived %'] = survived_table[1] / (survived_table[0] + survived_table[1])\n",
    "\n",
    "print survived_table"
   ]
  },
  {
   "cell_type": "markdown",
   "metadata": {},
   "source": [
    "So, survival rates increased as the ticket class increased - this will likely guide and impact our models."
   ]
  },
  {
   "cell_type": "markdown",
   "metadata": {},
   "source": [
    "Next up, names. Perhaps there is value we can extract from within this free text field?"
   ]
  },
  {
   "cell_type": "code",
   "execution_count": 16,
   "metadata": {},
   "outputs": [
    {
     "data": {
      "text/plain": [
       "0                              Braund, Mr. Owen Harris\n",
       "1    Cumings, Mrs. John Bradley (Florence Briggs Th...\n",
       "2                               Heikkinen, Miss. Laina\n",
       "3         Futrelle, Mrs. Jacques Heath (Lily May Peel)\n",
       "4                             Allen, Mr. William Henry\n",
       "Name: Name, dtype: object"
      ]
     },
     "execution_count": 16,
     "metadata": {},
     "output_type": "execute_result"
    }
   ],
   "source": [
    "titanic_df['Name'].head()"
   ]
  },
  {
   "cell_type": "markdown",
   "metadata": {},
   "source": [
    "The format is surname *comma* title *full stop* first name middle name, then possibly extra detail in brackets."
   ]
  },
  {
   "cell_type": "code",
   "execution_count": 17,
   "metadata": {
    "collapsed": true
   },
   "outputs": [],
   "source": [
    "def return_title(input_name):\n",
    "    title_text = input_name[input_name.index(\",\")+2:input_name.index(\".\")]\n",
    "    return title_text\n",
    "\n",
    "def return_surname(input_name):\n",
    "    surname_text = input_name[0:input_name.index(\",\")]\n",
    "    return surname_text"
   ]
  },
  {
   "cell_type": "markdown",
   "metadata": {},
   "source": [
    "Adding title and surname fields, adding features, and also potentially give insight into missing ages.."
   ]
  },
  {
   "cell_type": "code",
   "execution_count": 18,
   "metadata": {
    "collapsed": true
   },
   "outputs": [],
   "source": [
    "titanic_df['Title'] = titanic_df['Name'].apply(return_title)\n",
    "titanic_df['Surname'] = titanic_df['Name'].apply(return_surname)"
   ]
  },
  {
   "cell_type": "markdown",
   "metadata": {},
   "source": [
    "Let's see what the result of the title extraction was :"
   ]
  },
  {
   "cell_type": "code",
   "execution_count": 19,
   "metadata": {},
   "outputs": [
    {
     "data": {
      "text/plain": [
       "Mr              517\n",
       "Miss            182\n",
       "Mrs             125\n",
       "Master           40\n",
       "Dr                7\n",
       "Rev               6\n",
       "Mlle              2\n",
       "Col               2\n",
       "Major             2\n",
       "Lady              1\n",
       "Jonkheer          1\n",
       "Don               1\n",
       "Ms                1\n",
       "Mme               1\n",
       "Capt              1\n",
       "the Countess      1\n",
       "Sir               1\n",
       "Name: Title, dtype: int64"
      ]
     },
     "execution_count": 19,
     "metadata": {},
     "output_type": "execute_result"
    }
   ],
   "source": [
    "titanic_df['Title'].value_counts()"
   ]
  },
  {
   "cell_type": "markdown",
   "metadata": {},
   "source": [
    "Mr, Miss, Mrs are all defined by the gender field, Master is a sum of the gender field and age, but the other fields potentially denote status and could offer value.."
   ]
  },
  {
   "cell_type": "markdown",
   "metadata": {},
   "source": [
    "Also in name is the surname - perhaps grouping by count of matching surnames could offer value into the survivability of larger groups?"
   ]
  },
  {
   "cell_type": "code",
   "execution_count": 20,
   "metadata": {},
   "outputs": [
    {
     "data": {
      "text/plain": [
       "Andersson     9\n",
       "Sage          7\n",
       "Carter        6\n",
       "Goodwin       6\n",
       "Skoog         6\n",
       "Panula        6\n",
       "Johnson       6\n",
       "Rice          5\n",
       "Lefebre       4\n",
       "Gustafsson    4\n",
       "Name: Surname, dtype: int64"
      ]
     },
     "execution_count": 20,
     "metadata": {},
     "output_type": "execute_result"
    }
   ],
   "source": [
    "titanic_df['Surname'].value_counts().head(10)"
   ]
  },
  {
   "cell_type": "markdown",
   "metadata": {},
   "source": [
    "The tale of the Anderssons is a sad one - a whole family of seven died.\n",
    "\n",
    "<https://titanicstory.wordpress.com/2012/04/04/the-entire-andersson-family-was-lost-on-the-titanic/>"
   ]
  },
  {
   "cell_type": "code",
   "execution_count": 21,
   "metadata": {},
   "outputs": [
    {
     "data": {
      "text/html": [
       "<div>\n",
       "<style>\n",
       "    .dataframe thead tr:only-child th {\n",
       "        text-align: right;\n",
       "    }\n",
       "\n",
       "    .dataframe thead th {\n",
       "        text-align: left;\n",
       "    }\n",
       "\n",
       "    .dataframe tbody tr th {\n",
       "        vertical-align: top;\n",
       "    }\n",
       "</style>\n",
       "<table border=\"1\" class=\"dataframe\">\n",
       "  <thead>\n",
       "    <tr style=\"text-align: right;\">\n",
       "      <th></th>\n",
       "      <th>PassengerId</th>\n",
       "      <th>Survived</th>\n",
       "      <th>Pclass</th>\n",
       "      <th>Name</th>\n",
       "      <th>Sex</th>\n",
       "      <th>Age</th>\n",
       "      <th>SibSp</th>\n",
       "      <th>Parch</th>\n",
       "      <th>Ticket</th>\n",
       "      <th>Fare</th>\n",
       "      <th>Cabin</th>\n",
       "      <th>Embarked</th>\n",
       "      <th>Title</th>\n",
       "      <th>Surname</th>\n",
       "    </tr>\n",
       "  </thead>\n",
       "  <tbody>\n",
       "    <tr>\n",
       "      <th>13</th>\n",
       "      <td>14</td>\n",
       "      <td>0</td>\n",
       "      <td>3</td>\n",
       "      <td>Andersson, Mr. Anders Johan</td>\n",
       "      <td>male</td>\n",
       "      <td>39.0</td>\n",
       "      <td>1</td>\n",
       "      <td>5</td>\n",
       "      <td>347082</td>\n",
       "      <td>31.2750</td>\n",
       "      <td>NaN</td>\n",
       "      <td>S</td>\n",
       "      <td>Mr</td>\n",
       "      <td>Andersson</td>\n",
       "    </tr>\n",
       "    <tr>\n",
       "      <th>68</th>\n",
       "      <td>69</td>\n",
       "      <td>1</td>\n",
       "      <td>3</td>\n",
       "      <td>Andersson, Miss. Erna Alexandra</td>\n",
       "      <td>female</td>\n",
       "      <td>17.0</td>\n",
       "      <td>4</td>\n",
       "      <td>2</td>\n",
       "      <td>3101281</td>\n",
       "      <td>7.9250</td>\n",
       "      <td>NaN</td>\n",
       "      <td>S</td>\n",
       "      <td>Miss</td>\n",
       "      <td>Andersson</td>\n",
       "    </tr>\n",
       "    <tr>\n",
       "      <th>119</th>\n",
       "      <td>120</td>\n",
       "      <td>0</td>\n",
       "      <td>3</td>\n",
       "      <td>Andersson, Miss. Ellis Anna Maria</td>\n",
       "      <td>female</td>\n",
       "      <td>2.0</td>\n",
       "      <td>4</td>\n",
       "      <td>2</td>\n",
       "      <td>347082</td>\n",
       "      <td>31.2750</td>\n",
       "      <td>NaN</td>\n",
       "      <td>S</td>\n",
       "      <td>Miss</td>\n",
       "      <td>Andersson</td>\n",
       "    </tr>\n",
       "    <tr>\n",
       "      <th>146</th>\n",
       "      <td>147</td>\n",
       "      <td>1</td>\n",
       "      <td>3</td>\n",
       "      <td>Andersson, Mr. August Edvard (\"Wennerstrom\")</td>\n",
       "      <td>male</td>\n",
       "      <td>27.0</td>\n",
       "      <td>0</td>\n",
       "      <td>0</td>\n",
       "      <td>350043</td>\n",
       "      <td>7.7958</td>\n",
       "      <td>NaN</td>\n",
       "      <td>S</td>\n",
       "      <td>Mr</td>\n",
       "      <td>Andersson</td>\n",
       "    </tr>\n",
       "    <tr>\n",
       "      <th>541</th>\n",
       "      <td>542</td>\n",
       "      <td>0</td>\n",
       "      <td>3</td>\n",
       "      <td>Andersson, Miss. Ingeborg Constanzia</td>\n",
       "      <td>female</td>\n",
       "      <td>9.0</td>\n",
       "      <td>4</td>\n",
       "      <td>2</td>\n",
       "      <td>347082</td>\n",
       "      <td>31.2750</td>\n",
       "      <td>NaN</td>\n",
       "      <td>S</td>\n",
       "      <td>Miss</td>\n",
       "      <td>Andersson</td>\n",
       "    </tr>\n",
       "    <tr>\n",
       "      <th>542</th>\n",
       "      <td>543</td>\n",
       "      <td>0</td>\n",
       "      <td>3</td>\n",
       "      <td>Andersson, Miss. Sigrid Elisabeth</td>\n",
       "      <td>female</td>\n",
       "      <td>11.0</td>\n",
       "      <td>4</td>\n",
       "      <td>2</td>\n",
       "      <td>347082</td>\n",
       "      <td>31.2750</td>\n",
       "      <td>NaN</td>\n",
       "      <td>S</td>\n",
       "      <td>Miss</td>\n",
       "      <td>Andersson</td>\n",
       "    </tr>\n",
       "    <tr>\n",
       "      <th>610</th>\n",
       "      <td>611</td>\n",
       "      <td>0</td>\n",
       "      <td>3</td>\n",
       "      <td>Andersson, Mrs. Anders Johan (Alfrida Konstant...</td>\n",
       "      <td>female</td>\n",
       "      <td>39.0</td>\n",
       "      <td>1</td>\n",
       "      <td>5</td>\n",
       "      <td>347082</td>\n",
       "      <td>31.2750</td>\n",
       "      <td>NaN</td>\n",
       "      <td>S</td>\n",
       "      <td>Mrs</td>\n",
       "      <td>Andersson</td>\n",
       "    </tr>\n",
       "    <tr>\n",
       "      <th>813</th>\n",
       "      <td>814</td>\n",
       "      <td>0</td>\n",
       "      <td>3</td>\n",
       "      <td>Andersson, Miss. Ebba Iris Alfrida</td>\n",
       "      <td>female</td>\n",
       "      <td>6.0</td>\n",
       "      <td>4</td>\n",
       "      <td>2</td>\n",
       "      <td>347082</td>\n",
       "      <td>31.2750</td>\n",
       "      <td>NaN</td>\n",
       "      <td>S</td>\n",
       "      <td>Miss</td>\n",
       "      <td>Andersson</td>\n",
       "    </tr>\n",
       "    <tr>\n",
       "      <th>850</th>\n",
       "      <td>851</td>\n",
       "      <td>0</td>\n",
       "      <td>3</td>\n",
       "      <td>Andersson, Master. Sigvard Harald Elias</td>\n",
       "      <td>male</td>\n",
       "      <td>4.0</td>\n",
       "      <td>4</td>\n",
       "      <td>2</td>\n",
       "      <td>347082</td>\n",
       "      <td>31.2750</td>\n",
       "      <td>NaN</td>\n",
       "      <td>S</td>\n",
       "      <td>Master</td>\n",
       "      <td>Andersson</td>\n",
       "    </tr>\n",
       "  </tbody>\n",
       "</table>\n",
       "</div>"
      ],
      "text/plain": [
       "     PassengerId  Survived  Pclass  \\\n",
       "13            14         0       3   \n",
       "68            69         1       3   \n",
       "119          120         0       3   \n",
       "146          147         1       3   \n",
       "541          542         0       3   \n",
       "542          543         0       3   \n",
       "610          611         0       3   \n",
       "813          814         0       3   \n",
       "850          851         0       3   \n",
       "\n",
       "                                                  Name     Sex   Age  SibSp  \\\n",
       "13                         Andersson, Mr. Anders Johan    male  39.0      1   \n",
       "68                     Andersson, Miss. Erna Alexandra  female  17.0      4   \n",
       "119                  Andersson, Miss. Ellis Anna Maria  female   2.0      4   \n",
       "146       Andersson, Mr. August Edvard (\"Wennerstrom\")    male  27.0      0   \n",
       "541               Andersson, Miss. Ingeborg Constanzia  female   9.0      4   \n",
       "542                  Andersson, Miss. Sigrid Elisabeth  female  11.0      4   \n",
       "610  Andersson, Mrs. Anders Johan (Alfrida Konstant...  female  39.0      1   \n",
       "813                 Andersson, Miss. Ebba Iris Alfrida  female   6.0      4   \n",
       "850            Andersson, Master. Sigvard Harald Elias    male   4.0      4   \n",
       "\n",
       "     Parch   Ticket     Fare Cabin Embarked   Title    Surname  \n",
       "13       5   347082  31.2750   NaN        S      Mr  Andersson  \n",
       "68       2  3101281   7.9250   NaN        S    Miss  Andersson  \n",
       "119      2   347082  31.2750   NaN        S    Miss  Andersson  \n",
       "146      0   350043   7.7958   NaN        S      Mr  Andersson  \n",
       "541      2   347082  31.2750   NaN        S    Miss  Andersson  \n",
       "542      2   347082  31.2750   NaN        S    Miss  Andersson  \n",
       "610      5   347082  31.2750   NaN        S     Mrs  Andersson  \n",
       "813      2   347082  31.2750   NaN        S    Miss  Andersson  \n",
       "850      2   347082  31.2750   NaN        S  Master  Andersson  "
      ]
     },
     "execution_count": 21,
     "metadata": {},
     "output_type": "execute_result"
    }
   ],
   "source": [
    "titanic_df[titanic_df['Surname'] == 'Andersson']"
   ]
  },
  {
   "cell_type": "markdown",
   "metadata": {},
   "source": [
    "Here the 'SibSp & Parch' values don't fully make sense - each row (other than August) has a count of six, which plus the person of the row is seven, which is the number of members of the family. But, __eight__ rows have the count of six + one, meaning someone has been misallocated to the Andersson family (Erna Alexandra), or, the count of the family is incorrect. I believe it is the former.\n",
    "\n",
    "I will take the count of surnames, as well as the sum of SibSp & Parch, and see if either holds more weight as a predictor."
   ]
  },
  {
   "cell_type": "code",
   "execution_count": 22,
   "metadata": {},
   "outputs": [
    {
     "data": {
      "text/plain": [
       "1    534\n",
       "2     83\n",
       "3     28\n",
       "4     14\n",
       "6      5\n",
       "9      1\n",
       "7      1\n",
       "5      1\n",
       "dtype: int64"
      ]
     },
     "execution_count": 22,
     "metadata": {},
     "output_type": "execute_result"
    }
   ],
   "source": [
    "pd.Series(titanic_df['Surname'].value_counts().values).value_counts()"
   ]
  },
  {
   "cell_type": "markdown",
   "metadata": {},
   "source": [
    "The vast majority of surnames only featured once - these none-married individuals could have a different survival rating:"
   ]
  },
  {
   "cell_type": "code",
   "execution_count": 23,
   "metadata": {
    "collapsed": true
   },
   "outputs": [],
   "source": [
    "name_match_size_lookup = titanic_df['Surname'].value_counts()"
   ]
  },
  {
   "cell_type": "code",
   "execution_count": 24,
   "metadata": {
    "collapsed": true
   },
   "outputs": [],
   "source": [
    "titanic_df['Name_match_size'] = titanic_df['Surname'].apply(lambda x: name_match_size_lookup[x])"
   ]
  },
  {
   "cell_type": "code",
   "execution_count": 25,
   "metadata": {},
   "outputs": [
    {
     "name": "stdout",
     "output_type": "stream",
     "text": [
      "Survived           0    1  perished %  survived %\n",
      "Name_match_size                                  \n",
      "1                342  192    0.640449    0.359551\n",
      "2                 79   87    0.475904    0.524096\n",
      "3                 54   30    0.642857    0.357143\n",
      "4                 32   24    0.571429    0.428571\n",
      "5                  5    0    1.000000    0.000000\n",
      "6                 23    7    0.766667    0.233333\n",
      "7                  7    0    1.000000    0.000000\n",
      "9                  7    2    0.777778    0.222222\n"
     ]
    }
   ],
   "source": [
    "name_match_table = pd.pivot_table(titanic_df[['Survived','Name_match_size']], index='Name_match_size', columns='Survived', fill_value=0, aggfunc=lambda x: len(x))\n",
    "\n",
    "name_match_table['perished %'] = name_match_table[0] / (name_match_table[0] + name_match_table[1])\n",
    "name_match_table['survived %'] = name_match_table[1] / (name_match_table[0] + name_match_table[1])\n",
    "\n",
    "print name_match_table"
   ]
  },
  {
   "cell_type": "markdown",
   "metadata": {},
   "source": [
    "According to the numbers above, people with a unique sirname (suggesting individual travellers) had a much worse survival rating than say couples, however, this could represent individual migrators travelling on cheaper tickets, and have a lot of colinearity with say Pclass"
   ]
  },
  {
   "cell_type": "markdown",
   "metadata": {},
   "source": [
    "Let's break these groupings down into smaller categories:"
   ]
  },
  {
   "cell_type": "code",
   "execution_count": 26,
   "metadata": {
    "collapsed": true
   },
   "outputs": [],
   "source": [
    "surname_counts = pd.Series(titanic_df['Surname'].value_counts())\n",
    "\n",
    "def return_surname_count_status(input_surname):\n",
    "    surname_count = surname_counts[input_surname]\n",
    "    if surname_count == 1:\n",
    "        return 'Solo'\n",
    "    elif surname_count == 2:\n",
    "        return 'Couple'\n",
    "    elif surname_count > 2:\n",
    "        return 'Family'\n",
    "    \n",
    "titanic_df['Surname_count_status'] = titanic_df['Surname'].apply(return_surname_count_status)"
   ]
  },
  {
   "cell_type": "code",
   "execution_count": 27,
   "metadata": {},
   "outputs": [
    {
     "name": "stdout",
     "output_type": "stream",
     "text": [
      "Survived                0    1  perished %  survived %\n",
      "Surname_count_status                                  \n",
      "Couple                 79   87    0.475904    0.524096\n",
      "Family                128   63    0.670157    0.329843\n",
      "Solo                  342  192    0.640449    0.359551\n"
     ]
    }
   ],
   "source": [
    "group_table = pd.pivot_table(titanic_df[['Survived','Surname_count_status']], index='Surname_count_status', columns='Survived', aggfunc=lambda x: len(x))\n",
    "\n",
    "group_table['perished %'] = group_table[0] / (group_table[0] + group_table[1])\n",
    "group_table['survived %'] = group_table[1] / (group_table[0] + group_table[1])\n",
    "\n",
    "\n",
    "print group_table"
   ]
  },
  {
   "cell_type": "markdown",
   "metadata": {},
   "source": [
    "So, couple's win out again, but, lets be weary that couples could be recreational travellers on more expensive tickets"
   ]
  },
  {
   "cell_type": "markdown",
   "metadata": {},
   "source": [
    "Although I'm sceptical about the SibSp and Parch fields, let's combine them, just in case the additional feature has value (and/or, can beat the new feature above)"
   ]
  },
  {
   "cell_type": "code",
   "execution_count": 28,
   "metadata": {
    "collapsed": true
   },
   "outputs": [],
   "source": [
    "titanic_df['Family_size'] = titanic_df['SibSp'] + titanic_df['Parch']"
   ]
  },
  {
   "cell_type": "markdown",
   "metadata": {},
   "source": [
    "Could we possibly infer status from the name titles?\n",
    "\n",
    "How do titles compare to tickets?"
   ]
  },
  {
   "cell_type": "code",
   "execution_count": 29,
   "metadata": {},
   "outputs": [
    {
     "data": {
      "text/plain": [
       "Mr              517\n",
       "Miss            182\n",
       "Mrs             125\n",
       "Master           40\n",
       "Dr                7\n",
       "Rev               6\n",
       "Mlle              2\n",
       "Col               2\n",
       "Major             2\n",
       "Lady              1\n",
       "Jonkheer          1\n",
       "Don               1\n",
       "Ms                1\n",
       "Mme               1\n",
       "Capt              1\n",
       "the Countess      1\n",
       "Sir               1\n",
       "Name: Title, dtype: int64"
      ]
     },
     "execution_count": 29,
     "metadata": {},
     "output_type": "execute_result"
    }
   ],
   "source": [
    "titanic_df['Title'].value_counts()"
   ]
  },
  {
   "cell_type": "code",
   "execution_count": 30,
   "metadata": {},
   "outputs": [
    {
     "data": {
      "text/html": [
       "<div>\n",
       "<style>\n",
       "    .dataframe thead tr:only-child th {\n",
       "        text-align: right;\n",
       "    }\n",
       "\n",
       "    .dataframe thead th {\n",
       "        text-align: left;\n",
       "    }\n",
       "\n",
       "    .dataframe tbody tr th {\n",
       "        vertical-align: top;\n",
       "    }\n",
       "</style>\n",
       "<table border=\"1\" class=\"dataframe\">\n",
       "  <thead>\n",
       "    <tr style=\"text-align: right;\">\n",
       "      <th>Pclass</th>\n",
       "      <th>1</th>\n",
       "      <th>2</th>\n",
       "      <th>3</th>\n",
       "    </tr>\n",
       "    <tr>\n",
       "      <th>Title</th>\n",
       "      <th></th>\n",
       "      <th></th>\n",
       "      <th></th>\n",
       "    </tr>\n",
       "  </thead>\n",
       "  <tbody>\n",
       "    <tr>\n",
       "      <th>Capt</th>\n",
       "      <td>1.0</td>\n",
       "      <td>NaN</td>\n",
       "      <td>NaN</td>\n",
       "    </tr>\n",
       "    <tr>\n",
       "      <th>Col</th>\n",
       "      <td>2.0</td>\n",
       "      <td>NaN</td>\n",
       "      <td>NaN</td>\n",
       "    </tr>\n",
       "    <tr>\n",
       "      <th>Don</th>\n",
       "      <td>1.0</td>\n",
       "      <td>NaN</td>\n",
       "      <td>NaN</td>\n",
       "    </tr>\n",
       "    <tr>\n",
       "      <th>Dr</th>\n",
       "      <td>5.0</td>\n",
       "      <td>2.0</td>\n",
       "      <td>NaN</td>\n",
       "    </tr>\n",
       "    <tr>\n",
       "      <th>Jonkheer</th>\n",
       "      <td>1.0</td>\n",
       "      <td>NaN</td>\n",
       "      <td>NaN</td>\n",
       "    </tr>\n",
       "    <tr>\n",
       "      <th>Lady</th>\n",
       "      <td>1.0</td>\n",
       "      <td>NaN</td>\n",
       "      <td>NaN</td>\n",
       "    </tr>\n",
       "    <tr>\n",
       "      <th>Major</th>\n",
       "      <td>2.0</td>\n",
       "      <td>NaN</td>\n",
       "      <td>NaN</td>\n",
       "    </tr>\n",
       "    <tr>\n",
       "      <th>Master</th>\n",
       "      <td>3.0</td>\n",
       "      <td>9.0</td>\n",
       "      <td>28.0</td>\n",
       "    </tr>\n",
       "    <tr>\n",
       "      <th>Miss</th>\n",
       "      <td>46.0</td>\n",
       "      <td>34.0</td>\n",
       "      <td>102.0</td>\n",
       "    </tr>\n",
       "    <tr>\n",
       "      <th>Mlle</th>\n",
       "      <td>2.0</td>\n",
       "      <td>NaN</td>\n",
       "      <td>NaN</td>\n",
       "    </tr>\n",
       "    <tr>\n",
       "      <th>Mme</th>\n",
       "      <td>1.0</td>\n",
       "      <td>NaN</td>\n",
       "      <td>NaN</td>\n",
       "    </tr>\n",
       "    <tr>\n",
       "      <th>Mr</th>\n",
       "      <td>107.0</td>\n",
       "      <td>91.0</td>\n",
       "      <td>319.0</td>\n",
       "    </tr>\n",
       "    <tr>\n",
       "      <th>Mrs</th>\n",
       "      <td>42.0</td>\n",
       "      <td>41.0</td>\n",
       "      <td>42.0</td>\n",
       "    </tr>\n",
       "    <tr>\n",
       "      <th>Ms</th>\n",
       "      <td>NaN</td>\n",
       "      <td>1.0</td>\n",
       "      <td>NaN</td>\n",
       "    </tr>\n",
       "    <tr>\n",
       "      <th>Rev</th>\n",
       "      <td>NaN</td>\n",
       "      <td>6.0</td>\n",
       "      <td>NaN</td>\n",
       "    </tr>\n",
       "    <tr>\n",
       "      <th>Sir</th>\n",
       "      <td>1.0</td>\n",
       "      <td>NaN</td>\n",
       "      <td>NaN</td>\n",
       "    </tr>\n",
       "    <tr>\n",
       "      <th>the Countess</th>\n",
       "      <td>1.0</td>\n",
       "      <td>NaN</td>\n",
       "      <td>NaN</td>\n",
       "    </tr>\n",
       "  </tbody>\n",
       "</table>\n",
       "</div>"
      ],
      "text/plain": [
       "Pclass            1     2      3\n",
       "Title                           \n",
       "Capt            1.0   NaN    NaN\n",
       "Col             2.0   NaN    NaN\n",
       "Don             1.0   NaN    NaN\n",
       "Dr              5.0   2.0    NaN\n",
       "Jonkheer        1.0   NaN    NaN\n",
       "Lady            1.0   NaN    NaN\n",
       "Major           2.0   NaN    NaN\n",
       "Master          3.0   9.0   28.0\n",
       "Miss           46.0  34.0  102.0\n",
       "Mlle            2.0   NaN    NaN\n",
       "Mme             1.0   NaN    NaN\n",
       "Mr            107.0  91.0  319.0\n",
       "Mrs            42.0  41.0   42.0\n",
       "Ms              NaN   1.0    NaN\n",
       "Rev             NaN   6.0    NaN\n",
       "Sir             1.0   NaN    NaN\n",
       "the Countess    1.0   NaN    NaN"
      ]
     },
     "execution_count": 30,
     "metadata": {},
     "output_type": "execute_result"
    }
   ],
   "source": [
    "pd.pivot_table(titanic_df[['Title','Pclass']], index='Title', columns='Pclass', aggfunc=lambda x: len(x))"
   ]
  },
  {
   "cell_type": "markdown",
   "metadata": {},
   "source": [
    "The newly seperated features seem to correlate with higher ticket classes, as expected, so might not have too much value.. However, let's continue with the feature development"
   ]
  },
  {
   "cell_type": "code",
   "execution_count": 31,
   "metadata": {},
   "outputs": [
    {
     "name": "stdout",
     "output_type": "stream",
     "text": [
      "Mr\n",
      "Mrs\n",
      "Miss\n",
      "Master\n",
      "Don\n",
      "Rev\n",
      "Dr\n",
      "Mme\n",
      "Ms\n",
      "Major\n",
      "Lady\n",
      "Sir\n",
      "Mlle\n",
      "Col\n",
      "Capt\n",
      "the Countess\n",
      "Jonkheer\n"
     ]
    }
   ],
   "source": [
    "for title in titanic_df['Title'].unique():\n",
    "    print title"
   ]
  },
  {
   "cell_type": "markdown",
   "metadata": {},
   "source": [
    "Because some titles are very infrequent, lets group them together into a binary 'Status' feature:"
   ]
  },
  {
   "cell_type": "code",
   "execution_count": 32,
   "metadata": {
    "collapsed": true
   },
   "outputs": [],
   "source": [
    "titles_dict = {\n",
    "'Mr':0,\n",
    "'Mrs':0,\n",
    "'Miss':0,\n",
    "'Master':0,\n",
    "'Don':1,\n",
    "'Rev':1,\n",
    "'Dr':1,\n",
    "'Mme':1,\n",
    "'Ms':0,\n",
    "'Major':1,\n",
    "'Lady':1,\n",
    "'Sir':1,\n",
    "'Mlle':1,\n",
    "'Col':1,\n",
    "'Capt':1,\n",
    "'the Countess':1,\n",
    "'Jonkheer':1\n",
    "}"
   ]
  },
  {
   "cell_type": "markdown",
   "metadata": {},
   "source": [
    "And apply it to the DF:"
   ]
  },
  {
   "cell_type": "code",
   "execution_count": 33,
   "metadata": {
    "collapsed": true
   },
   "outputs": [],
   "source": [
    "titanic_df['Status'] = titanic_df['Title'].apply(lambda x: titles_dict[x])"
   ]
  },
  {
   "cell_type": "markdown",
   "metadata": {},
   "source": [
    "And check how it compares to the ticket class:"
   ]
  },
  {
   "cell_type": "code",
   "execution_count": 34,
   "metadata": {},
   "outputs": [
    {
     "data": {
      "text/html": [
       "<div>\n",
       "<style>\n",
       "    .dataframe thead tr:only-child th {\n",
       "        text-align: right;\n",
       "    }\n",
       "\n",
       "    .dataframe thead th {\n",
       "        text-align: left;\n",
       "    }\n",
       "\n",
       "    .dataframe tbody tr th {\n",
       "        vertical-align: top;\n",
       "    }\n",
       "</style>\n",
       "<table border=\"1\" class=\"dataframe\">\n",
       "  <thead>\n",
       "    <tr style=\"text-align: right;\">\n",
       "      <th>Pclass</th>\n",
       "      <th>1</th>\n",
       "      <th>2</th>\n",
       "      <th>3</th>\n",
       "    </tr>\n",
       "    <tr>\n",
       "      <th>Status</th>\n",
       "      <th></th>\n",
       "      <th></th>\n",
       "      <th></th>\n",
       "    </tr>\n",
       "  </thead>\n",
       "  <tbody>\n",
       "    <tr>\n",
       "      <th>0</th>\n",
       "      <td>198.0</td>\n",
       "      <td>176.0</td>\n",
       "      <td>491.0</td>\n",
       "    </tr>\n",
       "    <tr>\n",
       "      <th>1</th>\n",
       "      <td>18.0</td>\n",
       "      <td>8.0</td>\n",
       "      <td>NaN</td>\n",
       "    </tr>\n",
       "  </tbody>\n",
       "</table>\n",
       "</div>"
      ],
      "text/plain": [
       "Pclass      1      2      3\n",
       "Status                     \n",
       "0       198.0  176.0  491.0\n",
       "1        18.0    8.0    NaN"
      ]
     },
     "execution_count": 34,
     "metadata": {},
     "output_type": "execute_result"
    }
   ],
   "source": [
    "pd.pivot_table(titanic_df[['Status','Pclass']], index='Status', columns='Pclass', aggfunc=lambda x: len(x))"
   ]
  },
  {
   "cell_type": "markdown",
   "metadata": {},
   "source": [
    "And survivability (per title, and overall):"
   ]
  },
  {
   "cell_type": "code",
   "execution_count": 35,
   "metadata": {},
   "outputs": [
    {
     "data": {
      "text/html": [
       "<div>\n",
       "<style>\n",
       "    .dataframe thead tr:only-child th {\n",
       "        text-align: right;\n",
       "    }\n",
       "\n",
       "    .dataframe thead th {\n",
       "        text-align: left;\n",
       "    }\n",
       "\n",
       "    .dataframe tbody tr th {\n",
       "        vertical-align: top;\n",
       "    }\n",
       "</style>\n",
       "<table border=\"1\" class=\"dataframe\">\n",
       "  <thead>\n",
       "    <tr style=\"text-align: right;\">\n",
       "      <th>Status</th>\n",
       "      <th>0</th>\n",
       "      <th>1</th>\n",
       "    </tr>\n",
       "    <tr>\n",
       "      <th>Title</th>\n",
       "      <th></th>\n",
       "      <th></th>\n",
       "    </tr>\n",
       "  </thead>\n",
       "  <tbody>\n",
       "    <tr>\n",
       "      <th>Capt</th>\n",
       "      <td>0</td>\n",
       "      <td>1</td>\n",
       "    </tr>\n",
       "    <tr>\n",
       "      <th>Col</th>\n",
       "      <td>0</td>\n",
       "      <td>2</td>\n",
       "    </tr>\n",
       "    <tr>\n",
       "      <th>Don</th>\n",
       "      <td>0</td>\n",
       "      <td>1</td>\n",
       "    </tr>\n",
       "    <tr>\n",
       "      <th>Dr</th>\n",
       "      <td>0</td>\n",
       "      <td>7</td>\n",
       "    </tr>\n",
       "    <tr>\n",
       "      <th>Jonkheer</th>\n",
       "      <td>0</td>\n",
       "      <td>1</td>\n",
       "    </tr>\n",
       "    <tr>\n",
       "      <th>Lady</th>\n",
       "      <td>0</td>\n",
       "      <td>1</td>\n",
       "    </tr>\n",
       "    <tr>\n",
       "      <th>Major</th>\n",
       "      <td>0</td>\n",
       "      <td>2</td>\n",
       "    </tr>\n",
       "    <tr>\n",
       "      <th>Master</th>\n",
       "      <td>40</td>\n",
       "      <td>0</td>\n",
       "    </tr>\n",
       "    <tr>\n",
       "      <th>Miss</th>\n",
       "      <td>182</td>\n",
       "      <td>0</td>\n",
       "    </tr>\n",
       "    <tr>\n",
       "      <th>Mlle</th>\n",
       "      <td>0</td>\n",
       "      <td>2</td>\n",
       "    </tr>\n",
       "    <tr>\n",
       "      <th>Mme</th>\n",
       "      <td>0</td>\n",
       "      <td>1</td>\n",
       "    </tr>\n",
       "    <tr>\n",
       "      <th>Mr</th>\n",
       "      <td>517</td>\n",
       "      <td>0</td>\n",
       "    </tr>\n",
       "    <tr>\n",
       "      <th>Mrs</th>\n",
       "      <td>125</td>\n",
       "      <td>0</td>\n",
       "    </tr>\n",
       "    <tr>\n",
       "      <th>Ms</th>\n",
       "      <td>1</td>\n",
       "      <td>0</td>\n",
       "    </tr>\n",
       "    <tr>\n",
       "      <th>Rev</th>\n",
       "      <td>0</td>\n",
       "      <td>6</td>\n",
       "    </tr>\n",
       "    <tr>\n",
       "      <th>Sir</th>\n",
       "      <td>0</td>\n",
       "      <td>1</td>\n",
       "    </tr>\n",
       "    <tr>\n",
       "      <th>the Countess</th>\n",
       "      <td>0</td>\n",
       "      <td>1</td>\n",
       "    </tr>\n",
       "  </tbody>\n",
       "</table>\n",
       "</div>"
      ],
      "text/plain": [
       "Status          0  1\n",
       "Title               \n",
       "Capt            0  1\n",
       "Col             0  2\n",
       "Don             0  1\n",
       "Dr              0  7\n",
       "Jonkheer        0  1\n",
       "Lady            0  1\n",
       "Major           0  2\n",
       "Master         40  0\n",
       "Miss          182  0\n",
       "Mlle            0  2\n",
       "Mme             0  1\n",
       "Mr            517  0\n",
       "Mrs           125  0\n",
       "Ms              1  0\n",
       "Rev             0  6\n",
       "Sir             0  1\n",
       "the Countess    0  1"
      ]
     },
     "execution_count": 35,
     "metadata": {},
     "output_type": "execute_result"
    }
   ],
   "source": [
    "pd.pivot_table(titanic_df[['Status','Title']], index='Title', columns='Status', fill_value=0, aggfunc=lambda x: len(x))"
   ]
  },
  {
   "cell_type": "code",
   "execution_count": 36,
   "metadata": {},
   "outputs": [
    {
     "name": "stdout",
     "output_type": "stream",
     "text": [
      "Survived    0    1  perished %  survived %\n",
      "Status                                    \n",
      "0         534  331    0.617341    0.382659\n",
      "1          15   11    0.576923    0.423077\n"
     ]
    }
   ],
   "source": [
    "status_table = pd.pivot_table(titanic_df[['Survived','Status']], index='Status', columns='Survived', aggfunc=lambda x: len(x))\n",
    "\n",
    "status_table['perished %'] = status_table[0] / (status_table[0] + status_table[1])\n",
    "status_table['survived %'] = status_table[1] / (status_table[0] + status_table[1])\n",
    "\n",
    "\n",
    "print status_table"
   ]
  },
  {
   "cell_type": "markdown",
   "metadata": {},
   "source": [
    "Status field doesn't seem to be as strong an indicator of survival as other present or calculated fields"
   ]
  },
  {
   "cell_type": "markdown",
   "metadata": {},
   "source": [
    "Next field to contend with is Cabin:"
   ]
  },
  {
   "cell_type": "code",
   "execution_count": 37,
   "metadata": {},
   "outputs": [
    {
     "data": {
      "text/plain": [
       "NaN            687\n",
       "G6               4\n",
       "C23 C25 C27      4\n",
       "B96 B98          4\n",
       "F2               3\n",
       "Name: Cabin, dtype: int64"
      ]
     },
     "execution_count": 37,
     "metadata": {},
     "output_type": "execute_result"
    }
   ],
   "source": [
    "titanic_df['Cabin'].value_counts(dropna=False).head()"
   ]
  },
  {
   "cell_type": "markdown",
   "metadata": {},
   "source": [
    "Which can come in a number of formats, with the majority missing.\n",
    "\n",
    "Because the text is so varied, and the key value in it is the deck, which is connected to the first character of the cabin, lets break it out to just missing, or the first letter/deck, so it can be dummied later:"
   ]
  },
  {
   "cell_type": "code",
   "execution_count": 38,
   "metadata": {
    "collapsed": true
   },
   "outputs": [],
   "source": [
    "def return_cabin_letter(input_cabin):\n",
    "    if pd.isnull(input_cabin):\n",
    "        return \"U\"\n",
    "    else:\n",
    "        return str(input_cabin)[0]\n",
    "\n",
    "titanic_df['Cabin_letter'] = titanic_df['Cabin'].apply(return_cabin_letter)"
   ]
  },
  {
   "cell_type": "code",
   "execution_count": 39,
   "metadata": {},
   "outputs": [
    {
     "name": "stdout",
     "output_type": "stream",
     "text": [
      "Survived        0    1  perished %  survived %\n",
      "Cabin_letter                                  \n",
      "A               8    7    0.533333    0.466667\n",
      "B              12   35    0.255319    0.744681\n",
      "C              24   35    0.406780    0.593220\n",
      "D               8   25    0.242424    0.757576\n",
      "E               8   24    0.250000    0.750000\n",
      "F               5    8    0.384615    0.615385\n",
      "G               2    2    0.500000    0.500000\n",
      "T               1    0    1.000000    0.000000\n",
      "U             481  206    0.700146    0.299854\n",
      "0    0.616162\n",
      "1    0.383838\n",
      "Name: Survived, dtype: float64\n"
     ]
    }
   ],
   "source": [
    "cabin_letter_table = pd.pivot_table(titanic_df[['Survived','Cabin_letter']], index='Cabin_letter', columns='Survived', fill_value=0, aggfunc=lambda x: len(x))\n",
    "\n",
    "cabin_letter_table['perished %'] = cabin_letter_table[0] / (cabin_letter_table[0] + cabin_letter_table[1])\n",
    "cabin_letter_table['survived %'] = cabin_letter_table[1] / (cabin_letter_table[0] + cabin_letter_table[1])\n",
    "\n",
    "print cabin_letter_table\n",
    "\n",
    "print titanic_df['Survived'].value_counts() / titanic_df.shape[0]"
   ]
  },
  {
   "cell_type": "markdown",
   "metadata": {},
   "source": [
    "So, we see A through G all over indexing in survivability versus the baseline.\n",
    "\n",
    "This will likely be key to the model when dummied."
   ]
  },
  {
   "cell_type": "markdown",
   "metadata": {},
   "source": [
    "To double check the relevance of this, let's check if the Titanic crashed late at night, meaning people were more likely to be in the cabins, and thus cabin location was particularly important?\n",
    "\n",
    "\"The Titanic struck the iceberg at 11:40 pm on April 14, 1912. The Titanic sank 2 hours and 40 minutes later at 2:20 am on April 15, 1912.3 Apr 2012\"\n",
    "        \n",
    "<https://awesometalks.wordpress.com/2012/04/03/what-time-did-the-rms-titanic-really-hit-the-iceberg/>\n",
    "\n",
    "Although, the exact time is still disputed, the impact of cabin location to survivability is clear. Cabin location and ticket class will have colinearity, will be interesting to see how they compare later..."
   ]
  },
  {
   "cell_type": "markdown",
   "metadata": {},
   "source": [
    "Not all tickets have cabin info, but all tickets have class info. I assume the 'U' tickets are disproportionately 3rd class?"
   ]
  },
  {
   "cell_type": "code",
   "execution_count": 40,
   "metadata": {},
   "outputs": [
    {
     "name": "stdout",
     "output_type": "stream",
     "text": [
      "3    0.537598\n",
      "2    0.188552\n",
      "1    0.044893\n",
      "Name: Pclass, dtype: float64\n"
     ]
    }
   ],
   "source": [
    "print titanic_df[titanic_df['Cabin_letter'] == 'U']['Pclass'].value_counts() / titanic_df.shape[0]"
   ]
  },
  {
   "cell_type": "code",
   "execution_count": 41,
   "metadata": {},
   "outputs": [
    {
     "name": "stdout",
     "output_type": "stream",
     "text": [
      "3    0.551066\n",
      "1    0.242424\n",
      "2    0.206510\n",
      "Name: Pclass, dtype: float64\n"
     ]
    }
   ],
   "source": [
    "print titanic_df['Pclass'].value_counts() / titanic_df.shape[0]"
   ]
  },
  {
   "cell_type": "markdown",
   "metadata": {},
   "source": [
    "The answer is yes - missing cabin information is disproportionately prevelent in lower class tickets, so, we'll monitor the interaction between the features later."
   ]
  },
  {
   "cell_type": "code",
   "execution_count": 42,
   "metadata": {},
   "outputs": [
    {
     "data": {
      "text/plain": [
       "1    176\n",
       "2     16\n",
       "3     12\n",
       "Name: Pclass, dtype: int64"
      ]
     },
     "execution_count": 42,
     "metadata": {},
     "output_type": "execute_result"
    }
   ],
   "source": [
    "titanic_df[titanic_df['Cabin_letter'].apply(lambda x: True if x != 'U' else False)]['Pclass'].value_counts(sort=False)"
   ]
  },
  {
   "cell_type": "code",
   "execution_count": 43,
   "metadata": {},
   "outputs": [
    {
     "data": {
      "text/plain": [
       "1     40\n",
       "2    168\n",
       "3    479\n",
       "Name: Pclass, dtype: int64"
      ]
     },
     "execution_count": 43,
     "metadata": {},
     "output_type": "execute_result"
    }
   ],
   "source": [
    "titanic_df[titanic_df['Cabin_letter'].apply(lambda x: True if x == 'U' else False)]['Pclass'].value_counts(sort=False)"
   ]
  },
  {
   "cell_type": "markdown",
   "metadata": {},
   "source": [
    "'U' seems to be shorthand for lower tier ticket. Likely to be lots of colinearity with ticket class, but, lets keep it for now"
   ]
  },
  {
   "cell_type": "markdown",
   "metadata": {},
   "source": [
    "Age is the next feature to contend with, with many missing values. First, lets sense check the values there:"
   ]
  },
  {
   "cell_type": "code",
   "execution_count": 44,
   "metadata": {},
   "outputs": [
    {
     "data": {
      "text/html": [
       "<div>\n",
       "<style>\n",
       "    .dataframe thead tr:only-child th {\n",
       "        text-align: right;\n",
       "    }\n",
       "\n",
       "    .dataframe thead th {\n",
       "        text-align: left;\n",
       "    }\n",
       "\n",
       "    .dataframe tbody tr th {\n",
       "        vertical-align: top;\n",
       "    }\n",
       "</style>\n",
       "<table border=\"1\" class=\"dataframe\">\n",
       "  <thead>\n",
       "    <tr style=\"text-align: right;\">\n",
       "      <th>Survived</th>\n",
       "      <th>0</th>\n",
       "      <th>1</th>\n",
       "    </tr>\n",
       "    <tr>\n",
       "      <th>Age</th>\n",
       "      <th></th>\n",
       "      <th></th>\n",
       "    </tr>\n",
       "  </thead>\n",
       "  <tbody>\n",
       "    <tr>\n",
       "      <th>0.42</th>\n",
       "      <td>NaN</td>\n",
       "      <td>1.0</td>\n",
       "    </tr>\n",
       "    <tr>\n",
       "      <th>0.67</th>\n",
       "      <td>NaN</td>\n",
       "      <td>1.0</td>\n",
       "    </tr>\n",
       "    <tr>\n",
       "      <th>0.75</th>\n",
       "      <td>NaN</td>\n",
       "      <td>2.0</td>\n",
       "    </tr>\n",
       "    <tr>\n",
       "      <th>0.83</th>\n",
       "      <td>NaN</td>\n",
       "      <td>2.0</td>\n",
       "    </tr>\n",
       "    <tr>\n",
       "      <th>0.92</th>\n",
       "      <td>NaN</td>\n",
       "      <td>1.0</td>\n",
       "    </tr>\n",
       "  </tbody>\n",
       "</table>\n",
       "</div>"
      ],
      "text/plain": [
       "Survived   0    1\n",
       "Age              \n",
       "0.42     NaN  1.0\n",
       "0.67     NaN  1.0\n",
       "0.75     NaN  2.0\n",
       "0.83     NaN  2.0\n",
       "0.92     NaN  1.0"
      ]
     },
     "execution_count": 44,
     "metadata": {},
     "output_type": "execute_result"
    }
   ],
   "source": [
    "pd.pivot_table(titanic_df[['Age','Survived']], index='Age', columns='Survived', aggfunc=lambda x: len(x)).head()"
   ]
  },
  {
   "cell_type": "markdown",
   "metadata": {},
   "source": [
    "Are sub 1 ages babies, or data issues?"
   ]
  },
  {
   "cell_type": "code",
   "execution_count": 45,
   "metadata": {},
   "outputs": [
    {
     "data": {
      "text/html": [
       "<div>\n",
       "<style>\n",
       "    .dataframe thead tr:only-child th {\n",
       "        text-align: right;\n",
       "    }\n",
       "\n",
       "    .dataframe thead th {\n",
       "        text-align: left;\n",
       "    }\n",
       "\n",
       "    .dataframe tbody tr th {\n",
       "        vertical-align: top;\n",
       "    }\n",
       "</style>\n",
       "<table border=\"1\" class=\"dataframe\">\n",
       "  <thead>\n",
       "    <tr style=\"text-align: right;\">\n",
       "      <th></th>\n",
       "      <th>PassengerId</th>\n",
       "      <th>Survived</th>\n",
       "      <th>Pclass</th>\n",
       "      <th>Name</th>\n",
       "      <th>Sex</th>\n",
       "      <th>Age</th>\n",
       "      <th>SibSp</th>\n",
       "      <th>Parch</th>\n",
       "      <th>Ticket</th>\n",
       "      <th>Fare</th>\n",
       "      <th>Cabin</th>\n",
       "      <th>Embarked</th>\n",
       "      <th>Title</th>\n",
       "      <th>Surname</th>\n",
       "      <th>Name_match_size</th>\n",
       "      <th>Surname_count_status</th>\n",
       "      <th>Family_size</th>\n",
       "      <th>Status</th>\n",
       "      <th>Cabin_letter</th>\n",
       "    </tr>\n",
       "  </thead>\n",
       "  <tbody>\n",
       "    <tr>\n",
       "      <th>78</th>\n",
       "      <td>79</td>\n",
       "      <td>1</td>\n",
       "      <td>2</td>\n",
       "      <td>Caldwell, Master. Alden Gates</td>\n",
       "      <td>male</td>\n",
       "      <td>0.83</td>\n",
       "      <td>0</td>\n",
       "      <td>2</td>\n",
       "      <td>248738</td>\n",
       "      <td>29.0000</td>\n",
       "      <td>NaN</td>\n",
       "      <td>S</td>\n",
       "      <td>Master</td>\n",
       "      <td>Caldwell</td>\n",
       "      <td>2</td>\n",
       "      <td>Couple</td>\n",
       "      <td>2</td>\n",
       "      <td>0</td>\n",
       "      <td>U</td>\n",
       "    </tr>\n",
       "    <tr>\n",
       "      <th>305</th>\n",
       "      <td>306</td>\n",
       "      <td>1</td>\n",
       "      <td>1</td>\n",
       "      <td>Allison, Master. Hudson Trevor</td>\n",
       "      <td>male</td>\n",
       "      <td>0.92</td>\n",
       "      <td>1</td>\n",
       "      <td>2</td>\n",
       "      <td>113781</td>\n",
       "      <td>151.5500</td>\n",
       "      <td>C22 C26</td>\n",
       "      <td>S</td>\n",
       "      <td>Master</td>\n",
       "      <td>Allison</td>\n",
       "      <td>3</td>\n",
       "      <td>Family</td>\n",
       "      <td>3</td>\n",
       "      <td>0</td>\n",
       "      <td>C</td>\n",
       "    </tr>\n",
       "    <tr>\n",
       "      <th>469</th>\n",
       "      <td>470</td>\n",
       "      <td>1</td>\n",
       "      <td>3</td>\n",
       "      <td>Baclini, Miss. Helene Barbara</td>\n",
       "      <td>female</td>\n",
       "      <td>0.75</td>\n",
       "      <td>2</td>\n",
       "      <td>1</td>\n",
       "      <td>2666</td>\n",
       "      <td>19.2583</td>\n",
       "      <td>NaN</td>\n",
       "      <td>C</td>\n",
       "      <td>Miss</td>\n",
       "      <td>Baclini</td>\n",
       "      <td>4</td>\n",
       "      <td>Family</td>\n",
       "      <td>3</td>\n",
       "      <td>0</td>\n",
       "      <td>U</td>\n",
       "    </tr>\n",
       "    <tr>\n",
       "      <th>644</th>\n",
       "      <td>645</td>\n",
       "      <td>1</td>\n",
       "      <td>3</td>\n",
       "      <td>Baclini, Miss. Eugenie</td>\n",
       "      <td>female</td>\n",
       "      <td>0.75</td>\n",
       "      <td>2</td>\n",
       "      <td>1</td>\n",
       "      <td>2666</td>\n",
       "      <td>19.2583</td>\n",
       "      <td>NaN</td>\n",
       "      <td>C</td>\n",
       "      <td>Miss</td>\n",
       "      <td>Baclini</td>\n",
       "      <td>4</td>\n",
       "      <td>Family</td>\n",
       "      <td>3</td>\n",
       "      <td>0</td>\n",
       "      <td>U</td>\n",
       "    </tr>\n",
       "    <tr>\n",
       "      <th>755</th>\n",
       "      <td>756</td>\n",
       "      <td>1</td>\n",
       "      <td>2</td>\n",
       "      <td>Hamalainen, Master. Viljo</td>\n",
       "      <td>male</td>\n",
       "      <td>0.67</td>\n",
       "      <td>1</td>\n",
       "      <td>1</td>\n",
       "      <td>250649</td>\n",
       "      <td>14.5000</td>\n",
       "      <td>NaN</td>\n",
       "      <td>S</td>\n",
       "      <td>Master</td>\n",
       "      <td>Hamalainen</td>\n",
       "      <td>2</td>\n",
       "      <td>Couple</td>\n",
       "      <td>2</td>\n",
       "      <td>0</td>\n",
       "      <td>U</td>\n",
       "    </tr>\n",
       "    <tr>\n",
       "      <th>803</th>\n",
       "      <td>804</td>\n",
       "      <td>1</td>\n",
       "      <td>3</td>\n",
       "      <td>Thomas, Master. Assad Alexander</td>\n",
       "      <td>male</td>\n",
       "      <td>0.42</td>\n",
       "      <td>0</td>\n",
       "      <td>1</td>\n",
       "      <td>2625</td>\n",
       "      <td>8.5167</td>\n",
       "      <td>NaN</td>\n",
       "      <td>C</td>\n",
       "      <td>Master</td>\n",
       "      <td>Thomas</td>\n",
       "      <td>1</td>\n",
       "      <td>Solo</td>\n",
       "      <td>1</td>\n",
       "      <td>0</td>\n",
       "      <td>U</td>\n",
       "    </tr>\n",
       "    <tr>\n",
       "      <th>831</th>\n",
       "      <td>832</td>\n",
       "      <td>1</td>\n",
       "      <td>2</td>\n",
       "      <td>Richards, Master. George Sibley</td>\n",
       "      <td>male</td>\n",
       "      <td>0.83</td>\n",
       "      <td>1</td>\n",
       "      <td>1</td>\n",
       "      <td>29106</td>\n",
       "      <td>18.7500</td>\n",
       "      <td>NaN</td>\n",
       "      <td>S</td>\n",
       "      <td>Master</td>\n",
       "      <td>Richards</td>\n",
       "      <td>3</td>\n",
       "      <td>Family</td>\n",
       "      <td>2</td>\n",
       "      <td>0</td>\n",
       "      <td>U</td>\n",
       "    </tr>\n",
       "  </tbody>\n",
       "</table>\n",
       "</div>"
      ],
      "text/plain": [
       "     PassengerId  Survived  Pclass                             Name     Sex  \\\n",
       "78            79         1       2    Caldwell, Master. Alden Gates    male   \n",
       "305          306         1       1   Allison, Master. Hudson Trevor    male   \n",
       "469          470         1       3    Baclini, Miss. Helene Barbara  female   \n",
       "644          645         1       3           Baclini, Miss. Eugenie  female   \n",
       "755          756         1       2        Hamalainen, Master. Viljo    male   \n",
       "803          804         1       3  Thomas, Master. Assad Alexander    male   \n",
       "831          832         1       2  Richards, Master. George Sibley    male   \n",
       "\n",
       "      Age  SibSp  Parch  Ticket      Fare    Cabin Embarked   Title  \\\n",
       "78   0.83      0      2  248738   29.0000      NaN        S  Master   \n",
       "305  0.92      1      2  113781  151.5500  C22 C26        S  Master   \n",
       "469  0.75      2      1    2666   19.2583      NaN        C    Miss   \n",
       "644  0.75      2      1    2666   19.2583      NaN        C    Miss   \n",
       "755  0.67      1      1  250649   14.5000      NaN        S  Master   \n",
       "803  0.42      0      1    2625    8.5167      NaN        C  Master   \n",
       "831  0.83      1      1   29106   18.7500      NaN        S  Master   \n",
       "\n",
       "        Surname  Name_match_size Surname_count_status  Family_size  Status  \\\n",
       "78     Caldwell                2               Couple            2       0   \n",
       "305     Allison                3               Family            3       0   \n",
       "469     Baclini                4               Family            3       0   \n",
       "644     Baclini                4               Family            3       0   \n",
       "755  Hamalainen                2               Couple            2       0   \n",
       "803      Thomas                1                 Solo            1       0   \n",
       "831    Richards                3               Family            2       0   \n",
       "\n",
       "    Cabin_letter  \n",
       "78             U  \n",
       "305            C  \n",
       "469            U  \n",
       "644            U  \n",
       "755            U  \n",
       "803            U  \n",
       "831            U  "
      ]
     },
     "execution_count": 45,
     "metadata": {},
     "output_type": "execute_result"
    }
   ],
   "source": [
    "titanic_df[titanic_df['Age'] < 1]"
   ]
  },
  {
   "cell_type": "markdown",
   "metadata": {},
   "source": [
    "The 'master' in the names of the males is consistent with the data - master being the prefix of a young, unmarried male.\n",
    "\n",
    "To check further, Googled all names, all were young babied (and, fortunately all survived).\n",
    "\n"
   ]
  },
  {
   "cell_type": "markdown",
   "metadata": {},
   "source": [
    "Let's look at survivability per age, to see if there are any overall trends:"
   ]
  },
  {
   "cell_type": "code",
   "execution_count": 46,
   "metadata": {
    "collapsed": true
   },
   "outputs": [],
   "source": [
    "survived_per_age = pd.pivot_table(titanic_df[['Age','Survived']], index='Age', columns='Survived', fill_value=0, aggfunc=lambda x: len(x))"
   ]
  },
  {
   "cell_type": "code",
   "execution_count": 47,
   "metadata": {
    "collapsed": true
   },
   "outputs": [],
   "source": [
    "def calc_survival(input_row):\n",
    "    print input_row.iloc[0,:]\n",
    "    if input_row.iloc[:0] is None:\n",
    "        return 1\n",
    "    elif input_row.iloc[:0] is None:\n",
    "        return 0\n",
    "    else:\n",
    "        return input_row.iloc[1:] / ( input_row.iloc[0:] + input_row.iloc[1:] )\n",
    "    #print input_row.iloc[0:]"
   ]
  },
  {
   "cell_type": "code",
   "execution_count": 48,
   "metadata": {
    "collapsed": true
   },
   "outputs": [],
   "source": [
    "survived_per_age['Survived_perc'] = 0.0\n",
    "survived_per_age['Survived_perc'] = survived_per_age.apply(lambda x: 1. if x[0] == 0 else 0. if x[1] == 0 else (x[1]/(x[0]+x[1])), axis=1)"
   ]
  },
  {
   "cell_type": "code",
   "execution_count": 49,
   "metadata": {},
   "outputs": [
    {
     "data": {
      "text/plain": [
       "<matplotlib.axes._subplots.AxesSubplot at 0x7efdfeb1ec10>"
      ]
     },
     "execution_count": 49,
     "metadata": {},
     "output_type": "execute_result"
    },
    {
     "data": {
      "image/png": "[encoded data removed]",
      "text/plain": [
       "<matplotlib.figure.Figure at 0x7efdfebd72d0>"
      ]
     },
     "metadata": {},
     "output_type": "display_data"
    }
   ],
   "source": [
    "survived_per_age['Survived_perc'].plot()"
   ]
  },
  {
   "cell_type": "markdown",
   "metadata": {},
   "source": [
    "Overall, the data is very jumpy (due to certain ages having few people). There seems to be a downward trend overall though. Let's combine ages into buckets to see if the trends become clearer:"
   ]
  },
  {
   "cell_type": "code",
   "execution_count": 51,
   "metadata": {},
   "outputs": [
    {
     "name": "stderr",
     "output_type": "stream",
     "text": [
      "/usr/local/lib/python2.7/dist-packages/ipykernel_launcher.py:4: SettingWithCopyWarning: \n",
      "A value is trying to be set on a copy of a slice from a DataFrame.\n",
      "Try using .loc[row_indexer,col_indexer] = value instead\n",
      "\n",
      "See the caveats in the documentation: http://pandas.pydata.org/pandas-docs/stable/indexing.html#indexing-view-versus-copy\n",
      "  after removing the cwd from sys.path.\n"
     ]
    }
   ],
   "source": [
    "age_survived = titanic_df[['Age','Survived']]\n",
    "age_range = range(0,100,5)\n",
    "age_names = [str(age) +  \" < age <= \" + str(age + 5) for age in age_range[0:-1]]\n",
    "age_survived['Age_grouped_5'] = pd.cut(titanic_df['Age'], age_range, labels = age_names)"
   ]
  },
  {
   "cell_type": "code",
   "execution_count": 52,
   "metadata": {
    "scrolled": false
   },
   "outputs": [
    {
     "name": "stderr",
     "output_type": "stream",
     "text": [
      "/usr/local/lib/python2.7/dist-packages/ipykernel_launcher.py:1: SettingWithCopyWarning: \n",
      "A value is trying to be set on a copy of a slice from a DataFrame\n",
      "\n",
      "See the caveats in the documentation: http://pandas.pydata.org/pandas-docs/stable/indexing.html#indexing-view-versus-copy\n",
      "  \"\"\"Entry point for launching an IPython kernel.\n"
     ]
    }
   ],
   "source": [
    "age_survived.dropna(inplace=True)"
   ]
  },
  {
   "cell_type": "code",
   "execution_count": 53,
   "metadata": {
    "collapsed": true
   },
   "outputs": [],
   "source": [
    "age_survived_grouped = pd.pivot_table(age_survived[['Age_grouped_5','Survived']],index = 'Age_grouped_5',columns='Survived', fill_value=0, aggfunc=lambda x: len(x))"
   ]
  },
  {
   "cell_type": "code",
   "execution_count": 54,
   "metadata": {
    "collapsed": true
   },
   "outputs": [],
   "source": [
    "age_survived_grouped['Survived_perc'] = 0.0\n",
    "age_survived_grouped['Survived_perc'] = age_survived_grouped.apply(lambda x: 0. if x[1] == 0 else 1. if x[0] == 0 else x[1]/(x[0]+x[1]), axis=1)"
   ]
  },
  {
   "cell_type": "code",
   "execution_count": 55,
   "metadata": {},
   "outputs": [
    {
     "data": {
      "text/plain": [
       "<matplotlib.axes._subplots.AxesSubplot at 0x7efdfea188d0>"
      ]
     },
     "execution_count": 55,
     "metadata": {},
     "output_type": "execute_result"
    },
    {
     "data": {
      "image/png": "[encoded data removed]",
      "text/plain": [
       "<matplotlib.figure.Figure at 0x7efdfeacf4d0>"
      ]
     },
     "metadata": {},
     "output_type": "display_data"
    }
   ],
   "source": [
    "age_survived_grouped['Survived_perc'].plot(figsize=(15,10))"
   ]
  },
  {
   "cell_type": "code",
   "execution_count": 56,
   "metadata": {
    "scrolled": true
   },
   "outputs": [
    {
     "data": {
      "text/html": [
       "<div>\n",
       "<style>\n",
       "    .dataframe thead tr:only-child th {\n",
       "        text-align: right;\n",
       "    }\n",
       "\n",
       "    .dataframe thead th {\n",
       "        text-align: left;\n",
       "    }\n",
       "\n",
       "    .dataframe tbody tr th {\n",
       "        vertical-align: top;\n",
       "    }\n",
       "</style>\n",
       "<table border=\"1\" class=\"dataframe\">\n",
       "  <thead>\n",
       "    <tr style=\"text-align: right;\">\n",
       "      <th>Survived</th>\n",
       "      <th>0</th>\n",
       "      <th>1</th>\n",
       "      <th>Survived_perc</th>\n",
       "    </tr>\n",
       "    <tr>\n",
       "      <th>Age_grouped_5</th>\n",
       "      <th></th>\n",
       "      <th></th>\n",
       "      <th></th>\n",
       "    </tr>\n",
       "  </thead>\n",
       "  <tbody>\n",
       "    <tr>\n",
       "      <th>0 &lt; age &lt;= 5</th>\n",
       "      <td>13</td>\n",
       "      <td>31</td>\n",
       "      <td>0.704545</td>\n",
       "    </tr>\n",
       "    <tr>\n",
       "      <th>10 &lt; age &lt;= 15</th>\n",
       "      <td>8</td>\n",
       "      <td>11</td>\n",
       "      <td>0.578947</td>\n",
       "    </tr>\n",
       "    <tr>\n",
       "      <th>15 &lt; age &lt;= 20</th>\n",
       "      <td>63</td>\n",
       "      <td>33</td>\n",
       "      <td>0.343750</td>\n",
       "    </tr>\n",
       "    <tr>\n",
       "      <th>20 &lt; age &lt;= 25</th>\n",
       "      <td>80</td>\n",
       "      <td>42</td>\n",
       "      <td>0.344262</td>\n",
       "    </tr>\n",
       "    <tr>\n",
       "      <th>25 &lt; age &lt;= 30</th>\n",
       "      <td>66</td>\n",
       "      <td>42</td>\n",
       "      <td>0.388889</td>\n",
       "    </tr>\n",
       "    <tr>\n",
       "      <th>30 &lt; age &lt;= 35</th>\n",
       "      <td>47</td>\n",
       "      <td>41</td>\n",
       "      <td>0.465909</td>\n",
       "    </tr>\n",
       "  </tbody>\n",
       "</table>\n",
       "</div>"
      ],
      "text/plain": [
       "Survived         0   1  Survived_perc\n",
       "Age_grouped_5                        \n",
       "0 < age <= 5    13  31       0.704545\n",
       "10 < age <= 15   8  11       0.578947\n",
       "15 < age <= 20  63  33       0.343750\n",
       "20 < age <= 25  80  42       0.344262\n",
       "25 < age <= 30  66  42       0.388889\n",
       "30 < age <= 35  47  41       0.465909"
      ]
     },
     "execution_count": 56,
     "metadata": {},
     "output_type": "execute_result"
    }
   ],
   "source": [
    "age_survived_grouped.head(6)"
   ]
  },
  {
   "cell_type": "markdown",
   "metadata": {},
   "source": [
    "Overall we see the 0 < age <= 5 doing well, as you would hope, but after 10 things are relatively flat.\n",
    "\n",
    "I'm not sure if creating a <10 category for children would be valuable, or, if the standardised age will capture that in regression?"
   ]
  },
  {
   "cell_type": "markdown",
   "metadata": {},
   "source": [
    "The simplest method of impution would be the mean or median, let's look at those:"
   ]
  },
  {
   "cell_type": "code",
   "execution_count": 57,
   "metadata": {},
   "outputs": [
    {
     "name": "stdout",
     "output_type": "stream",
     "text": [
      "('Mean: ', 29.69911764705882)\n",
      "('Median: ', 28.0)\n"
     ]
    }
   ],
   "source": [
    "print(\"Mean: \",titanic_df['Age'].mean())\n",
    "print(\"Median: \",titanic_df['Age'].median())"
   ]
  },
  {
   "cell_type": "markdown",
   "metadata": {},
   "source": [
    "If we break down by gender do those numbers change, and become more accurate?"
   ]
  },
  {
   "cell_type": "code",
   "execution_count": 58,
   "metadata": {},
   "outputs": [
    {
     "name": "stdout",
     "output_type": "stream",
     "text": [
      "Sex\n",
      "female    27.915709\n",
      "male      30.726645\n",
      "Name: Age, dtype: float64\n",
      "Sex\n",
      "female    27.0\n",
      "male      29.0\n",
      "Name: Age, dtype: float64\n"
     ]
    }
   ],
   "source": [
    "print titanic_df.groupby(['Sex']).mean()['Age']\n",
    "print titanic_df.groupby(['Sex']).median()['Age']"
   ]
  },
  {
   "cell_type": "markdown",
   "metadata": {},
   "source": [
    "What about gender, ticket class and survival?"
   ]
  },
  {
   "cell_type": "code",
   "execution_count": 59,
   "metadata": {},
   "outputs": [
    {
     "name": "stdout",
     "output_type": "stream",
     "text": [
      "Sex     Pclass  Survived\n",
      "female  1       0           25.0\n",
      "                1           35.0\n",
      "        2       0           32.5\n",
      "                1           28.0\n",
      "        3       0           22.0\n",
      "                1           19.0\n",
      "male    1       0           45.5\n",
      "                1           36.0\n",
      "        2       0           30.5\n",
      "                1            3.0\n",
      "        3       0           25.0\n",
      "                1           25.0\n",
      "Name: Age, dtype: float64\n",
      "Sex     Pclass  Survived\n",
      "female  1       0             3\n",
      "                1            82\n",
      "        2       0             6\n",
      "                1            68\n",
      "        3       0            55\n",
      "                1            47\n",
      "male    1       0            61\n",
      "                1            40\n",
      "        2       0            84\n",
      "                1            15\n",
      "        3       0           215\n",
      "                1            38\n",
      "Name: Age, dtype: int64\n"
     ]
    }
   ],
   "source": [
    "grouped = titanic_df.groupby(['Sex','Pclass','Survived'])\n",
    "print grouped['Age'].median()\n",
    "print grouped['Age'].count()"
   ]
  },
  {
   "cell_type": "markdown",
   "metadata": {},
   "source": [
    "As the categories are broken down more, the data potentially comes more precise, it starts to become a variance / bias trade off...\n",
    "\n",
    "The code to impute the missing ages based on these categories is below, but I ended up taking a different route.."
   ]
  },
  {
   "cell_type": "code",
   "execution_count": 60,
   "metadata": {
    "collapsed": true
   },
   "outputs": [],
   "source": [
    "# CODE TO AUTOFILL BASED ON SEX/CLASS\n",
    "\n",
    "# missing_ages = titanic_df[titanic_df['Age'].isnull()]\n",
    "# # determine mean age based on Sex and Pclass\n",
    "# mean_ages = titanic_df.groupby(['Sex','Pclass'])['Age'].mean()\n",
    "\n",
    "# def remove_na_ages(row):\n",
    "#     '''\n",
    "#     function to check if the age is null and replace wth the mean from \n",
    "#     the mean ages dataframe \n",
    "#     '''\n",
    "#     if pd.isnull(row['Age']):\n",
    "#         return mean_ages[row['Sex'],row['Pclass']]\n",
    "#     else:\n",
    "#         return row['Age']\n",
    "\n",
    "# titanic_df['Age'] = titanic_df.apply(remove_na_ages, axis=1)\n"
   ]
  },
  {
   "cell_type": "markdown",
   "metadata": {},
   "source": [
    "As the missing data does exist online, lets try to scrape it from a more comprehensive source, and include it into the dataframe!\n",
    "\n",
    "Firstly, lets download a webpage with all the ages:"
   ]
  },
  {
   "cell_type": "code",
   "execution_count": 61,
   "metadata": {
    "collapsed": true
   },
   "outputs": [],
   "source": [
    "from bs4 import BeautifulSoup\n",
    "import requests\n",
    "\n",
    "r = requests.get('http://www.titanicfacts.net/titanic-passenger-list.html')\n",
    "\n",
    "soup = BeautifulSoup(r.text, 'html.parser')"
   ]
  },
  {
   "cell_type": "markdown",
   "metadata": {},
   "source": [
    "And scrape the names and ages:"
   ]
  },
  {
   "cell_type": "code",
   "execution_count": 62,
   "metadata": {
    "collapsed": true
   },
   "outputs": [],
   "source": [
    "ext_name_dict = {}\n",
    "\n",
    "#def removeNonAscii(s): return \"\".join(i for i in s if ord(i)<128)\n",
    "\n",
    "tables = soup.find_all(\"table\", width=\"100%\")\n",
    "\n",
    "for tr in tables:\n",
    "    for row in tr.find_all('tr'):\n",
    "        if row.find(\"td\", { \"class\" : \"surname\" }):\n",
    "            #print row        \n",
    "            name = row.find_all('td')[0].text + \", \" + row.find_all('td')[1].text\n",
    "            #name = removeNonAscii(name)\n",
    "            #name = name.encode('ascii','replace')\n",
    "            #name = name.replace(\"??\",' ')\n",
    "            name = name.encode('utf-8')\n",
    "            name = name.replace(\"Â\",'')\n",
    "            name = str(name)\n",
    "            age = row.find_all('td')[2].text\n",
    "            ext_name_dict[name] = age"
   ]
  },
  {
   "cell_type": "markdown",
   "metadata": {},
   "source": [
    "Next up, we need to match the names between the two sources, which won't be a simple binary match due to the complexity of the data (e.g. names, titles, international spellings etc).\n",
    "\n",
    "To calculate the best matches, let's use the Levenshtein distance:"
   ]
  },
  {
   "cell_type": "code",
   "execution_count": 64,
   "metadata": {},
   "outputs": [
    {
     "data": {
      "text/plain": [
       "1L"
      ]
     },
     "execution_count": 64,
     "metadata": {},
     "output_type": "execute_result"
    }
   ],
   "source": [
    "import editdistance\n",
    "\n",
    "#Here is an example, with a simple discreprancy (a missing full stop):\n",
    "editdistance.eval('Sutehall, Mr. Henry Jr', 'Sutehall, Mr Henry Jr')"
   ]
  },
  {
   "cell_type": "markdown",
   "metadata": {},
   "source": [
    "Now, lets find the best match for each name in the dataframe missing an age.\n",
    "\n",
    "The internal workings of the code look something like this:"
   ]
  },
  {
   "cell_type": "code",
   "execution_count": 65,
   "metadata": {
    "collapsed": true
   },
   "outputs": [],
   "source": [
    "#864 Sage, Miss. Dorothy Edith \"Dolly\" |Myhrman, Mr Pehr Fabian Oliver Malkolm 33\n",
    "#864 Sage, Miss. Dorothy Edith \"Dolly\" |Coutts, Master Neville Leslie 28\n",
    "#864 Sage, Miss. Dorothy Edith \"Dolly\" |Compton, Miss Sara Rebecca 27\n",
    "#864 Sage, Miss. Dorothy Edith \"Dolly\" |Nasser, Mrs Adele 27\n",
    "#864 Sage, Miss. Dorothy Edith \"Dolly\" |Allen, Mr William Henry 26\n",
    "#864 Sage, Miss. Dorothy Edith \"Dolly\" |Toomey, Miss Ellen Mary 25\n",
    "#864 Sage, Miss. Dorothy Edith \"Dolly\" |Eustis, Miss Elizabeth Mussey 24\n",
    "#864 Sage, Miss. Dorothy Edith \"Dolly\" |Rosenbaum, Miss Edith Louise 23\n",
    "#864 Sage, Miss. Dorothy Edith \"Dolly\" |Gibson, Miss Dorothy Winifred 19\n",
    "#864 Sage, Miss. Dorothy Edith \"Dolly\" |Sage, Miss Dorothy 16"
   ]
  },
  {
   "cell_type": "code",
   "execution_count": 66,
   "metadata": {
    "collapsed": true
   },
   "outputs": [],
   "source": [
    "names_with_no_age = pd.DataFrame(titanic_df[titanic_df['Age'].isnull()]['Name'])\n",
    "\n",
    "Name = \"Petroff, Mr. Pastcho (\\\"Pentcho\\\")\"\n",
    "Name = Name.replace(\".\",'')\n",
    "\n",
    "closest_match_dict = {}\n",
    "\n",
    "for PassengerID, Name in names_with_no_age.iterrows():\n",
    "    closest_match_score = 1000\n",
    "    for name, age in ext_name_dict.iteritems():\n",
    "        if int(str(editdistance.eval(Name[0].replace(\".\",\"\"), name))) < closest_match_score:\n",
    "            closest_match_score = int(str(editdistance.eval(Name[0], name)))\n",
    "            #print PassengerID, Name[0], \"|\" + name, closest_match_score\n",
    "            closest_match_dict[PassengerID] = age"
   ]
  },
  {
   "cell_type": "markdown",
   "metadata": {
    "collapsed": true
   },
   "source": [
    "Now, with best matches found, lets apply the matches ages to the dataframe:"
   ]
  },
  {
   "cell_type": "code",
   "execution_count": 67,
   "metadata": {
    "collapsed": true
   },
   "outputs": [],
   "source": [
    "for idx, age in closest_match_dict.iteritems():\n",
    "    #DataFrame.set_value(index, col, value, takeable=False)\n",
    "    titanic_df.set_value(idx, 'Age', int(age))"
   ]
  },
  {
   "cell_type": "code",
   "execution_count": 68,
   "metadata": {},
   "outputs": [
    {
     "data": {
      "text/plain": [
       "PassengerId               0\n",
       "Survived                  0\n",
       "Pclass                    0\n",
       "Name                      0\n",
       "Sex                       0\n",
       "Age                       0\n",
       "SibSp                     0\n",
       "Parch                     0\n",
       "Ticket                    0\n",
       "Fare                      0\n",
       "Cabin                   687\n",
       "Embarked                  0\n",
       "Title                     0\n",
       "Surname                   0\n",
       "Name_match_size           0\n",
       "Surname_count_status      0\n",
       "Family_size               0\n",
       "Status                    0\n",
       "Cabin_letter              0\n",
       "dtype: int64"
      ]
     },
     "execution_count": 68,
     "metadata": {},
     "output_type": "execute_result"
    }
   ],
   "source": [
    "titanic_df.isnull().sum()"
   ]
  },
  {
   "cell_type": "markdown",
   "metadata": {},
   "source": [
    "Now, all data is imputed, apart from the missing cabins which will be dropped, and replaced with a 'cabin letter' dummy. Lets see if any other features can be created."
   ]
  },
  {
   "cell_type": "markdown",
   "metadata": {},
   "source": [
    "The 'Ticket' field is another one with some extremely difficult to parse, inconsistent data, but, perhaps the number of tickets could signify a group, and thus create value?"
   ]
  },
  {
   "cell_type": "code",
   "execution_count": 69,
   "metadata": {
    "collapsed": true
   },
   "outputs": [],
   "source": [
    "ticket_counts = titanic_df['Ticket'].value_counts()"
   ]
  },
  {
   "cell_type": "code",
   "execution_count": 70,
   "metadata": {
    "collapsed": true
   },
   "outputs": [],
   "source": [
    "titanic_df['Ticket_count'] = np.NaN"
   ]
  },
  {
   "cell_type": "code",
   "execution_count": 71,
   "metadata": {
    "collapsed": true
   },
   "outputs": [],
   "source": [
    "for idx,val in ticket_counts.iteritems():\n",
    "    titanic_df.loc[titanic_df['Ticket'] == idx, 'Ticket_count'] = val"
   ]
  },
  {
   "cell_type": "code",
   "execution_count": 72,
   "metadata": {},
   "outputs": [
    {
     "data": {
      "text/html": [
       "<div>\n",
       "<style>\n",
       "    .dataframe thead tr:only-child th {\n",
       "        text-align: right;\n",
       "    }\n",
       "\n",
       "    .dataframe thead th {\n",
       "        text-align: left;\n",
       "    }\n",
       "\n",
       "    .dataframe tbody tr th {\n",
       "        vertical-align: top;\n",
       "    }\n",
       "</style>\n",
       "<table border=\"1\" class=\"dataframe\">\n",
       "  <thead>\n",
       "    <tr style=\"text-align: right;\">\n",
       "      <th></th>\n",
       "      <th>Name</th>\n",
       "      <th>Pclass</th>\n",
       "      <th>Ticket</th>\n",
       "      <th>Fare</th>\n",
       "      <th>Ticket_count</th>\n",
       "    </tr>\n",
       "  </thead>\n",
       "  <tbody>\n",
       "    <tr>\n",
       "      <th>257</th>\n",
       "      <td>Cherry, Miss. Gladys</td>\n",
       "      <td>1</td>\n",
       "      <td>110152</td>\n",
       "      <td>86.50</td>\n",
       "      <td>3.0</td>\n",
       "    </tr>\n",
       "    <tr>\n",
       "      <th>759</th>\n",
       "      <td>Rothes, the Countess. of (Lucy Noel Martha Dye...</td>\n",
       "      <td>1</td>\n",
       "      <td>110152</td>\n",
       "      <td>86.50</td>\n",
       "      <td>3.0</td>\n",
       "    </tr>\n",
       "    <tr>\n",
       "      <th>504</th>\n",
       "      <td>Maioni, Miss. Roberta</td>\n",
       "      <td>1</td>\n",
       "      <td>110152</td>\n",
       "      <td>86.50</td>\n",
       "      <td>3.0</td>\n",
       "    </tr>\n",
       "    <tr>\n",
       "      <th>262</th>\n",
       "      <td>Taussig, Mr. Emil</td>\n",
       "      <td>1</td>\n",
       "      <td>110413</td>\n",
       "      <td>79.65</td>\n",
       "      <td>3.0</td>\n",
       "    </tr>\n",
       "    <tr>\n",
       "      <th>558</th>\n",
       "      <td>Taussig, Mrs. Emil (Tillie Mandelbaum)</td>\n",
       "      <td>1</td>\n",
       "      <td>110413</td>\n",
       "      <td>79.65</td>\n",
       "      <td>3.0</td>\n",
       "    </tr>\n",
       "    <tr>\n",
       "      <th>585</th>\n",
       "      <td>Taussig, Miss. Ruth</td>\n",
       "      <td>1</td>\n",
       "      <td>110413</td>\n",
       "      <td>79.65</td>\n",
       "      <td>3.0</td>\n",
       "    </tr>\n",
       "  </tbody>\n",
       "</table>\n",
       "</div>"
      ],
      "text/plain": [
       "                                                  Name  Pclass  Ticket   Fare  \\\n",
       "257                               Cherry, Miss. Gladys       1  110152  86.50   \n",
       "759  Rothes, the Countess. of (Lucy Noel Martha Dye...       1  110152  86.50   \n",
       "504                              Maioni, Miss. Roberta       1  110152  86.50   \n",
       "262                                  Taussig, Mr. Emil       1  110413  79.65   \n",
       "558             Taussig, Mrs. Emil (Tillie Mandelbaum)       1  110413  79.65   \n",
       "585                                Taussig, Miss. Ruth       1  110413  79.65   \n",
       "\n",
       "     Ticket_count  \n",
       "257           3.0  \n",
       "759           3.0  \n",
       "504           3.0  \n",
       "262           3.0  \n",
       "558           3.0  \n",
       "585           3.0  "
      ]
     },
     "execution_count": 72,
     "metadata": {},
     "output_type": "execute_result"
    }
   ],
   "source": [
    "titanic_df[titanic_df['Ticket_count']>1][['Name','Pclass','Ticket','Fare','Ticket_count']].sort_values(by='Ticket').head(6)"
   ]
  },
  {
   "cell_type": "markdown",
   "metadata": {},
   "source": [
    "Now, all ticket groups are captured by the ticket_count variable."
   ]
  },
  {
   "cell_type": "markdown",
   "metadata": {},
   "source": [
    "The next question is whether ticket price is for the ticket, or the set of tickets?\n",
    "\n",
    "Let's create a price per ticket feature, from the ticket_count and fare, if this is the case."
   ]
  },
  {
   "cell_type": "code",
   "execution_count": 73,
   "metadata": {
    "collapsed": true
   },
   "outputs": [],
   "source": [
    "titanic_df['Fare_per_ticket'] = titanic_df['Fare'] / titanic_df['Ticket_count']"
   ]
  },
  {
   "cell_type": "code",
   "execution_count": 74,
   "metadata": {},
   "outputs": [
    {
     "name": "stdout",
     "output_type": "stream",
     "text": [
      "Pclass\n",
      "1    84.154687\n",
      "2    20.662183\n",
      "3    13.675550\n",
      "Name: Fare, dtype: float64\n",
      "Pclass\n",
      "1    43.650347\n",
      "2    13.322599\n",
      "3     8.085857\n",
      "Name: Fare_per_ticket, dtype: float64\n"
     ]
    }
   ],
   "source": [
    "print titanic_df.groupby(['Pclass']).mean()['Fare']\n",
    "print titanic_df.groupby(['Pclass']).mean()['Fare_per_ticket']"
   ]
  },
  {
   "cell_type": "markdown",
   "metadata": {},
   "source": [
    "Lets see, when normalised, if one has a stronger connection to survival."
   ]
  },
  {
   "cell_type": "markdown",
   "metadata": {},
   "source": [
    "It would be interesting to model prices in inflation adjusted sterling, which would be more interpretable, but, mathematically, as all the values will be normalised, there would be no statistical impact on the model."
   ]
  },
  {
   "cell_type": "code",
   "execution_count": 75,
   "metadata": {
    "collapsed": true
   },
   "outputs": [],
   "source": [
    "# turn gender into numeric\n",
    "titanic_df['Male'] = titanic_df['Sex'].map({'male':1,'female':0})"
   ]
  },
  {
   "cell_type": "code",
   "execution_count": 76,
   "metadata": {},
   "outputs": [
    {
     "data": {
      "text/html": [
       "<div>\n",
       "<style>\n",
       "    .dataframe thead tr:only-child th {\n",
       "        text-align: right;\n",
       "    }\n",
       "\n",
       "    .dataframe thead th {\n",
       "        text-align: left;\n",
       "    }\n",
       "\n",
       "    .dataframe tbody tr th {\n",
       "        vertical-align: top;\n",
       "    }\n",
       "</style>\n",
       "<table border=\"1\" class=\"dataframe\">\n",
       "  <thead>\n",
       "    <tr style=\"text-align: right;\">\n",
       "      <th></th>\n",
       "      <th>Name</th>\n",
       "      <th>Sex</th>\n",
       "      <th>Male</th>\n",
       "    </tr>\n",
       "  </thead>\n",
       "  <tbody>\n",
       "    <tr>\n",
       "      <th>0</th>\n",
       "      <td>Braund, Mr. Owen Harris</td>\n",
       "      <td>male</td>\n",
       "      <td>1</td>\n",
       "    </tr>\n",
       "    <tr>\n",
       "      <th>1</th>\n",
       "      <td>Cumings, Mrs. John Bradley (Florence Briggs Th...</td>\n",
       "      <td>female</td>\n",
       "      <td>0</td>\n",
       "    </tr>\n",
       "    <tr>\n",
       "      <th>2</th>\n",
       "      <td>Heikkinen, Miss. Laina</td>\n",
       "      <td>female</td>\n",
       "      <td>0</td>\n",
       "    </tr>\n",
       "  </tbody>\n",
       "</table>\n",
       "</div>"
      ],
      "text/plain": [
       "                                                Name     Sex  Male\n",
       "0                            Braund, Mr. Owen Harris    male     1\n",
       "1  Cumings, Mrs. John Bradley (Florence Briggs Th...  female     0\n",
       "2                             Heikkinen, Miss. Laina  female     0"
      ]
     },
     "execution_count": 76,
     "metadata": {},
     "output_type": "execute_result"
    }
   ],
   "source": [
    "# check if it worked:\n",
    "titanic_df[['Name','Sex','Male']].head(3)"
   ]
  },
  {
   "cell_type": "code",
   "execution_count": 77,
   "metadata": {},
   "outputs": [
    {
     "data": {
      "text/html": [
       "<div>\n",
       "<style>\n",
       "    .dataframe thead tr:only-child th {\n",
       "        text-align: right;\n",
       "    }\n",
       "\n",
       "    .dataframe thead th {\n",
       "        text-align: left;\n",
       "    }\n",
       "\n",
       "    .dataframe tbody tr th {\n",
       "        vertical-align: top;\n",
       "    }\n",
       "</style>\n",
       "<table border=\"1\" class=\"dataframe\">\n",
       "  <thead>\n",
       "    <tr style=\"text-align: right;\">\n",
       "      <th></th>\n",
       "      <th>0</th>\n",
       "      <th>1</th>\n",
       "    </tr>\n",
       "  </thead>\n",
       "  <tbody>\n",
       "    <tr>\n",
       "      <th>PassengerId</th>\n",
       "      <td>1</td>\n",
       "      <td>2</td>\n",
       "    </tr>\n",
       "    <tr>\n",
       "      <th>Survived</th>\n",
       "      <td>0</td>\n",
       "      <td>1</td>\n",
       "    </tr>\n",
       "    <tr>\n",
       "      <th>Pclass</th>\n",
       "      <td>3</td>\n",
       "      <td>1</td>\n",
       "    </tr>\n",
       "    <tr>\n",
       "      <th>Name</th>\n",
       "      <td>Braund, Mr. Owen Harris</td>\n",
       "      <td>Cumings, Mrs. John Bradley (Florence Briggs Th...</td>\n",
       "    </tr>\n",
       "    <tr>\n",
       "      <th>Sex</th>\n",
       "      <td>male</td>\n",
       "      <td>female</td>\n",
       "    </tr>\n",
       "    <tr>\n",
       "      <th>Age</th>\n",
       "      <td>22</td>\n",
       "      <td>38</td>\n",
       "    </tr>\n",
       "    <tr>\n",
       "      <th>SibSp</th>\n",
       "      <td>1</td>\n",
       "      <td>1</td>\n",
       "    </tr>\n",
       "    <tr>\n",
       "      <th>Parch</th>\n",
       "      <td>0</td>\n",
       "      <td>0</td>\n",
       "    </tr>\n",
       "    <tr>\n",
       "      <th>Ticket</th>\n",
       "      <td>A/5 21171</td>\n",
       "      <td>PC 17599</td>\n",
       "    </tr>\n",
       "    <tr>\n",
       "      <th>Fare</th>\n",
       "      <td>7.25</td>\n",
       "      <td>71.2833</td>\n",
       "    </tr>\n",
       "    <tr>\n",
       "      <th>Cabin</th>\n",
       "      <td>NaN</td>\n",
       "      <td>C85</td>\n",
       "    </tr>\n",
       "    <tr>\n",
       "      <th>Embarked</th>\n",
       "      <td>S</td>\n",
       "      <td>C</td>\n",
       "    </tr>\n",
       "    <tr>\n",
       "      <th>Title</th>\n",
       "      <td>Mr</td>\n",
       "      <td>Mrs</td>\n",
       "    </tr>\n",
       "    <tr>\n",
       "      <th>Surname</th>\n",
       "      <td>Braund</td>\n",
       "      <td>Cumings</td>\n",
       "    </tr>\n",
       "    <tr>\n",
       "      <th>Name_match_size</th>\n",
       "      <td>2</td>\n",
       "      <td>1</td>\n",
       "    </tr>\n",
       "    <tr>\n",
       "      <th>Surname_count_status</th>\n",
       "      <td>Couple</td>\n",
       "      <td>Solo</td>\n",
       "    </tr>\n",
       "    <tr>\n",
       "      <th>Family_size</th>\n",
       "      <td>1</td>\n",
       "      <td>1</td>\n",
       "    </tr>\n",
       "    <tr>\n",
       "      <th>Status</th>\n",
       "      <td>0</td>\n",
       "      <td>0</td>\n",
       "    </tr>\n",
       "    <tr>\n",
       "      <th>Cabin_letter</th>\n",
       "      <td>U</td>\n",
       "      <td>C</td>\n",
       "    </tr>\n",
       "    <tr>\n",
       "      <th>Ticket_count</th>\n",
       "      <td>1</td>\n",
       "      <td>1</td>\n",
       "    </tr>\n",
       "    <tr>\n",
       "      <th>Fare_per_ticket</th>\n",
       "      <td>7.25</td>\n",
       "      <td>71.2833</td>\n",
       "    </tr>\n",
       "    <tr>\n",
       "      <th>Male</th>\n",
       "      <td>1</td>\n",
       "      <td>0</td>\n",
       "    </tr>\n",
       "  </tbody>\n",
       "</table>\n",
       "</div>"
      ],
      "text/plain": [
       "                                            0  \\\n",
       "PassengerId                                 1   \n",
       "Survived                                    0   \n",
       "Pclass                                      3   \n",
       "Name                  Braund, Mr. Owen Harris   \n",
       "Sex                                      male   \n",
       "Age                                        22   \n",
       "SibSp                                       1   \n",
       "Parch                                       0   \n",
       "Ticket                              A/5 21171   \n",
       "Fare                                     7.25   \n",
       "Cabin                                     NaN   \n",
       "Embarked                                    S   \n",
       "Title                                      Mr   \n",
       "Surname                                Braund   \n",
       "Name_match_size                             2   \n",
       "Surname_count_status                   Couple   \n",
       "Family_size                                 1   \n",
       "Status                                      0   \n",
       "Cabin_letter                                U   \n",
       "Ticket_count                                1   \n",
       "Fare_per_ticket                          7.25   \n",
       "Male                                        1   \n",
       "\n",
       "                                                                      1  \n",
       "PassengerId                                                           2  \n",
       "Survived                                                              1  \n",
       "Pclass                                                                1  \n",
       "Name                  Cumings, Mrs. John Bradley (Florence Briggs Th...  \n",
       "Sex                                                              female  \n",
       "Age                                                                  38  \n",
       "SibSp                                                                 1  \n",
       "Parch                                                                 0  \n",
       "Ticket                                                         PC 17599  \n",
       "Fare                                                            71.2833  \n",
       "Cabin                                                               C85  \n",
       "Embarked                                                              C  \n",
       "Title                                                               Mrs  \n",
       "Surname                                                         Cumings  \n",
       "Name_match_size                                                       1  \n",
       "Surname_count_status                                               Solo  \n",
       "Family_size                                                           1  \n",
       "Status                                                                0  \n",
       "Cabin_letter                                                          C  \n",
       "Ticket_count                                                          1  \n",
       "Fare_per_ticket                                                 71.2833  \n",
       "Male                                                                  0  "
      ]
     },
     "execution_count": 77,
     "metadata": {},
     "output_type": "execute_result"
    }
   ],
   "source": [
    "# Quick check to see the dataframe we are now working with :\n",
    "titanic_df.head(2).T"
   ]
  },
  {
   "cell_type": "markdown",
   "metadata": {},
   "source": [
    "Lots of text data left in the dataframe, which has been transformed into other columns. Lets clean this up:"
   ]
  },
  {
   "cell_type": "code",
   "execution_count": 78,
   "metadata": {
    "collapsed": true
   },
   "outputs": [],
   "source": [
    "# create new df to manipulate\n",
    "intermediate_df = titanic_df"
   ]
  },
  {
   "cell_type": "code",
   "execution_count": 79,
   "metadata": {
    "collapsed": true
   },
   "outputs": [],
   "source": [
    "# prepping the dummy data so the most logical, impactful value is the missing default\n",
    "\n",
    "# southampton as the departure point (most frequent)\n",
    "# solo as a surname count status (logical and most frequent)\n",
    "# U as the cabin letter (most frequent, and logical as U means missing) \n",
    "\n",
    "intermediate_df.loc[titanic_df['Embarked'] == 'S','Embarked'] = None\n",
    "intermediate_df.loc[titanic_df['Surname_count_status'] == 'Solo','Surname_count_status'] = None\n",
    "intermediate_df.loc[titanic_df['Cabin_letter'] == 'U','Cabin_letter'] = None"
   ]
  },
  {
   "cell_type": "code",
   "execution_count": 80,
   "metadata": {
    "collapsed": true
   },
   "outputs": [],
   "source": [
    "columns = ['index', 'Survived', 'Pclass', 'Name', 'Sex', 'Age', 'SibSp',\n",
    "       'Parch', 'Ticket', 'Fare', 'Cabin', 'Embarked', 'Title',\n",
    "       'Surname', 'Name_match_size', 'Surname_count_status', 'Family_size',\n",
    "       'Status', 'Cabin_letter', 'Ticket_count', 'Fare_per_ticket', 'Male']\n",
    "\n",
    "target_column = ['Survived']\n",
    "\n",
    "numeric_columns = ['Pclass','Age', 'SibSp',\n",
    "       'Parch', 'Fare', 'Name_match_size', 'Family_size',\n",
    "       'Status', 'Ticket_count', 'Fare_per_ticket', 'Male']\n",
    "\n",
    "columns_to_dummy = ['Embarked','Surname_count_status','Cabin_letter']"
   ]
  },
  {
   "cell_type": "code",
   "execution_count": 81,
   "metadata": {},
   "outputs": [
    {
     "name": "stdout",
     "output_type": "stream",
     "text": [
      "['index', 'Name', 'Sex', 'Ticket', 'Cabin', 'Title', 'Surname']\n",
      "22\n",
      "22\n"
     ]
    }
   ],
   "source": [
    "# lets check nothing is missing :\n",
    "\n",
    "remaining_columns = [col for col in columns if col not in target_column]\n",
    "remaining_columns = [col for col in remaining_columns if col not in numeric_columns]\n",
    "remaining_columns = [col for col in remaining_columns if col not in columns_to_dummy]\n",
    "\n",
    "print remaining_columns\n",
    "\n",
    "print len(columns)\n",
    "print len(target_column) + len(numeric_columns) + len(columns_to_dummy) + len(remaining_columns)"
   ]
  },
  {
   "cell_type": "code",
   "execution_count": 82,
   "metadata": {
    "scrolled": true
   },
   "outputs": [
    {
     "name": "stdout",
     "output_type": "stream",
     "text": [
      "                             0  1\n",
      "Embarked_C                   0  1\n",
      "Embarked_Q                   0  0\n",
      "Surname_count_status_Couple  1  0\n",
      "Surname_count_status_Family  0  0\n",
      "Cabin_letter_A               0  0\n",
      "Cabin_letter_B               0  0\n",
      "Cabin_letter_C               0  1\n",
      "Cabin_letter_D               0  0\n",
      "Cabin_letter_E               0  0\n",
      "Cabin_letter_F               0  0\n",
      "Cabin_letter_G               0  0\n",
      "Cabin_letter_T               0  0\n"
     ]
    }
   ],
   "source": [
    "# lets create the dummy columns, and check the first values:\n",
    "\n",
    "dummy_columns = pd.get_dummies(titanic_df[columns_to_dummy],drop_first=False)\n",
    "\n",
    "#pandas.get_dummies(data, prefix=None, prefix_sep='_', dummy_na=False, columns=None, sparse=False, drop_first=False)\n",
    "print dummy_columns.head(2).T"
   ]
  },
  {
   "cell_type": "markdown",
   "metadata": {},
   "source": [
    "Lets join the seperate dummy values and numeric values together, and create y"
   ]
  },
  {
   "cell_type": "code",
   "execution_count": 83,
   "metadata": {
    "scrolled": true
   },
   "outputs": [
    {
     "name": "stdout",
     "output_type": "stream",
     "text": [
      "<class 'pandas.core.frame.DataFrame'>\n",
      "Survived    int64\n",
      "dtype: object\n",
      "(891, 1)\n"
     ]
    }
   ],
   "source": [
    "X = pd.concat([titanic_df[numeric_columns],dummy_columns], axis=1, join_axes=[titanic_df.index])\n",
    "#In [11]: result = pd.concat([df1, df4], axis=1, join_axes=[df1.index])\n",
    "y = titanic_df[target_column]\n",
    "#y = pd.to_numeric(y,downcast='integer')\n",
    "#y = titanic_df[target_column].values\n",
    "print type(y)\n",
    "print y.dtypes\n",
    "print y.shape"
   ]
  },
  {
   "cell_type": "code",
   "execution_count": 84,
   "metadata": {
    "scrolled": true
   },
   "outputs": [
    {
     "data": {
      "text/html": [
       "<div>\n",
       "<style>\n",
       "    .dataframe thead tr:only-child th {\n",
       "        text-align: right;\n",
       "    }\n",
       "\n",
       "    .dataframe thead th {\n",
       "        text-align: left;\n",
       "    }\n",
       "\n",
       "    .dataframe tbody tr th {\n",
       "        vertical-align: top;\n",
       "    }\n",
       "</style>\n",
       "<table border=\"1\" class=\"dataframe\">\n",
       "  <thead>\n",
       "    <tr style=\"text-align: right;\">\n",
       "      <th></th>\n",
       "      <th>count</th>\n",
       "      <th>mean</th>\n",
       "      <th>std</th>\n",
       "      <th>min</th>\n",
       "      <th>25%</th>\n",
       "      <th>50%</th>\n",
       "      <th>75%</th>\n",
       "      <th>max</th>\n",
       "    </tr>\n",
       "  </thead>\n",
       "  <tbody>\n",
       "    <tr>\n",
       "      <th>Pclass</th>\n",
       "      <td>891.0</td>\n",
       "      <td>2.308642</td>\n",
       "      <td>0.836071</td>\n",
       "      <td>1.00</td>\n",
       "      <td>2.0000</td>\n",
       "      <td>3.0000</td>\n",
       "      <td>3.0000</td>\n",
       "      <td>3.0000</td>\n",
       "    </tr>\n",
       "    <tr>\n",
       "      <th>Age</th>\n",
       "      <td>891.0</td>\n",
       "      <td>29.536667</td>\n",
       "      <td>14.072684</td>\n",
       "      <td>0.42</td>\n",
       "      <td>21.0000</td>\n",
       "      <td>28.0000</td>\n",
       "      <td>38.0000</td>\n",
       "      <td>80.0000</td>\n",
       "    </tr>\n",
       "    <tr>\n",
       "      <th>SibSp</th>\n",
       "      <td>891.0</td>\n",
       "      <td>0.523008</td>\n",
       "      <td>1.102743</td>\n",
       "      <td>0.00</td>\n",
       "      <td>0.0000</td>\n",
       "      <td>0.0000</td>\n",
       "      <td>1.0000</td>\n",
       "      <td>8.0000</td>\n",
       "    </tr>\n",
       "    <tr>\n",
       "      <th>Parch</th>\n",
       "      <td>891.0</td>\n",
       "      <td>0.381594</td>\n",
       "      <td>0.806057</td>\n",
       "      <td>0.00</td>\n",
       "      <td>0.0000</td>\n",
       "      <td>0.0000</td>\n",
       "      <td>0.0000</td>\n",
       "      <td>6.0000</td>\n",
       "    </tr>\n",
       "    <tr>\n",
       "      <th>Fare</th>\n",
       "      <td>891.0</td>\n",
       "      <td>32.204208</td>\n",
       "      <td>49.693429</td>\n",
       "      <td>0.00</td>\n",
       "      <td>7.9104</td>\n",
       "      <td>14.4542</td>\n",
       "      <td>31.0000</td>\n",
       "      <td>512.3292</td>\n",
       "    </tr>\n",
       "    <tr>\n",
       "      <th>Name_match_size</th>\n",
       "      <td>891.0</td>\n",
       "      <td>1.882155</td>\n",
       "      <td>1.488014</td>\n",
       "      <td>1.00</td>\n",
       "      <td>1.0000</td>\n",
       "      <td>1.0000</td>\n",
       "      <td>2.0000</td>\n",
       "      <td>9.0000</td>\n",
       "    </tr>\n",
       "    <tr>\n",
       "      <th>Family_size</th>\n",
       "      <td>891.0</td>\n",
       "      <td>0.904602</td>\n",
       "      <td>1.613459</td>\n",
       "      <td>0.00</td>\n",
       "      <td>0.0000</td>\n",
       "      <td>0.0000</td>\n",
       "      <td>1.0000</td>\n",
       "      <td>10.0000</td>\n",
       "    </tr>\n",
       "    <tr>\n",
       "      <th>Status</th>\n",
       "      <td>891.0</td>\n",
       "      <td>0.029181</td>\n",
       "      <td>0.168407</td>\n",
       "      <td>0.00</td>\n",
       "      <td>0.0000</td>\n",
       "      <td>0.0000</td>\n",
       "      <td>0.0000</td>\n",
       "      <td>1.0000</td>\n",
       "    </tr>\n",
       "    <tr>\n",
       "      <th>Ticket_count</th>\n",
       "      <td>891.0</td>\n",
       "      <td>1.787879</td>\n",
       "      <td>1.361142</td>\n",
       "      <td>1.00</td>\n",
       "      <td>1.0000</td>\n",
       "      <td>1.0000</td>\n",
       "      <td>2.0000</td>\n",
       "      <td>7.0000</td>\n",
       "    </tr>\n",
       "    <tr>\n",
       "      <th>Fare_per_ticket</th>\n",
       "      <td>891.0</td>\n",
       "      <td>17.788989</td>\n",
       "      <td>21.218157</td>\n",
       "      <td>0.00</td>\n",
       "      <td>7.7625</td>\n",
       "      <td>8.8500</td>\n",
       "      <td>24.2882</td>\n",
       "      <td>221.7792</td>\n",
       "    </tr>\n",
       "    <tr>\n",
       "      <th>Male</th>\n",
       "      <td>891.0</td>\n",
       "      <td>0.647587</td>\n",
       "      <td>0.477990</td>\n",
       "      <td>0.00</td>\n",
       "      <td>0.0000</td>\n",
       "      <td>1.0000</td>\n",
       "      <td>1.0000</td>\n",
       "      <td>1.0000</td>\n",
       "    </tr>\n",
       "    <tr>\n",
       "      <th>Embarked_C</th>\n",
       "      <td>891.0</td>\n",
       "      <td>0.188552</td>\n",
       "      <td>0.391372</td>\n",
       "      <td>0.00</td>\n",
       "      <td>0.0000</td>\n",
       "      <td>0.0000</td>\n",
       "      <td>0.0000</td>\n",
       "      <td>1.0000</td>\n",
       "    </tr>\n",
       "    <tr>\n",
       "      <th>Embarked_Q</th>\n",
       "      <td>891.0</td>\n",
       "      <td>0.086420</td>\n",
       "      <td>0.281141</td>\n",
       "      <td>0.00</td>\n",
       "      <td>0.0000</td>\n",
       "      <td>0.0000</td>\n",
       "      <td>0.0000</td>\n",
       "      <td>1.0000</td>\n",
       "    </tr>\n",
       "    <tr>\n",
       "      <th>Surname_count_status_Couple</th>\n",
       "      <td>891.0</td>\n",
       "      <td>0.186308</td>\n",
       "      <td>0.389573</td>\n",
       "      <td>0.00</td>\n",
       "      <td>0.0000</td>\n",
       "      <td>0.0000</td>\n",
       "      <td>0.0000</td>\n",
       "      <td>1.0000</td>\n",
       "    </tr>\n",
       "    <tr>\n",
       "      <th>Surname_count_status_Family</th>\n",
       "      <td>891.0</td>\n",
       "      <td>0.214366</td>\n",
       "      <td>0.410612</td>\n",
       "      <td>0.00</td>\n",
       "      <td>0.0000</td>\n",
       "      <td>0.0000</td>\n",
       "      <td>0.0000</td>\n",
       "      <td>1.0000</td>\n",
       "    </tr>\n",
       "    <tr>\n",
       "      <th>Cabin_letter_A</th>\n",
       "      <td>891.0</td>\n",
       "      <td>0.016835</td>\n",
       "      <td>0.128725</td>\n",
       "      <td>0.00</td>\n",
       "      <td>0.0000</td>\n",
       "      <td>0.0000</td>\n",
       "      <td>0.0000</td>\n",
       "      <td>1.0000</td>\n",
       "    </tr>\n",
       "    <tr>\n",
       "      <th>Cabin_letter_B</th>\n",
       "      <td>891.0</td>\n",
       "      <td>0.052750</td>\n",
       "      <td>0.223659</td>\n",
       "      <td>0.00</td>\n",
       "      <td>0.0000</td>\n",
       "      <td>0.0000</td>\n",
       "      <td>0.0000</td>\n",
       "      <td>1.0000</td>\n",
       "    </tr>\n",
       "    <tr>\n",
       "      <th>Cabin_letter_C</th>\n",
       "      <td>891.0</td>\n",
       "      <td>0.066218</td>\n",
       "      <td>0.248802</td>\n",
       "      <td>0.00</td>\n",
       "      <td>0.0000</td>\n",
       "      <td>0.0000</td>\n",
       "      <td>0.0000</td>\n",
       "      <td>1.0000</td>\n",
       "    </tr>\n",
       "    <tr>\n",
       "      <th>Cabin_letter_D</th>\n",
       "      <td>891.0</td>\n",
       "      <td>0.037037</td>\n",
       "      <td>0.188959</td>\n",
       "      <td>0.00</td>\n",
       "      <td>0.0000</td>\n",
       "      <td>0.0000</td>\n",
       "      <td>0.0000</td>\n",
       "      <td>1.0000</td>\n",
       "    </tr>\n",
       "    <tr>\n",
       "      <th>Cabin_letter_E</th>\n",
       "      <td>891.0</td>\n",
       "      <td>0.035915</td>\n",
       "      <td>0.186182</td>\n",
       "      <td>0.00</td>\n",
       "      <td>0.0000</td>\n",
       "      <td>0.0000</td>\n",
       "      <td>0.0000</td>\n",
       "      <td>1.0000</td>\n",
       "    </tr>\n",
       "    <tr>\n",
       "      <th>Cabin_letter_F</th>\n",
       "      <td>891.0</td>\n",
       "      <td>0.014590</td>\n",
       "      <td>0.119973</td>\n",
       "      <td>0.00</td>\n",
       "      <td>0.0000</td>\n",
       "      <td>0.0000</td>\n",
       "      <td>0.0000</td>\n",
       "      <td>1.0000</td>\n",
       "    </tr>\n",
       "    <tr>\n",
       "      <th>Cabin_letter_G</th>\n",
       "      <td>891.0</td>\n",
       "      <td>0.004489</td>\n",
       "      <td>0.066890</td>\n",
       "      <td>0.00</td>\n",
       "      <td>0.0000</td>\n",
       "      <td>0.0000</td>\n",
       "      <td>0.0000</td>\n",
       "      <td>1.0000</td>\n",
       "    </tr>\n",
       "    <tr>\n",
       "      <th>Cabin_letter_T</th>\n",
       "      <td>891.0</td>\n",
       "      <td>0.001122</td>\n",
       "      <td>0.033501</td>\n",
       "      <td>0.00</td>\n",
       "      <td>0.0000</td>\n",
       "      <td>0.0000</td>\n",
       "      <td>0.0000</td>\n",
       "      <td>1.0000</td>\n",
       "    </tr>\n",
       "  </tbody>\n",
       "</table>\n",
       "</div>"
      ],
      "text/plain": [
       "                             count       mean        std   min      25%  \\\n",
       "Pclass                       891.0   2.308642   0.836071  1.00   2.0000   \n",
       "Age                          891.0  29.536667  14.072684  0.42  21.0000   \n",
       "SibSp                        891.0   0.523008   1.102743  0.00   0.0000   \n",
       "Parch                        891.0   0.381594   0.806057  0.00   0.0000   \n",
       "Fare                         891.0  32.204208  49.693429  0.00   7.9104   \n",
       "Name_match_size              891.0   1.882155   1.488014  1.00   1.0000   \n",
       "Family_size                  891.0   0.904602   1.613459  0.00   0.0000   \n",
       "Status                       891.0   0.029181   0.168407  0.00   0.0000   \n",
       "Ticket_count                 891.0   1.787879   1.361142  1.00   1.0000   \n",
       "Fare_per_ticket              891.0  17.788989  21.218157  0.00   7.7625   \n",
       "Male                         891.0   0.647587   0.477990  0.00   0.0000   \n",
       "Embarked_C                   891.0   0.188552   0.391372  0.00   0.0000   \n",
       "Embarked_Q                   891.0   0.086420   0.281141  0.00   0.0000   \n",
       "Surname_count_status_Couple  891.0   0.186308   0.389573  0.00   0.0000   \n",
       "Surname_count_status_Family  891.0   0.214366   0.410612  0.00   0.0000   \n",
       "Cabin_letter_A               891.0   0.016835   0.128725  0.00   0.0000   \n",
       "Cabin_letter_B               891.0   0.052750   0.223659  0.00   0.0000   \n",
       "Cabin_letter_C               891.0   0.066218   0.248802  0.00   0.0000   \n",
       "Cabin_letter_D               891.0   0.037037   0.188959  0.00   0.0000   \n",
       "Cabin_letter_E               891.0   0.035915   0.186182  0.00   0.0000   \n",
       "Cabin_letter_F               891.0   0.014590   0.119973  0.00   0.0000   \n",
       "Cabin_letter_G               891.0   0.004489   0.066890  0.00   0.0000   \n",
       "Cabin_letter_T               891.0   0.001122   0.033501  0.00   0.0000   \n",
       "\n",
       "                                 50%      75%       max  \n",
       "Pclass                        3.0000   3.0000    3.0000  \n",
       "Age                          28.0000  38.0000   80.0000  \n",
       "SibSp                         0.0000   1.0000    8.0000  \n",
       "Parch                         0.0000   0.0000    6.0000  \n",
       "Fare                         14.4542  31.0000  512.3292  \n",
       "Name_match_size               1.0000   2.0000    9.0000  \n",
       "Family_size                   0.0000   1.0000   10.0000  \n",
       "Status                        0.0000   0.0000    1.0000  \n",
       "Ticket_count                  1.0000   2.0000    7.0000  \n",
       "Fare_per_ticket               8.8500  24.2882  221.7792  \n",
       "Male                          1.0000   1.0000    1.0000  \n",
       "Embarked_C                    0.0000   0.0000    1.0000  \n",
       "Embarked_Q                    0.0000   0.0000    1.0000  \n",
       "Surname_count_status_Couple   0.0000   0.0000    1.0000  \n",
       "Surname_count_status_Family   0.0000   0.0000    1.0000  \n",
       "Cabin_letter_A                0.0000   0.0000    1.0000  \n",
       "Cabin_letter_B                0.0000   0.0000    1.0000  \n",
       "Cabin_letter_C                0.0000   0.0000    1.0000  \n",
       "Cabin_letter_D                0.0000   0.0000    1.0000  \n",
       "Cabin_letter_E                0.0000   0.0000    1.0000  \n",
       "Cabin_letter_F                0.0000   0.0000    1.0000  \n",
       "Cabin_letter_G                0.0000   0.0000    1.0000  \n",
       "Cabin_letter_T                0.0000   0.0000    1.0000  "
      ]
     },
     "execution_count": 84,
     "metadata": {},
     "output_type": "execute_result"
    }
   ],
   "source": [
    "# check the new X is all numeric for the logistic model:\n",
    "X.describe().T"
   ]
  },
  {
   "cell_type": "markdown",
   "metadata": {},
   "source": [
    "#### 2. Visualize the Data"
   ]
  },
  {
   "cell_type": "markdown",
   "metadata": {},
   "source": [
    "We've seen a lot of pivot and groupby tables already, but lets visualise age, fare and survivability to get an overall picture:"
   ]
  },
  {
   "cell_type": "code",
   "execution_count": 85,
   "metadata": {},
   "outputs": [
    {
     "data": {
      "text/plain": [
       "<matplotlib.legend.Legend at 0x7efdf8f1e210>"
      ]
     },
     "execution_count": 85,
     "metadata": {},
     "output_type": "execute_result"
    },
    {
     "data": {
      "image/png": "[encoded data removed]",
      "text/plain": [
       "<matplotlib.figure.Figure at 0x7efdf8f9a8d0>"
      ]
     },
     "metadata": {},
     "output_type": "display_data"
    }
   ],
   "source": [
    "plt.figure(figsize=(13,8))\n",
    "ax = plt.subplot()\n",
    "ax.scatter(titanic_df[titanic_df['Survived']==1]['Age'],titanic_df[titanic_df['Survived']==1]['Fare'],c='green',s=40)\n",
    "ax.scatter(titanic_df[titanic_df['Survived']==0]['Age'],titanic_df[titanic_df['Survived']==0]['Fare'],c='red',s=40)\n",
    "ax.set_xlabel('Age')\n",
    "ax.set_ylabel('Fare')\n",
    "ax.legend(('survived','dead'),scatterpoints=1,loc='upper right',fontsize=15,)"
   ]
  },
  {
   "cell_type": "markdown",
   "metadata": {},
   "source": [
    "The thick, red line of dots clustered around the bottom of the chart show's the worse position the cheaper ticket holders were in despite of age."
   ]
  },
  {
   "cell_type": "markdown",
   "metadata": {},
   "source": [
    "Now lets check survival per ticket class"
   ]
  },
  {
   "cell_type": "code",
   "execution_count": 86,
   "metadata": {},
   "outputs": [
    {
     "data": {
      "image/png": "[encoded data removed]",
      "text/plain": [
       "<matplotlib.figure.Figure at 0x7efdf9234910>"
      ]
     },
     "metadata": {},
     "output_type": "display_data"
    }
   ],
   "source": [
    "pd.crosstab(titanic_df['Pclass'], titanic_df['Survived']).plot.barh(stacked=True);"
   ]
  },
  {
   "cell_type": "markdown",
   "metadata": {},
   "source": [
    "As above, there is strong correlation between more expensive tickets and improved survivability."
   ]
  },
  {
   "cell_type": "markdown",
   "metadata": {},
   "source": [
    "Survival per (calculated) ticket count:"
   ]
  },
  {
   "cell_type": "code",
   "execution_count": 87,
   "metadata": {},
   "outputs": [
    {
     "data": {
      "image/png": "[encoded data removed]",
      "text/plain": [
       "<matplotlib.figure.Figure at 0x7efdfb0fbd90>"
      ]
     },
     "metadata": {},
     "output_type": "display_data"
    }
   ],
   "source": [
    "pd.crosstab(titanic_df['Ticket_count'], titanic_df['Survived']).plot.barh(stacked=True);"
   ]
  },
  {
   "cell_type": "markdown",
   "metadata": {},
   "source": [
    "And survival per (calculated) family size"
   ]
  },
  {
   "cell_type": "code",
   "execution_count": 88,
   "metadata": {},
   "outputs": [
    {
     "data": {
      "image/png": "[encoded data removed]",
      "text/plain": [
       "<matplotlib.figure.Figure at 0x7efdfeaafa10>"
      ]
     },
     "metadata": {},
     "output_type": "display_data"
    }
   ],
   "source": [
    "pd.crosstab(titanic_df['Family_size'], titanic_df['Survived']).plot.barh(stacked=True);"
   ]
  },
  {
   "cell_type": "markdown",
   "metadata": {},
   "source": [
    "And, the overall correlation matrix, key column being the first, with correlation per feature against survivability:"
   ]
  },
  {
   "cell_type": "code",
   "execution_count": 89,
   "metadata": {
    "scrolled": false
   },
   "outputs": [
    {
     "data": {
      "image/png": "[encoded data removed]",
      "text/plain": [
       "<matplotlib.figure.Figure at 0x7efdf8cd4e90>"
      ]
     },
     "metadata": {},
     "output_type": "display_data"
    }
   ],
   "source": [
    "corr = pd.concat([y,X.iloc[:,0:15]], axis=1, join_axes=[X.index]).corr()\n",
    "fig, ax = plt.subplots(figsize=(20, 20))\n",
    "ax.matshow(corr)\n",
    "plt.xticks(range(len(corr.columns)), corr.columns);\n",
    "plt.yticks(range(len(corr.columns)), corr.columns);"
   ]
  },
  {
   "cell_type": "markdown",
   "metadata": {},
   "source": [
    "## Part 3: Logistic Regression and Model Validation"
   ]
  },
  {
   "cell_type": "markdown",
   "metadata": {},
   "source": [
    "#### 1. Define the variables that we will use in our classification analysis"
   ]
  },
  {
   "cell_type": "code",
   "execution_count": 90,
   "metadata": {
    "collapsed": true
   },
   "outputs": [],
   "source": [
    "Xv = X.values\n",
    "yv = y.iloc[:,0].values"
   ]
  },
  {
   "cell_type": "markdown",
   "metadata": {},
   "source": [
    "#### 2. Transform \"Y\" into a 1-Dimensional Array for SciKit-Learn"
   ]
  },
  {
   "cell_type": "code",
   "execution_count": 91,
   "metadata": {},
   "outputs": [
    {
     "data": {
      "text/plain": [
       "numpy.ndarray"
      ]
     },
     "execution_count": 91,
     "metadata": {},
     "output_type": "execute_result"
    }
   ],
   "source": [
    "# done (to check: )\n",
    "type(yv)"
   ]
  },
  {
   "cell_type": "markdown",
   "metadata": {},
   "source": [
    "#### 3. Conduct the logistic regression"
   ]
  },
  {
   "cell_type": "code",
   "execution_count": 92,
   "metadata": {},
   "outputs": [
    {
     "data": {
      "text/plain": [
       "LogisticRegression(C=1.0, class_weight=None, dual=False, fit_intercept=True,\n",
       "          intercept_scaling=1, max_iter=100, multi_class='ovr', n_jobs=1,\n",
       "          penalty='l2', random_state=None, solver='liblinear', tol=0.0001,\n",
       "          verbose=0, warm_start=False)"
      ]
     },
     "execution_count": 92,
     "metadata": {},
     "output_type": "execute_result"
    }
   ],
   "source": [
    "logreg = LogisticRegression()\n",
    "logreg.fit(Xv, yv)"
   ]
  },
  {
   "cell_type": "markdown",
   "metadata": {},
   "source": [
    "#### 4. Examine the coefficients to see our correlations"
   ]
  },
  {
   "cell_type": "code",
   "execution_count": 93,
   "metadata": {},
   "outputs": [
    {
     "name": "stdout",
     "output_type": "stream",
     "text": [
      "Logreg intercept: [ 3.2847907]\n"
     ]
    }
   ],
   "source": [
    "print 'Logreg intercept:', logreg.intercept_"
   ]
  },
  {
   "cell_type": "code",
   "execution_count": 94,
   "metadata": {
    "scrolled": true
   },
   "outputs": [
    {
     "data": {
      "text/plain": [
       "[['Male', -2.4968194375522259],\n",
       " ['Pclass', -0.71956810262865434],\n",
       " ['Cabin_letter_G', -0.50799902949398679],\n",
       " ['SibSp', -0.19554991195368868],\n",
       " ['Surname_count_status_Family', -0.19266560082190046],\n",
       " ['Cabin_letter_T', -0.18728684533266865],\n",
       " ['Family_size', -0.1193202144106706],\n",
       " ['Name_match_size', -0.074031740563335724],\n",
       " ['Age', -0.029797510555411303],\n",
       " ['Fare_per_ticket', -0.0017182665080570127],\n",
       " ['Fare', 0.0037446553101866636],\n",
       " ['Parch', 0.076229697543072572],\n",
       " ['Ticket_count', 0.095454985600191972],\n",
       " ['Status', 0.10830686941140924],\n",
       " ['Cabin_letter_C', 0.1228502943606562],\n",
       " ['Embarked_Q', 0.28254308356925523],\n",
       " ['Embarked_C', 0.4362252635357623],\n",
       " ['Cabin_letter_B', 0.46984094807745785],\n",
       " ['Surname_count_status_Couple', 0.48420000475079183],\n",
       " ['Cabin_letter_A', 0.50910329525362852],\n",
       " ['Cabin_letter_F', 0.9117676952836159],\n",
       " ['Cabin_letter_D', 0.91767321127122592],\n",
       " ['Cabin_letter_E', 1.2556816660957648]]"
      ]
     },
     "execution_count": 94,
     "metadata": {},
     "output_type": "execute_result"
    }
   ],
   "source": [
    "#for col in X.columns:\n",
    "#    print col\n",
    "#for coef in pd.Series(logreg.coef_):\n",
    "#    print coef\n",
    "#for var,coef in zip(X.columns,logreg.coef_):\n",
    "#    print var,coef\n",
    "\n",
    "coefs = []\n",
    "\n",
    "for featurename, coef in zip(X.columns,logreg.coef_[0]):\n",
    "    coefs.append([featurename,coef])\n",
    "\n",
    "coefs.sort(key=lambda x: x[1])\n",
    "\n",
    "coefs"
   ]
  },
  {
   "cell_type": "code",
   "execution_count": 95,
   "metadata": {},
   "outputs": [
    {
     "name": "stdout",
     "output_type": "stream",
     "text": [
      "Logreg predicted probabilities: [[ 0.86930931  0.13069069]\n",
      " [ 0.13669763  0.86330237]\n",
      " [ 0.40399814  0.59600186]\n",
      " [ 0.11809889  0.88190111]\n",
      " [ 0.87715302  0.12284698]]\n"
     ]
    }
   ],
   "source": [
    "print 'Logreg predicted probabilities:', logreg.predict_proba(Xv[0:5,:])"
   ]
  },
  {
   "cell_type": "code",
   "execution_count": 96,
   "metadata": {},
   "outputs": [
    {
     "name": "stdout",
     "output_type": "stream",
     "text": [
      "baseline = 62%\n",
      "correct:  728\n",
      "incorrect:  163\n",
      "accuracy =  0.817059483726\n"
     ]
    }
   ],
   "source": [
    "correct = 0\n",
    "incorrect = 0\n",
    "\n",
    "for pred, actual in zip(logreg.predict_proba(Xv),yv):\n",
    "    if (pred[0] >= 0.5 and actual == 0) or (pred[0] < 0.5 and actual == 1):\n",
    "        correct += 1\n",
    "    else:\n",
    "        incorrect += 1\n",
    "\n",
    "print \"baseline = \" + \"62%\"\n",
    "print \"correct: \", correct\n",
    "print \"incorrect: \", incorrect\n",
    "print \"accuracy = \", correct / float(correct+incorrect)"
   ]
  },
  {
   "cell_type": "markdown",
   "metadata": {},
   "source": [
    "#### 5. What are the risks and assumptions of our data? "
   ]
  },
  {
   "cell_type": "markdown",
   "metadata": {
    "collapsed": true
   },
   "source": [
    "Assumptions: \n",
    "- Everything is correct data wise, including:\n",
    "-  - My inputed/calculated values, such as matching the age via the surviver names on a seperate list, to the grouping of people by surname, which could group together people who simply matched name and didn't travel together\n",
    "- - The data originally present in the data set, some of which is questionable - the age column, if it is missing in places, could be wrong in others? The family member on board data also looks suspicious\n",
    "\n",
    "Risks:\n",
    "- The number one risk is model overfitting - by fitting on all data, it could be too specific to the trip, and not accurately represent the outcome of another 1910's boat sinking.\n",
    "- Overweighting on particular, very specific varibles, such as cabin letter designation, could well be inaccurate, given the small positive numbers involved, and thus the statistical reliability of the numbers.\n"
   ]
  },
  {
   "cell_type": "markdown",
   "metadata": {},
   "source": [
    "#### 6. Test the Model by introducing a *Test* or *Validaton* set "
   ]
  },
  {
   "cell_type": "code",
   "execution_count": 97,
   "metadata": {},
   "outputs": [
    {
     "data": {
      "text/plain": [
       "LogisticRegression(C=1.0, class_weight=None, dual=False, fit_intercept=True,\n",
       "          intercept_scaling=1, max_iter=100, multi_class='ovr', n_jobs=1,\n",
       "          penalty='l2', random_state=None, solver='liblinear', tol=0.0001,\n",
       "          verbose=0, warm_start=False)"
      ]
     },
     "execution_count": 97,
     "metadata": {},
     "output_type": "execute_result"
    }
   ],
   "source": [
    "X_train, X_test, y_train, y_test = train_test_split(Xv, yv, test_size=0.5, random_state=2)\n",
    "logreg.fit(X_train, y_train)"
   ]
  },
  {
   "cell_type": "markdown",
   "metadata": {},
   "source": [
    "#### 7. Predict the class labels for the *Test* set"
   ]
  },
  {
   "cell_type": "code",
   "execution_count": 98,
   "metadata": {},
   "outputs": [
    {
     "name": "stdout",
     "output_type": "stream",
     "text": [
      "[0 0 1 0 0 0 0 0 0 0]\n"
     ]
    }
   ],
   "source": [
    "yhat = logreg.predict(X_test)\n",
    "print yhat[0:10]"
   ]
  },
  {
   "cell_type": "markdown",
   "metadata": {},
   "source": [
    "#### 8. Predict the class probabilities for the *Test* set"
   ]
  },
  {
   "cell_type": "code",
   "execution_count": 99,
   "metadata": {},
   "outputs": [
    {
     "name": "stdout",
     "output_type": "stream",
     "text": [
      "[[ 0.60483878  0.39516122]\n",
      " [ 0.87507342  0.12492658]\n",
      " [ 0.19413496  0.80586504]\n",
      " [ 0.89062652  0.10937348]\n",
      " [ 0.73537063  0.26462937]\n",
      " [ 0.89928524  0.10071476]\n",
      " [ 0.88088334  0.11911666]\n",
      " [ 0.88659575  0.11340425]\n",
      " [ 0.75462636  0.24537364]\n",
      " [ 0.82460195  0.17539805]]\n"
     ]
    }
   ],
   "source": [
    "yhat_pp = logreg.predict_proba(X_test)\n",
    "print yhat_pp[0:10]"
   ]
  },
  {
   "cell_type": "markdown",
   "metadata": {},
   "source": [
    "#### 9. Evaluate the *Test* set"
   ]
  },
  {
   "cell_type": "code",
   "execution_count": 100,
   "metadata": {},
   "outputs": [
    {
     "data": {
      "text/plain": [
       "0.82511210762331844"
      ]
     },
     "execution_count": 100,
     "metadata": {},
     "output_type": "execute_result"
    }
   ],
   "source": [
    "logreg.score(X_test, y_test)"
   ]
  },
  {
   "cell_type": "markdown",
   "metadata": {
    "collapsed": true
   },
   "source": [
    "Not bad vs. the 62% baseline!"
   ]
  },
  {
   "cell_type": "markdown",
   "metadata": {},
   "source": [
    "#### 10. Cross validate the test set"
   ]
  },
  {
   "cell_type": "code",
   "execution_count": 101,
   "metadata": {},
   "outputs": [
    {
     "name": "stdout",
     "output_type": "stream",
     "text": [
      "[ 0.75555556  0.80898876  0.80898876  0.84269663  0.76404494]\n",
      "0.796054931336\n"
     ]
    }
   ],
   "source": [
    "scores = cross_val_score(logreg, X_test, y_test, cv=5)\n",
    "print scores\n",
    "print np.mean(scores)"
   ]
  },
  {
   "cell_type": "markdown",
   "metadata": {},
   "source": [
    "#### 11. Check the Classification Report"
   ]
  },
  {
   "cell_type": "code",
   "execution_count": 102,
   "metadata": {},
   "outputs": [
    {
     "name": "stdout",
     "output_type": "stream",
     "text": [
      "             precision    recall  f1-score   support\n",
      "\n",
      "          0       0.91      0.82      0.86       298\n",
      "          1       0.70      0.83      0.76       148\n",
      "\n",
      "avg / total       0.84      0.83      0.83       446\n",
      "\n"
     ]
    }
   ],
   "source": [
    "#sklearn.metrics.classification_report(y_true, y_pred, labels=None, target_names=None, sample_weight=None, digits=2)\n",
    "print classification_report(yhat,y_test)"
   ]
  },
  {
   "cell_type": "markdown",
   "metadata": {},
   "source": [
    "#### 12. What do the classification metrics tell us?"
   ]
  },
  {
   "cell_type": "markdown",
   "metadata": {},
   "source": [
    "The model is disporportionally accurate at predicting the more frequent class (not surviving, or 0), determined by the precision of 0.91. \n",
    "\n",
    "Depending on the purpose of the model, for example assisting in disaster rescue or PR, one may want to adjust the thresholds in order to increase the true positives (or decrease them!) at the expense of other fields."
   ]
  },
  {
   "cell_type": "markdown",
   "metadata": {},
   "source": [
    "#### 13. Check the Confusion Matrix"
   ]
  },
  {
   "cell_type": "code",
   "execution_count": 103,
   "metadata": {},
   "outputs": [
    {
     "name": "stdout",
     "output_type": "stream",
     "text": [
      "Confusion matrix, without normalization\n",
      "[[245  53]\n",
      " [ 25 123]]\n",
      "Normalized confusion matrix\n",
      "[[ 0.82214765  0.17785235]\n",
      " [ 0.16891892  0.83108108]]\n"
     ]
    },
    {
     "data": {
      "image/png": "[encoded data removed]",
      "text/plain": [
       "<matplotlib.figure.Figure at 0x7efdf8fb65d0>"
      ]
     },
     "metadata": {},
     "output_type": "display_data"
    },
    {
     "data": {
      "image/png": "[encoded data removed]",
      "text/plain": [
       "<matplotlib.figure.Figure at 0x7efdf82d7f50>"
      ]
     },
     "metadata": {},
     "output_type": "display_data"
    }
   ],
   "source": [
    "#confusion_matrix(yhat,y_test, labels=[0,1])\n",
    "\n",
    "import itertools\n",
    "\n",
    "cnf_matrix = confusion_matrix(yhat,y_test)\n",
    "\n",
    "class_names = [0,1]\n",
    "\n",
    "def plot_confusion_matrix(cm, classes,\n",
    "                          normalize=False,\n",
    "                          title='Confusion matrix',\n",
    "                          cmap=plt.cm.Blues):\n",
    "    \"\"\"\n",
    "    This function prints and plots the confusion matrix.\n",
    "    Normalization can be applied by setting `normalize=True`.\n",
    "    \"\"\"\n",
    "    plt.imshow(cm, interpolation='nearest', cmap=cmap)\n",
    "    plt.title(title)\n",
    "    plt.colorbar()\n",
    "    tick_marks = np.arange(len(classes))\n",
    "    plt.xticks(tick_marks, classes, rotation=45)\n",
    "    plt.yticks(tick_marks, classes)\n",
    "\n",
    "    if normalize:\n",
    "        cm = cm.astype('float') / cm.sum(axis=1)[:, np.newaxis]\n",
    "        print(\"Normalized confusion matrix\")\n",
    "    else:\n",
    "        print('Confusion matrix, without normalization')\n",
    "\n",
    "    print(cm)\n",
    "\n",
    "    thresh = cm.max() / 2.\n",
    "    for i, j in itertools.product(range(cm.shape[0]), range(cm.shape[1])):\n",
    "        plt.text(j, i, cm[i, j],\n",
    "                 horizontalalignment=\"center\",\n",
    "                 color=\"white\" if cm[i, j] > thresh else \"black\")\n",
    "\n",
    "    plt.tight_layout()\n",
    "    plt.ylabel('True label')\n",
    "    plt.xlabel('Predicted label')\n",
    "\n",
    "# Plot non-normalized confusion matrix\n",
    "plt.figure()\n",
    "plot_confusion_matrix(cnf_matrix, classes=class_names,\n",
    "                      title='Confusion matrix, without normalization')\n",
    "\n",
    "# Plot normalized confusion matrix\n",
    "plt.figure()\n",
    "plot_confusion_matrix(cnf_matrix, classes=class_names, normalize=True,\n",
    "                      title='Normalized confusion matrix')\n",
    "\n",
    "plt.show()\n",
    "\n",
    "#sklearn.metrics.confusion_matrix(y_true, y_pred, labels=None, sample_weight=None)\n",
    "\n"
   ]
  },
  {
   "cell_type": "markdown",
   "metadata": {},
   "source": [
    "#### 14. What does the Confusion Matrix tell us? "
   ]
  },
  {
   "cell_type": "markdown",
   "metadata": {},
   "source": [
    "Similiar to the classification report, the model is more accurate at predicting deaths (0) than survivals (1), which will be partly because of the greater number of deaths in the dataset.\n",
    "\n",
    "In terms of when the model guesses wrong, it is, in relative terms, more likely to falsely predict a death when someone survived, vs. a survival when someone died. This could be useful depending on the objective of the model (field recovery, insurance modelling, PR etc)."
   ]
  },
  {
   "cell_type": "markdown",
   "metadata": {},
   "source": [
    "#### 15. Plot the ROC curve"
   ]
  },
  {
   "cell_type": "code",
   "execution_count": 104,
   "metadata": {},
   "outputs": [
    {
     "data": {
      "image/png": "[encoded data removed]",
      "text/plain": [
       "<matplotlib.figure.Figure at 0x7efdf8c035d0>"
      ]
     },
     "metadata": {},
     "output_type": "display_data"
    }
   ],
   "source": [
    "fpr, tpr, _ = roc_curve(y_test, yhat_pp[:,1])\n",
    "roc_auc = auc(fpr, tpr)\n",
    "\n",
    "plt.figure(figsize=[8,8])\n",
    "plt.plot(fpr, tpr, label='ROC curve (area = %0.2f)' % roc_auc, linewidth=4)\n",
    "plt.plot([0, 1], [0, 1], 'k--', linewidth=4)\n",
    "plt.xlim([-0.05, 1.0])\n",
    "plt.ylim([-0.05, 1.05])\n",
    "plt.xlabel('False Positive Rate', fontsize=18)\n",
    "plt.ylabel('True Positive Rate', fontsize=18)\n",
    "plt.title('Receiver operating characteristic: didn\\'t survive', fontsize=18)\n",
    "plt.legend(loc=\"lower right\")\n",
    "plt.show()"
   ]
  },
  {
   "cell_type": "markdown",
   "metadata": {},
   "source": [
    "#### 16. What does the ROC curve tell us?"
   ]
  },
  {
   "cell_type": "markdown",
   "metadata": {},
   "source": [
    "The model is somewhat far away from perfect classification! \n",
    "\n",
    "However, there is a fair amount of accuracy in the model given, and there would be a disproportionate increase in false positives, in order to increase the number of true positives.\n",
    "\n",
    "There is certainly room for improvement in the model, but also opportunity to adjust the threshold in the existing one, depending on the unstated goals of the users."
   ]
  },
  {
   "cell_type": "markdown",
   "metadata": {},
   "source": [
    "## Part 5: Gridsearch"
   ]
  },
  {
   "cell_type": "markdown",
   "metadata": {},
   "source": [
    "#### 1. Use GridSearchCV with logistic regression to search for optimal parameters \n",
    "\n",
    "- Use the provided parameter grid. Feel free to add if you like (such as n_jobs).\n",
    "- Use 5-fold cross-validation."
   ]
  },
  {
   "cell_type": "code",
   "execution_count": 105,
   "metadata": {},
   "outputs": [
    {
     "name": "stdout",
     "output_type": "stream",
     "text": [
      "Fitting 5 folds for each of 1000 candidates, totalling 5000 fits\n"
     ]
    },
    {
     "name": "stderr",
     "output_type": "stream",
     "text": [
      "[Parallel(n_jobs=1)]: Done 5000 out of 5000 | elapsed:   36.6s finished\n"
     ]
    },
    {
     "data": {
      "text/plain": [
       "GridSearchCV(cv=5, error_score='raise',\n",
       "       estimator=LogisticRegression(C=1.0, class_weight=None, dual=False, fit_intercept=True,\n",
       "          intercept_scaling=1, max_iter=100, multi_class='ovr', n_jobs=1,\n",
       "          penalty='l2', random_state=None, solver='liblinear', tol=0.0001,\n",
       "          verbose=0, warm_start=False),\n",
       "       fit_params={}, iid=True, n_jobs=1,\n",
       "       param_grid={'penalty': ['l1', 'l2'], 'C': array([  1.00000e-05,   1.03283e-05, ...,   9.68215e+01,   1.00000e+02]), 'n_jobs': [-1], 'solver': ['liblinear']},\n",
       "       pre_dispatch='2*n_jobs', refit=True, return_train_score=True,\n",
       "       scoring=None, verbose=1)"
      ]
     },
     "execution_count": 105,
     "metadata": {},
     "output_type": "execute_result"
    }
   ],
   "source": [
    "logreg_parameters = {\n",
    "    'penalty':['l1','l2'],\n",
    "    'C':np.logspace(-5,2,500),\n",
    "    'solver':['liblinear'],\n",
    "    'n_jobs': [-1],\n",
    "}\n",
    "\n",
    "logreg = LogisticRegression()\n",
    "\n",
    "logreggscv = GridSearchCV(logreg, logreg_parameters, verbose=1, cv=5)\n",
    "\n",
    "logreggscv.fit(Xv, yv)"
   ]
  },
  {
   "cell_type": "markdown",
   "metadata": {},
   "source": [
    "#### 2. Print out the best parameters and best score. Are they better than the vanilla logistic regression?"
   ]
  },
  {
   "cell_type": "code",
   "execution_count": 106,
   "metadata": {},
   "outputs": [
    {
     "name": "stdout",
     "output_type": "stream",
     "text": [
      "LogisticRegression(C=0.95490445575180782, class_weight=None, dual=False,\n",
      "          fit_intercept=True, intercept_scaling=1, max_iter=100,\n",
      "          multi_class='ovr', n_jobs=-1, penalty='l2', random_state=None,\n",
      "          solver='liblinear', tol=0.0001, verbose=0, warm_start=False)\n",
      "0.799102132435\n",
      "{'penalty': 'l2', 'C': 0.95490445575180782, 'n_jobs': -1, 'solver': 'liblinear'}\n"
     ]
    }
   ],
   "source": [
    "print logreggscv.best_estimator_\n",
    "print logreggscv.best_score_\n",
    "print logreggscv.best_params_"
   ]
  },
  {
   "cell_type": "markdown",
   "metadata": {},
   "source": [
    "Not much different from the vanilla regression.\n",
    "\n",
    "Perhaps standardising the data can improve the results?"
   ]
  },
  {
   "cell_type": "code",
   "execution_count": 107,
   "metadata": {},
   "outputs": [
    {
     "name": "stdout",
     "output_type": "stream",
     "text": [
      "Fitting 5 folds for each of 1000 candidates, totalling 5000 fits\n"
     ]
    },
    {
     "name": "stderr",
     "output_type": "stream",
     "text": [
      "[Parallel(n_jobs=1)]: Done 5000 out of 5000 | elapsed:   32.2s finished\n"
     ]
    },
    {
     "data": {
      "text/plain": [
       "GridSearchCV(cv=5, error_score='raise',\n",
       "       estimator=LogisticRegression(C=1.0, class_weight=None, dual=False, fit_intercept=True,\n",
       "          intercept_scaling=1, max_iter=100, multi_class='ovr', n_jobs=1,\n",
       "          penalty='l2', random_state=None, solver='liblinear', tol=0.0001,\n",
       "          verbose=0, warm_start=False),\n",
       "       fit_params={}, iid=True, n_jobs=1,\n",
       "       param_grid={'penalty': ['l1', 'l2'], 'C': array([  1.00000e-05,   1.03283e-05, ...,   9.68215e+01,   1.00000e+02]), 'n_jobs': [-1], 'solver': ['liblinear']},\n",
       "       pre_dispatch='2*n_jobs', refit=True, return_train_score=True,\n",
       "       scoring=None, verbose=1)"
      ]
     },
     "execution_count": 107,
     "metadata": {},
     "output_type": "execute_result"
    }
   ],
   "source": [
    "standard_scaler = StandardScaler()\n",
    "Xvs = standard_scaler.fit_transform(Xv)\n",
    "logreggscv.fit(Xvs, yv)"
   ]
  },
  {
   "cell_type": "code",
   "execution_count": 108,
   "metadata": {},
   "outputs": [
    {
     "name": "stdout",
     "output_type": "stream",
     "text": [
      "LogisticRegression(C=0.31842416015046565, class_weight=None, dual=False,\n",
      "          fit_intercept=True, intercept_scaling=1, max_iter=100,\n",
      "          multi_class='ovr', n_jobs=-1, penalty='l1', random_state=None,\n",
      "          solver='liblinear', tol=0.0001, verbose=0, warm_start=False)\n",
      "0.799102132435\n",
      "{'penalty': 'l1', 'C': 0.31842416015046565, 'n_jobs': -1, 'solver': 'liblinear'}\n"
     ]
    }
   ],
   "source": [
    "print logreggscv.best_estimator_\n",
    "print logreggscv.best_score_\n",
    "print logreggscv.best_params_"
   ]
  },
  {
   "cell_type": "markdown",
   "metadata": {},
   "source": [
    "No difference on the full variable set."
   ]
  },
  {
   "cell_type": "markdown",
   "metadata": {},
   "source": [
    "The query right now is using all variables - perhaps it is worth going back to the original model, and finding an optimum set?"
   ]
  },
  {
   "cell_type": "markdown",
   "metadata": {},
   "source": [
    "As an experiment, lets try to brute force all five and six feature combinations to find a more effective original linear regression?"
   ]
  },
  {
   "cell_type": "code",
   "execution_count": 109,
   "metadata": {
    "collapsed": true
   },
   "outputs": [],
   "source": [
    "from itertools import combinations"
   ]
  },
  {
   "cell_type": "code",
   "execution_count": 110,
   "metadata": {
    "collapsed": true
   },
   "outputs": [],
   "source": [
    "x_columns = []\n",
    "\n",
    "for column in X.columns:\n",
    "    x_columns.append(str(column))"
   ]
  },
  {
   "cell_type": "code",
   "execution_count": 111,
   "metadata": {},
   "outputs": [
    {
     "name": "stdout",
     "output_type": "stream",
     "text": [
      "33649\n"
     ]
    }
   ],
   "source": [
    "column_combination = []\n",
    "\n",
    "five_combs = list(combinations(x_columns, 5))\n",
    "\n",
    "print len(five_combs)"
   ]
  },
  {
   "cell_type": "code",
   "execution_count": 112,
   "metadata": {
    "collapsed": true
   },
   "outputs": [],
   "source": [
    "results = []\n",
    "for combo in five_combs:\n",
    "    results.append([combo, np.mean(cross_val_score(logreg, X.loc[:,combo], yv, cv=5))])"
   ]
  },
  {
   "cell_type": "code",
   "execution_count": 113,
   "metadata": {},
   "outputs": [
    {
     "name": "stdout",
     "output_type": "stream",
     "text": [
      "33649\n"
     ]
    }
   ],
   "source": [
    "print len(results)"
   ]
  },
  {
   "cell_type": "code",
   "execution_count": 114,
   "metadata": {},
   "outputs": [
    {
     "name": "stdout",
     "output_type": "stream",
     "text": [
      "[('Pclass', 'Age', 'Name_match_size', 'Male', 'Cabin_letter_E'), 0.81032358117829462]\n"
     ]
    }
   ],
   "source": [
    "from operator import itemgetter\n",
    "\n",
    "results_sorted = sorted(results, key=itemgetter(1))\n",
    "print results_sorted[len(results)-1]"
   ]
  },
  {
   "cell_type": "markdown",
   "metadata": {},
   "source": [
    "From the brute force linear regression, the best performance comes from previously identified variables."
   ]
  },
  {
   "cell_type": "markdown",
   "metadata": {},
   "source": [
    "Lets look for the variables, and score improvement, if six variables are searched through."
   ]
  },
  {
   "cell_type": "code",
   "execution_count": 115,
   "metadata": {
    "collapsed": true
   },
   "outputs": [],
   "source": [
    "column_combination6 = []\n",
    "\n",
    "six_combs = list(combinations(x_columns, 6))\n",
    "\n",
    "results6 = []\n",
    "for combo in six_combs:\n",
    "    results6.append([combo, np.mean(cross_val_score(logreg, X.loc[:,combo], yv, cv=5))])"
   ]
  },
  {
   "cell_type": "code",
   "execution_count": 116,
   "metadata": {},
   "outputs": [
    {
     "name": "stdout",
     "output_type": "stream",
     "text": [
      "[('Pclass', 'Age', 'Name_match_size', 'Male', 'Cabin_letter_D', 'Cabin_letter_E'), 0.81255814712245988]\n"
     ]
    }
   ],
   "source": [
    "results_sorted6 = sorted(results6, key=itemgetter(1))\n",
    "print results_sorted6[len(results6)-1]"
   ]
  },
  {
   "cell_type": "code",
   "execution_count": 117,
   "metadata": {},
   "outputs": [
    {
     "name": "stdout",
     "output_type": "stream",
     "text": [
      "[('Pclass', 'Family_size', 'Male', 'Surname_count_status_Family', 'Cabin_letter_F'), 0.80919984381799048]\n"
     ]
    }
   ],
   "source": [
    "column_combination52 = []\n",
    "\n",
    "fivecombs = list(combinations(x_columns, 5))\n",
    "\n",
    "results52 = []\n",
    "for combo in five_combs:\n",
    "    results52.append([combo, np.mean(cross_val_score(logreg, standard_scaler.fit_transform(X.loc[:,combo]), yv, cv=5))])\n",
    "    \n",
    "results_sorted52 = sorted(results52, key=itemgetter(1))\n",
    "print results_sorted52[len(results52)-1]"
   ]
  },
  {
   "cell_type": "markdown",
   "metadata": {},
   "source": [
    "Interestingly, five feature brute forcing on standardised data produces different variables, and a slightly slower score\n"
   ]
  },
  {
   "cell_type": "markdown",
   "metadata": {},
   "source": [
    "The six feature logistic regression, with Class, Age, Name_match_size, Male, Cabin D and Cabin E comes out top. Can we can any extra accuracy by gridsearching with just these? First with standardistion, then without:"
   ]
  },
  {
   "cell_type": "code",
   "execution_count": 118,
   "metadata": {},
   "outputs": [
    {
     "name": "stdout",
     "output_type": "stream",
     "text": [
      "Fitting 5 folds for each of 1000 candidates, totalling 5000 fits\n"
     ]
    },
    {
     "name": "stderr",
     "output_type": "stream",
     "text": [
      "[Parallel(n_jobs=1)]: Done 5000 out of 5000 | elapsed:   10.8s finished\n"
     ]
    },
    {
     "data": {
      "text/plain": [
       "GridSearchCV(cv=5, error_score='raise',\n",
       "       estimator=LogisticRegression(C=1.0, class_weight=None, dual=False, fit_intercept=True,\n",
       "          intercept_scaling=1, max_iter=100, multi_class='ovr', n_jobs=1,\n",
       "          penalty='l2', random_state=None, solver='liblinear', tol=0.0001,\n",
       "          verbose=0, warm_start=False),\n",
       "       fit_params={}, iid=True, n_jobs=1,\n",
       "       param_grid={'penalty': ['l1', 'l2'], 'C': array([  1.00000e-05,   1.03283e-05, ...,   9.68215e+01,   1.00000e+02]), 'n_jobs': [-1], 'solver': ['liblinear']},\n",
       "       pre_dispatch='2*n_jobs', refit=True, return_train_score=True,\n",
       "       scoring=None, verbose=1)"
      ]
     },
     "execution_count": 118,
     "metadata": {},
     "output_type": "execute_result"
    }
   ],
   "source": [
    "standard_scaler = StandardScaler()\n",
    "Xvssix = standard_scaler.fit_transform(standard_scaler.fit_transform\n",
    "(X.loc[:,['Pclass', 'Age', 'Name_match_size', 'Male', 'Cabin_letter_D', 'Cabin_letter_E']]))\n",
    "logreggscv.fit(Xvssix, yv)"
   ]
  },
  {
   "cell_type": "code",
   "execution_count": 119,
   "metadata": {},
   "outputs": [
    {
     "name": "stdout",
     "output_type": "stream",
     "text": [
      "LogisticRegression(C=4.5009751296080509, class_weight=None, dual=False,\n",
      "          fit_intercept=True, intercept_scaling=1, max_iter=100,\n",
      "          multi_class='ovr', n_jobs=-1, penalty='l1', random_state=None,\n",
      "          solver='liblinear', tol=0.0001, verbose=0, warm_start=False)\n",
      "0.806958473625\n",
      "{'penalty': 'l1', 'C': 4.5009751296080509, 'n_jobs': -1, 'solver': 'liblinear'}\n"
     ]
    }
   ],
   "source": [
    "print logreggscv.best_estimator_\n",
    "print logreggscv.best_score_\n",
    "print logreggscv.best_params_"
   ]
  },
  {
   "cell_type": "code",
   "execution_count": 120,
   "metadata": {
    "scrolled": true
   },
   "outputs": [
    {
     "name": "stdout",
     "output_type": "stream",
     "text": [
      "Fitting 5 folds for each of 1000 candidates, totalling 5000 fits\n"
     ]
    },
    {
     "name": "stderr",
     "output_type": "stream",
     "text": [
      "[Parallel(n_jobs=1)]: Done 5000 out of 5000 | elapsed:   18.1s finished\n"
     ]
    },
    {
     "data": {
      "text/plain": [
       "GridSearchCV(cv=5, error_score='raise',\n",
       "       estimator=LogisticRegression(C=1.0, class_weight=None, dual=False, fit_intercept=True,\n",
       "          intercept_scaling=1, max_iter=100, multi_class='ovr', n_jobs=1,\n",
       "          penalty='l2', random_state=None, solver='liblinear', tol=0.0001,\n",
       "          verbose=0, warm_start=False),\n",
       "       fit_params={}, iid=True, n_jobs=1,\n",
       "       param_grid={'penalty': ['l1', 'l2'], 'C': array([  1.00000e-05,   1.03283e-05, ...,   9.68215e+01,   1.00000e+02]), 'n_jobs': [-1], 'solver': ['liblinear']},\n",
       "       pre_dispatch='2*n_jobs', refit=True, return_train_score=True,\n",
       "       scoring=None, verbose=1)"
      ]
     },
     "execution_count": 120,
     "metadata": {},
     "output_type": "execute_result"
    }
   ],
   "source": [
    "Xvsix = X.loc[:,['Pclass', 'Age', 'Name_match_size', 'Male', 'Cabin_letter_D', 'Cabin_letter_E']]\n",
    "logreggscv.fit(Xvsix, yv)"
   ]
  },
  {
   "cell_type": "code",
   "execution_count": 121,
   "metadata": {},
   "outputs": [
    {
     "name": "stdout",
     "output_type": "stream",
     "text": [
      "LogisticRegression(C=0.64807198263119714, class_weight=None, dual=False,\n",
      "          fit_intercept=True, intercept_scaling=1, max_iter=100,\n",
      "          multi_class='ovr', n_jobs=-1, penalty='l2', random_state=None,\n",
      "          solver='liblinear', tol=0.0001, verbose=0, warm_start=False)\n",
      "0.812570145903\n",
      "{'penalty': 'l2', 'C': 0.64807198263119714, 'n_jobs': -1, 'solver': 'liblinear'}\n"
     ]
    }
   ],
   "source": [
    "print logreggscv.best_estimator_\n",
    "print logreggscv.best_score_\n",
    "print logreggscv.best_params_"
   ]
  },
  {
   "cell_type": "markdown",
   "metadata": {},
   "source": [
    "So, we seem to have hit a performance ceiling at 81%, which is an improvement on the baseline.\n",
    "\n",
    "Extra value could be possibly squeezed out by using other feature selection methods with the grid searching, but, other models should give more insight for the effort (and CPU cycles!)"
   ]
  },
  {
   "cell_type": "markdown",
   "metadata": {},
   "source": [
    "#### 3. Explain the difference between the difference between the L1 (Lasso) and L2 (Ridge) penalties on the model coefficients."
   ]
  },
  {
   "cell_type": "markdown",
   "metadata": {},
   "source": [
    "The Ridge regression adds an additional component to the loss function: the sum of the squared (non-intercept!) $\\beta$ values:\n",
    "\n",
    "The Lasso regression takes a different approach - it adds the sum of the _absolute value_ of the $\\beta$ coefficients:\n",
    "\n",
    "Lasso deals primarily with the feature selection of valuable variables, eliminating ones that are not useful. This also takes care of multicollinearity, but in a different way: it will choose the \"best\" of the correlated variables and zero-out the other redundant ones. This is of course applicable to this project which has a variety of multicollinar features (e.g. ticket class, cabin position and fare)."
   ]
  },
  {
   "cell_type": "markdown",
   "metadata": {},
   "source": [
    "#### 4. What hypothetical situations are the Ridge and Lasso penalties useful?"
   ]
  },
  {
   "cell_type": "markdown",
   "metadata": {},
   "source": [
    "The Lasso and Ridge Net can be very useful for when you have redundant, or unimportant, variables. If you have dozens of variables in a dataset a Lasso can perform feature selection automatically for you by forcing coefficients to be zero."
   ]
  },
  {
   "cell_type": "markdown",
   "metadata": {},
   "source": [
    "#### 5.a. You decide that you want to minimize false positives. Use the predicted probabilities from the model to set your threshold for labeling the positive class to need at least 90% confidence. How and why does this affect your confusion matrix?"
   ]
  },
  {
   "cell_type": "code",
   "execution_count": 122,
   "metadata": {},
   "outputs": [
    {
     "name": "stdout",
     "output_type": "stream",
     "text": [
      "[[ 48   6]\n",
      " [222 170]]\n"
     ]
    }
   ],
   "source": [
    "X_train, X_test, y_train, y_test = train_test_split(X.loc[:,['Pclass', 'Age', 'Name_match_size', 'Male', 'Cabin_letter_D', 'Cabin_letter_E']], yv, test_size=0.5, random_state=2)\n",
    "\n",
    "yhat = logreggscv.predict(X_test)\n",
    "yhat_pp = logreggscv.predict_proba(X_test)\n",
    "yhat_new_thresh = []\n",
    "\n",
    "for yhat_ in yhat_pp:\n",
    "    if yhat_[0] >= 0.9:\n",
    "        yhat_new_thresh.append(0)\n",
    "    else:\n",
    "        yhat_new_thresh.append(1)\n",
    "    \n",
    "cnf_matrix = confusion_matrix(yhat_new_thresh,y_test)\n",
    "\n",
    "print cnf_matrix"
   ]
  },
  {
   "cell_type": "markdown",
   "metadata": {},
   "source": [
    "Last confusion matrix, without normalization\n",
    "\n",
    "[[239  51]\n",
    "\n",
    " [ 37 119]]"
   ]
  },
  {
   "cell_type": "markdown",
   "metadata": {},
   "source": [
    "So, the revised threshold model has an extreme effect! The objective, to reduce false positives (incorrectly predicting survivors as dead), has been achieved - only three cases are falsely categorised.\n",
    "\n",
    "The model also captures nearly all survivors - the number of true postives increases from 119 to 181.\n",
    "\n",
    "The impact is negative on the other side though - correct predictions of deaths drops from 239 down to 48! And the model incorrectly predicts death in 214 cases where the person survived (37 to 214).\n",
    "\n",
    "Overall, the misclassification rate/error rate has gone up from (37+51)/446 = 0.197 to (214+3)/446 = 0.48, which I would not consider positive for overall communication, or model performance."
   ]
  },
  {
   "cell_type": "markdown",
   "metadata": {},
   "source": [
    "## Part 5: Gridsearch and kNN"
   ]
  },
  {
   "cell_type": "markdown",
   "metadata": {},
   "source": [
    "#### 1. Perform Gridsearch for the same classification problem as above, but use KNeighborsClassifier as your estimator\n",
    "\n",
    "At least have number of neighbors and weights in your parameters dictionary."
   ]
  },
  {
   "cell_type": "code",
   "execution_count": 123,
   "metadata": {},
   "outputs": [
    {
     "name": "stdout",
     "output_type": "stream",
     "text": [
      "Fitting 5 folds for each of 1800 candidates, totalling 9000 fits\n",
      "KNeighborsClassifier(algorithm='auto', leaf_size=5, metric='minkowski',\n",
      "           metric_params=None, n_jobs=1, n_neighbors=5, p=2,\n",
      "           weights='uniform')\n",
      "0.821548821549\n",
      "{'n_neighbors': 5, 'weights': 'uniform', 'leaf_size': 5, 'p': 2}\n"
     ]
    },
    {
     "name": "stderr",
     "output_type": "stream",
     "text": [
      "[Parallel(n_jobs=1)]: Done 9000 out of 9000 | elapsed:  2.0min finished\n"
     ]
    }
   ],
   "source": [
    "from sklearn.neighbors import KNeighborsClassifier\n",
    "\n",
    "knn_params={\n",
    "    'weights':['uniform','distance'],\n",
    "    'n_neighbors':range(1, 70, 4),\n",
    "    'p':[1,2],\n",
    "    \"leaf_size\": range(1, 101,4)\n",
    "}\n",
    "\n",
    "knn = KNeighborsClassifier()\n",
    "\n",
    "knngs6 = GridSearchCV(knn, knn_params, verbose=1, cv=5)\n",
    "\n",
    "Xvssix = standard_scaler.fit_transform(standard_scaler.fit_transform\n",
    "(X.loc[:,['Pclass', 'Age', 'Name_match_size', 'Male', 'Cabin_letter_D', 'Cabin_letter_E']]))\n",
    "\n",
    "knngs6.fit(Xvssix, yv)\n",
    "\n",
    "print knngs6.best_estimator_\n",
    "print knngs6.best_score_\n",
    "print knngs6.best_params_"
   ]
  },
  {
   "cell_type": "code",
   "execution_count": 124,
   "metadata": {},
   "outputs": [
    {
     "name": "stdout",
     "output_type": "stream",
     "text": [
      "Fitting 5 folds for each of 1800 candidates, totalling 9000 fits\n",
      "KNeighborsClassifier(algorithm='auto', leaf_size=1, metric='minkowski',\n",
      "           metric_params=None, n_jobs=1, n_neighbors=9, p=1,\n",
      "           weights='uniform')\n",
      "0.810325476992\n",
      "{'n_neighbors': 9, 'weights': 'uniform', 'leaf_size': 1, 'p': 1}\n"
     ]
    },
    {
     "name": "stderr",
     "output_type": "stream",
     "text": [
      "[Parallel(n_jobs=1)]: Done 9000 out of 9000 | elapsed:  5.4min finished\n"
     ]
    }
   ],
   "source": [
    "knngs = GridSearchCV(knn, knn_params, verbose=1, cv=5)\n",
    "\n",
    "Xvs = standard_scaler.fit_transform(standard_scaler.fit_transform(X))\n",
    "\n",
    "knngs.fit(Xvs, yv)\n",
    "\n",
    "print knngs.best_estimator_\n",
    "print knngs.best_score_\n",
    "print knngs.best_params_"
   ]
  },
  {
   "cell_type": "markdown",
   "metadata": {},
   "source": [
    "#### 2. Print the best parameters and score for the gridsearched kNN model. How does it compare to the logistic regression model?"
   ]
  },
  {
   "cell_type": "code",
   "execution_count": 125,
   "metadata": {},
   "outputs": [
    {
     "name": "stdout",
     "output_type": "stream",
     "text": [
      "KNeighborsClassifier(algorithm='auto', leaf_size=5, metric='minkowski',\n",
      "           metric_params=None, n_jobs=1, n_neighbors=5, p=2,\n",
      "           weights='uniform')\n",
      "0.821548821549\n",
      "{'n_neighbors': 5, 'weights': 'uniform', 'leaf_size': 5, 'p': 2}\n"
     ]
    }
   ],
   "source": [
    "print knngs6.best_estimator_\n",
    "print knngs6.best_score_\n",
    "print knngs6.best_params_"
   ]
  },
  {
   "cell_type": "markdown",
   "metadata": {
    "collapsed": true
   },
   "source": [
    "The six feature gridsearched kNN model has approximately 1% higher score - enough to give hope that we can find better models with more applications and tuning."
   ]
  },
  {
   "cell_type": "markdown",
   "metadata": {
    "collapsed": true
   },
   "source": [
    "Interestingly, the kNN on the previously chosen half dozen feature set outperforms the model on all features. Intuitively this makes sense due to overfitting on the broader model."
   ]
  },
  {
   "cell_type": "markdown",
   "metadata": {},
   "source": [
    "#### 3. How does the number of neighbors affect the bias-variance tradeoff of your model?\n",
    "\n",
    "#### Why?"
   ]
  },
  {
   "cell_type": "markdown",
   "metadata": {
    "collapsed": true
   },
   "source": [
    "Increasing k will decrease variance and increase bias, whilst decreasing k will increase variance and decrease bias.\n",
    "\n",
    "The bias term is a function of how rough the model space is (e.g. how quickly in reality do values change as we move through the space of different wealths and religiosities). The rougher the space, the faster the bias term will increase as further away neighbors are brought into estimates.\n",
    "\n"
   ]
  },
  {
   "cell_type": "markdown",
   "metadata": {},
   "source": [
    "#### 4. In what hypothetical scenario(s) might you prefer logistic regression over kNN, aside from model performance metrics?"
   ]
  },
  {
   "cell_type": "markdown",
   "metadata": {
    "collapsed": true
   },
   "source": [
    "* Because Logistic Regression gives a probabilty, not a binary classification, it means the thresholds can be adjusted (as we saw above)\n",
    "\n",
    "* Theoretically, given a simple enough logistic model (probably without standardised input), it could be performed on a calculator with paper - it can be an interpretable model. KNN is very difficult to manually implement on paper.\n",
    "\n",
    "* Because of this simplicity of explanation/notation/implementation, it might be prefered by certain recipeients who want complete transparency of process.\n",
    "\n",
    "* Sharing a kNN model requires sharing the training data - if this was confidential, one could not share an accurately trained model."
   ]
  },
  {
   "cell_type": "markdown",
   "metadata": {},
   "source": [
    "#### 5. Fit a new kNN model with the optimal parameters found in gridsearch. "
   ]
  },
  {
   "cell_type": "code",
   "execution_count": 126,
   "metadata": {
    "collapsed": true
   },
   "outputs": [],
   "source": [
    "#GridSearchCV implements a “fit” and a “score” method.\n",
    "#It also implements “predict”, “predict_proba”, “decision_function”, “transform” and “inverse_transform” if they are implemented in the estimator used.\n",
    "\n",
    "knnb = KNeighborsClassifier(n_neighbors= 7, weights = 'uniform', leaf_size = 13, p = 2)\n",
    "\n",
    "knnb.fit(standard_scaler.fit_transform(X_train), y_train)\n",
    "\n",
    "yhat = knnb.predict(standard_scaler.transform(X_test))\n",
    "yhat_pp = knnb.predict_proba(standard_scaler.transform(X_test))"
   ]
  },
  {
   "cell_type": "markdown",
   "metadata": {},
   "source": [
    "#### 6. Construct the confusion matrix for the optimal kNN model. Is it different from the logistic regression model? If so, how?"
   ]
  },
  {
   "cell_type": "code",
   "execution_count": 127,
   "metadata": {},
   "outputs": [
    {
     "name": "stdout",
     "output_type": "stream",
     "text": [
      "[[247  56]\n",
      " [ 23 120]]\n"
     ]
    }
   ],
   "source": [
    "cnf_matrix = confusion_matrix(yhat,y_test)\n",
    "standard_scaler.fit(X_train)\n",
    "yhat_pp = knnb.predict_proba(standard_scaler.transform(X_test))\n",
    "print cnf_matrix"
   ]
  },
  {
   "cell_type": "markdown",
   "metadata": {},
   "source": [
    "Original Confusion matrix\n",
    "[[239  51]\n",
    " [ 37 119]]"
   ]
  },
  {
   "cell_type": "markdown",
   "metadata": {},
   "source": [
    "The gridsearch kNN have improved the True Positives (119 -> 121) and the True Negatives (239 -> 247)\n",
    "\n",
    "The overall accuracy of (247+121)/(230+79+40+97) of 0.825 is an improvement over the original confusion matrix' .80\n",
    "\n",
    "The False Positive rate has actually increased though - 55/(247+55) 0.18 from 0.175, so it doesn't hit one of the potential requests from the customer."
   ]
  },
  {
   "cell_type": "markdown",
   "metadata": {},
   "source": [
    "#### 7. Plot the ROC curves for the optimized logistic regression model and the optimized kNN model on the same plot."
   ]
  },
  {
   "cell_type": "code",
   "execution_count": 128,
   "metadata": {},
   "outputs": [
    {
     "data": {
      "image/png": "[encoded data removed]",
      "text/plain": [
       "<matplotlib.figure.Figure at 0x7efdf66ad050>"
      ]
     },
     "metadata": {},
     "output_type": "display_data"
    }
   ],
   "source": [
    "fpr2, tpr2, _ = roc_curve(y_test, yhat_pp[:,1])\n",
    "roc_auc2 = auc(fpr2, tpr2)\n",
    "\n",
    "plt.figure(figsize=[8,8])\n",
    "plt.plot(fpr, tpr, label='ROC curve log(area = %0.2f)' % roc_auc, linewidth=4,color='blue')\n",
    "plt.plot(fpr2, tpr2, label='ROC curve knn(area = %0.2f)' % roc_auc2, linewidth=4,color='red')\n",
    "\n",
    "\n",
    "plt.plot([0, 1], [0, 1], 'k--', linewidth=4)\n",
    "plt.xlim([-0.05, 1.0])\n",
    "plt.ylim([-0.05, 1.05])\n",
    "plt.xlabel('False Positive Rate', fontsize=18)\n",
    "plt.ylabel('True Positive Rate', fontsize=18)\n",
    "plt.title('Receiver operating characteristic: didn\\'t survive', fontsize=18)\n",
    "plt.legend(loc=\"lower right\")\n",
    "plt.show()"
   ]
  },
  {
   "cell_type": "markdown",
   "metadata": {},
   "source": [
    "## Part 6: Precision-recall"
   ]
  },
  {
   "cell_type": "markdown",
   "metadata": {},
   "source": [
    "#### 1. Gridsearch the same parameters for logistic regression but change the scoring function to 'average_precision'\n",
    "\n",
    "`'average_precision'` will optimize parameters for area under the precision-recall curve instead of for accuracy."
   ]
  },
  {
   "cell_type": "code",
   "execution_count": 129,
   "metadata": {},
   "outputs": [
    {
     "name": "stdout",
     "output_type": "stream",
     "text": [
      "Fitting 5 folds for each of 1000 candidates, totalling 5000 fits\n"
     ]
    },
    {
     "name": "stderr",
     "output_type": "stream",
     "text": [
      "[Parallel(n_jobs=1)]: Done 5000 out of 5000 | elapsed:   12.0s finished\n"
     ]
    },
    {
     "data": {
      "text/plain": [
       "GridSearchCV(cv=5, error_score='raise',\n",
       "       estimator=LogisticRegression(C=1.0, class_weight=None, dual=False, fit_intercept=True,\n",
       "          intercept_scaling=1, max_iter=100, multi_class='ovr', n_jobs=1,\n",
       "          penalty='l2', random_state=None, solver='liblinear', tol=0.0001,\n",
       "          verbose=0, warm_start=False),\n",
       "       fit_params={}, iid=True, n_jobs=1,\n",
       "       param_grid={'penalty': ['l1', 'l2'], 'C': array([  1.00000e-05,   1.03283e-05, ...,   9.68215e+01,   1.00000e+02]), 'n_jobs': [-1], 'solver': ['liblinear']},\n",
       "       pre_dispatch='2*n_jobs', refit=True, return_train_score=True,\n",
       "       scoring='average_precision', verbose=1)"
      ]
     },
     "execution_count": 129,
     "metadata": {},
     "output_type": "execute_result"
    }
   ],
   "source": [
    "Xvs = standard_scaler.fit_transform(X.loc[:,['Pclass', 'Age', 'Name_match_size', 'Male', 'Cabin_letter_D', 'Cabin_letter_E']])\n",
    "\n",
    "X_train, X_test, y_train, y_test = train_test_split(Xvs, yv, test_size=0.5, random_state=2)\n",
    "\n",
    "logreg_parameters = {\n",
    "    'penalty':['l1','l2'],\n",
    "    'C':np.logspace(-5,2,500),\n",
    "    'solver':['liblinear'],\n",
    "    'n_jobs': [-1],\n",
    "}\n",
    "\n",
    "logreg = LogisticRegression()\n",
    "\n",
    "logreggscva = GridSearchCV(logreg, logreg_parameters, verbose=1, cv=5,scoring='average_precision')\n",
    "\n",
    "logreggscva.fit(X_train, y_train)"
   ]
  },
  {
   "cell_type": "markdown",
   "metadata": {},
   "source": [
    "#### 2. Examine the best parameters and score. Are they different than the logistic regression gridsearch in part 5?"
   ]
  },
  {
   "cell_type": "code",
   "execution_count": 130,
   "metadata": {},
   "outputs": [
    {
     "name": "stdout",
     "output_type": "stream",
     "text": [
      "LogisticRegression(C=0.23052893870517108, class_weight=None, dual=False,\n",
      "          fit_intercept=True, intercept_scaling=1, max_iter=100,\n",
      "          multi_class='ovr', n_jobs=-1, penalty='l1', random_state=None,\n",
      "          solver='liblinear', tol=0.0001, verbose=0, warm_start=False)\n",
      "0.822360003997\n",
      "{'penalty': 'l1', 'C': 0.23052893870517108, 'n_jobs': -1, 'solver': 'liblinear'}\n"
     ]
    }
   ],
   "source": [
    "print logreggscva.best_estimator_\n",
    "print logreggscva.best_score_\n",
    "print logreggscva.best_params_"
   ]
  },
  {
   "cell_type": "markdown",
   "metadata": {},
   "source": [
    "LogisticRegression(C=0.64807198263119714, class_weight=None, dual=False,\n",
    "          fit_intercept=True, intercept_scaling=1, max_iter=100,\n",
    "          multi_class='ovr', n_jobs=-1, penalty='l2', random_state=None,\n",
    "          solver='liblinear', tol=0.0001, verbose=0, warm_start=False)\n",
    "0.812570145903\n",
    "{'penalty': 'l2', 'C': 0.64807198263119714, 'n_jobs': -1, 'solver': 'liblinear'}"
   ]
  },
  {
   "cell_type": "markdown",
   "metadata": {
    "collapsed": true
   },
   "source": [
    "The penalty has changed from L2 to L1, with a lower C (0.23 down from 0.64). The reported score has improved."
   ]
  },
  {
   "cell_type": "markdown",
   "metadata": {},
   "source": [
    "#### 3. Create the confusion matrix. Is it different than when you optimized for the accuracy? If so, why would this be?"
   ]
  },
  {
   "cell_type": "code",
   "execution_count": 132,
   "metadata": {},
   "outputs": [
    {
     "name": "stdout",
     "output_type": "stream",
     "text": [
      "[[236  51]\n",
      " [ 34 125]]\n"
     ]
    }
   ],
   "source": [
    "yhat = logreggscva.predict(X_test)\n",
    "cnf_matrix = confusion_matrix(yhat,y_test)\n",
    "\n",
    "print cnf_matrix"
   ]
  },
  {
   "cell_type": "markdown",
   "metadata": {
    "collapsed": true
   },
   "source": [
    "(Previously)Confusion matrix, without normalization\n",
    "[[245  53]\n",
    " [ 25 123]]"
   ]
  },
  {
   "cell_type": "markdown",
   "metadata": {},
   "source": [
    "Total accuracy (TP+TN)/(all) is down - 0.809 vs. 0.825, despite the score we were given being higher.\n",
    "\n",
    "This is because the 'average_precision' score gives the area under the ROC curve - this means we could potentially alter the threshold of this model and get better results than the same threshold changes on the earlier model."
   ]
  },
  {
   "cell_type": "markdown",
   "metadata": {},
   "source": [
    "#### 4. Plot the precision-recall curve. What does this tell us as opposed to the ROC curve?\n",
    "\n",
    "[See the sklearn plotting example here.](http://scikit-learn.org/stable/auto_examples/model_selection/plot_precision_recall.html)"
   ]
  },
  {
   "cell_type": "code",
   "execution_count": 134,
   "metadata": {},
   "outputs": [
    {
     "data": {
      "image/png": "[encoded data removed]",
      "text/plain": [
       "<matplotlib.figure.Figure at 0x7efdf8bf8e50>"
      ]
     },
     "metadata": {},
     "output_type": "display_data"
    }
   ],
   "source": [
    "from sklearn.preprocessing import label_binarize\n",
    "from sklearn.metrics import precision_recall_curve\n",
    "from sklearn.metrics import average_precision_score\n",
    "from itertools import cycle\n",
    "\n",
    "\n",
    "\n",
    "y_test_b = label_binarize(y_test, classes=[0, 1])\n",
    "yhat_b = label_binarize(yhat, classes=[0, 1])\n",
    "n_classes = y_test_b.shape[1]\n",
    "\n",
    "precision = dict()\n",
    "recall = dict()\n",
    "average_precision = dict()\n",
    "for i in range(n_classes):\n",
    "    precision[i], recall[i], _ = precision_recall_curve(y_test_b[:, i], yhat_b[:, i])\n",
    "    average_precision[i] = average_precision_score(y_test_b[:, i], yhat_b[:, i])\n",
    "    \n",
    "colors = cycle(['navy', 'turquoise', 'darkorange', 'cornflowerblue', 'teal'])\n",
    "lw = 2\n",
    "\n",
    "# Plot Precision-Recall curve\n",
    "\n",
    "plt.clf()\n",
    "plt.plot(recall[0], precision[0], lw=lw, color='navy',\n",
    "         label='Precision-Recall curve')\n",
    "plt.xlabel('Recall')\n",
    "plt.ylabel('Precision')\n",
    "plt.ylim([0.0, 1.05])\n",
    "plt.xlim([0.0, 1.0])\n",
    "plt.title('Precision-Recall example: AUC={0:0.2f}'.format(average_precision[0]))\n",
    "plt.legend(loc=\"lower left\")\n",
    "plt.show()"
   ]
  },
  {
   "cell_type": "markdown",
   "metadata": {},
   "source": [
    "The curve shows us how recall increases per decrease in precision for a given model.\n",
    "\n",
    "It can be useful for a single model, but it can also help in the selection between two models, given the customer's requirements of precision and recall"
   ]
  },
  {
   "cell_type": "markdown",
   "metadata": {},
   "source": [
    "## Part 8: Decision trees, ensembles, bagging"
   ]
  },
  {
   "cell_type": "markdown",
   "metadata": {},
   "source": [
    "#### 1. Gridsearch a decision tree classifier model on the data, searching for optimal depth. Create a new decision tree model with the optimal parameters."
   ]
  },
  {
   "cell_type": "code",
   "execution_count": 135,
   "metadata": {},
   "outputs": [
    {
     "name": "stdout",
     "output_type": "stream",
     "text": [
      "Fitting 5 folds for each of 2496 candidates, totalling 12480 fits\n"
     ]
    },
    {
     "name": "stderr",
     "output_type": "stream",
     "text": [
      "[Parallel(n_jobs=1)]: Done 12480 out of 12480 | elapsed:   21.5s finished\n"
     ]
    },
    {
     "data": {
      "text/plain": [
       "GridSearchCV(cv=5, error_score='raise',\n",
       "       estimator=DecisionTreeClassifier(class_weight=None, criterion='gini', max_depth=None,\n",
       "            max_features=None, max_leaf_nodes=None,\n",
       "            min_impurity_split=1e-07, min_samples_leaf=1,\n",
       "            min_samples_split=2, min_weight_fraction_leaf=0.0,\n",
       "            presort=False, random_state=None, splitter='best'),\n",
       "       fit_params={}, iid=True, n_jobs=1,\n",
       "       param_grid={'max_features': ['auto', 'sqrt', 'log2', None], 'min_samples_split': [2, 3, 4, 5, 6, 7, 8, 9, 10, 11, 12, 13, 14, 15, 16, 17, 18, 19, 20, 21, 22, 23, 24, 25, 26, 27, 28, 29, 30, 31, 32, 33, 34, 35, 36, 37, 38, 39, 40, 41, 42, 43, 44, 45, 46, 47, 48, 49, 50, 51, 52, 53, 54, 55, 56, 57, 58, 59, 60, 61, 62, 63, 64, 65, 66, 67, 68, 69, 70, 71, 72, 73, 74, 75, 76, 77, 78, 79], 'max_depth': [None, 1, 2, 3, 4, 5, 6, 7]},\n",
       "       pre_dispatch='2*n_jobs', refit=True, return_train_score=True,\n",
       "       scoring=None, verbose=1)"
      ]
     },
     "execution_count": 135,
     "metadata": {},
     "output_type": "execute_result"
    }
   ],
   "source": [
    "dtree=DecisionTreeClassifier()\n",
    "\n",
    "decision_tree_params={\n",
    "    'max_features':['auto','sqrt','log2',None],\n",
    "    'max_depth':[None,1,2,3,4,5,6,7],\n",
    "    'min_samples_split':range(2,80)\n",
    "}\n",
    "\n",
    "dtreegs=GridSearchCV(dtree,decision_tree_params,cv=5,verbose=1)\n",
    "\n",
    "dtreegs.fit(X_train,y_train)"
   ]
  },
  {
   "cell_type": "code",
   "execution_count": 136,
   "metadata": {},
   "outputs": [
    {
     "name": "stdout",
     "output_type": "stream",
     "text": [
      "DecisionTreeClassifier(class_weight=None, criterion='gini', max_depth=None,\n",
      "            max_features='auto', max_leaf_nodes=None,\n",
      "            min_impurity_split=1e-07, min_samples_leaf=1,\n",
      "            min_samples_split=50, min_weight_fraction_leaf=0.0,\n",
      "            presort=False, random_state=None, splitter='best')\n",
      "0.833707865169\n",
      "{'max_features': 'auto', 'min_samples_split': 50, 'max_depth': None}\n"
     ]
    }
   ],
   "source": [
    "print dtreegs.best_estimator_\n",
    "print dtreegs.best_score_\n",
    "print dtreegs.best_params_"
   ]
  },
  {
   "cell_type": "code",
   "execution_count": 137,
   "metadata": {
    "scrolled": true
   },
   "outputs": [
    {
     "data": {
      "text/plain": [
       "DecisionTreeClassifier(class_weight=None, criterion='gini', max_depth=None,\n",
       "            max_features='log2', max_leaf_nodes=None,\n",
       "            min_impurity_split=1e-07, min_samples_leaf=1,\n",
       "            min_samples_split=45, min_weight_fraction_leaf=0.0,\n",
       "            presort=False, random_state=None, splitter='best')"
      ]
     },
     "execution_count": 137,
     "metadata": {},
     "output_type": "execute_result"
    }
   ],
   "source": [
    "dtreebest=DecisionTreeClassifier(max_features='log2', min_samples_split=45, max_depth= None)\n",
    "dtreebest.fit(X_train,y_train)"
   ]
  },
  {
   "cell_type": "markdown",
   "metadata": {},
   "source": [
    "#### 2. Compare the performace of the decision tree model to the logistic regression and kNN models."
   ]
  },
  {
   "cell_type": "code",
   "execution_count": 138,
   "metadata": {
    "scrolled": true
   },
   "outputs": [
    {
     "data": {
      "text/plain": [
       "0.80269058295964124"
      ]
     },
     "execution_count": 138,
     "metadata": {},
     "output_type": "execute_result"
    }
   ],
   "source": [
    "dtreebest.score(X_test,y_test)"
   ]
  },
  {
   "cell_type": "markdown",
   "metadata": {},
   "source": [
    "At a score of 0.80, the decision three is competitive with, but not beating the optimised logistic and knn models."
   ]
  },
  {
   "cell_type": "markdown",
   "metadata": {},
   "source": [
    "#### 3. Plot all three optimized models' ROC curves on the same plot. "
   ]
  },
  {
   "cell_type": "code",
   "execution_count": 139,
   "metadata": {},
   "outputs": [
    {
     "data": {
      "image/png": "[encoded data removed]",
      "text/plain": [
       "<matplotlib.figure.Figure at 0x7efdf8b32690>"
      ]
     },
     "metadata": {},
     "output_type": "display_data"
    }
   ],
   "source": [
    "yhat_pp = dtreebest.predict_proba(X_test)\n",
    "\n",
    "fpr3, tpr3, _ = roc_curve(y_test, yhat_pp[:,1])\n",
    "roc_auc3 = auc(fpr3, tpr3)\n",
    "\n",
    "plt.figure(figsize=[8,8])\n",
    "plt.plot(fpr, tpr, label='ROC curve log(area = %0.2f)' % roc_auc, linewidth=4,color='blue')\n",
    "plt.plot(fpr2, tpr2, label='ROC curve knn(area = %0.2f)' % roc_auc2, linewidth=4,color='red')\n",
    "plt.plot(fpr3, tpr3, label='ROC curve decision tree(area = %0.2f)' % roc_auc3, linewidth=4,color='orange')\n",
    "\n",
    "plt.plot([0, 1], [0, 1], 'k--', linewidth=4)\n",
    "plt.xlim([-0.05, 1.0])\n",
    "plt.ylim([-0.05, 1.05])\n",
    "plt.xlabel('False Positive Rate', fontsize=18)\n",
    "plt.ylabel('True Positive Rate', fontsize=18)\n",
    "plt.title('Receiver operating characteristic: didn\\'t survive', fontsize=18)\n",
    "plt.legend(loc=\"lower right\")\n",
    "plt.show()"
   ]
  },
  {
   "cell_type": "markdown",
   "metadata": {},
   "source": [
    "#### 4. Use sklearn's BaggingClassifier with the base estimator your optimized decision tree model. How does the performance compare to the single decision tree classifier?"
   ]
  },
  {
   "cell_type": "code",
   "execution_count": 140,
   "metadata": {},
   "outputs": [
    {
     "data": {
      "text/plain": [
       "BaggingClassifier(base_estimator=DecisionTreeClassifier(class_weight=None, criterion='gini', max_depth=None,\n",
       "            max_features='log2', max_leaf_nodes=None,\n",
       "            min_impurity_split=1e-07, min_samples_leaf=1,\n",
       "            min_samples_split=45, min_weight_fraction_leaf=0.0,\n",
       "            presort=False, random_state=None, splitter='best'),\n",
       "         bootstrap=True, bootstrap_features=False, max_features=1.0,\n",
       "         max_samples=1.0, n_estimators=10, n_jobs=1, oob_score=False,\n",
       "         random_state=None, verbose=0, warm_start=False)"
      ]
     },
     "execution_count": 140,
     "metadata": {},
     "output_type": "execute_result"
    }
   ],
   "source": [
    "bag = BaggingClassifier(base_estimator = dtreebest)\n",
    "\n",
    "bag.fit(X_train,y_train)"
   ]
  },
  {
   "cell_type": "code",
   "execution_count": 141,
   "metadata": {},
   "outputs": [
    {
     "data": {
      "text/plain": [
       "0.81390134529147984"
      ]
     },
     "execution_count": 141,
     "metadata": {},
     "output_type": "execute_result"
    }
   ],
   "source": [
    "bag.score(X_test,y_test)"
   ]
  },
  {
   "cell_type": "markdown",
   "metadata": {},
   "source": [
    "It is performing in line with others, without any optimisation"
   ]
  },
  {
   "cell_type": "markdown",
   "metadata": {},
   "source": [
    "#### 5. Gridsearch the optimal n_estimators, max_samples, and max_features for the bagging classifier."
   ]
  },
  {
   "cell_type": "code",
   "execution_count": 142,
   "metadata": {},
   "outputs": [
    {
     "name": "stdout",
     "output_type": "stream",
     "text": [
      "Fitting 5 folds for each of 12320 candidates, totalling 61600 fits\n"
     ]
    },
    {
     "name": "stderr",
     "output_type": "stream",
     "text": [
      "[Parallel(n_jobs=1)]: Done 61600 out of 61600 | elapsed: 26.2min finished\n"
     ]
    },
    {
     "data": {
      "text/plain": [
       "GridSearchCV(cv=5, error_score='raise',\n",
       "       estimator=BaggingClassifier(base_estimator=DecisionTreeClassifier(class_weight=None, criterion='gini', max_depth=None,\n",
       "            max_features='log2', max_leaf_nodes=None,\n",
       "            min_impurity_split=1e-07, min_samples_leaf=1,\n",
       "            min_samples_split=45, min_weight_fraction_leaf=0.0,\n",
       "     ...n_estimators=10, n_jobs=1, oob_score=False,\n",
       "         random_state=None, verbose=0, warm_start=False),\n",
       "       fit_params={}, iid=True, n_jobs=1,\n",
       "       param_grid={'n_estimators': [2, 3, 4, 5, 6, 7, 8, 9, 10, 11, 12, 13, 14, 15, 16, 17, 18, 19, 20, 21, 22, 23, 24, 25, 26, 27, 28, 29], 'max_samples': [0.1, 0.2, 0.3, 0.4, 0.5, 0.6, 0.7, 0.8, 0.9, 1.0], 'bootstrap': [True, False], 'bootstrap_features': [True, False], 'max_features': [0.5, 0.55, 0.6, 0.65, 0.7, 0.75, 0.8, 0.85, 0.9, 0.95, 1.0]},\n",
       "       pre_dispatch='2*n_jobs', refit=True, return_train_score=True,\n",
       "       scoring=None, verbose=1)"
      ]
     },
     "execution_count": 142,
     "metadata": {},
     "output_type": "execute_result"
    }
   ],
   "source": [
    "bc_params={'n_estimators':range(2,30),\n",
    "           'max_samples':[0.1,0.2,0.3,0.4,0.5,0.6,0.7,0.8,0.9,1.0],\n",
    "           'max_features':[0.5,0.55,0.6,0.65,0.7,0.75,0.8,0.85,0.9,0.95,1.0],\n",
    "           'bootstrap':[True,False],\n",
    "           'bootstrap_features':[True,False],\n",
    "}\n",
    "\n",
    "bcgs=GridSearchCV(bag,bc_params,cv=5,verbose=1)\n",
    "\n",
    "bcgs.fit(X_train, y_train)"
   ]
  },
  {
   "cell_type": "code",
   "execution_count": 143,
   "metadata": {},
   "outputs": [
    {
     "name": "stdout",
     "output_type": "stream",
     "text": [
      "BaggingClassifier(base_estimator=DecisionTreeClassifier(class_weight=None, criterion='gini', max_depth=None,\n",
      "            max_features='log2', max_leaf_nodes=None,\n",
      "            min_impurity_split=1e-07, min_samples_leaf=1,\n",
      "            min_samples_split=45, min_weight_fraction_leaf=0.0,\n",
      "            presort=False, random_state=None, splitter='best'),\n",
      "         bootstrap=False, bootstrap_features=True, max_features=0.95,\n",
      "         max_samples=0.5, n_estimators=20, n_jobs=1, oob_score=False,\n",
      "         random_state=None, verbose=0, warm_start=False)\n",
      "0.838202247191\n",
      "{'max_features': 0.95, 'max_samples': 0.5, 'bootstrap': False, 'n_estimators': 20, 'bootstrap_features': True}\n"
     ]
    }
   ],
   "source": [
    "print bcgs.best_estimator_\n",
    "print bcgs.best_score_\n",
    "print bcgs.best_params_"
   ]
  },
  {
   "cell_type": "markdown",
   "metadata": {},
   "source": [
    "#### 6. Create a bagging classifier model with the optimal parameters and compare it's performance to the other two models."
   ]
  },
  {
   "cell_type": "code",
   "execution_count": 144,
   "metadata": {},
   "outputs": [
    {
     "data": {
      "text/plain": [
       "BaggingClassifier(base_estimator=DecisionTreeClassifier(class_weight=None, criterion='gini', max_depth=None,\n",
       "            max_features='log2', max_leaf_nodes=None,\n",
       "            min_impurity_split=1e-07, min_samples_leaf=1,\n",
       "            min_samples_split=45, min_weight_fraction_leaf=0.0,\n",
       "            presort=False, random_state=None, splitter='best'),\n",
       "         bootstrap=False, bootstrap_features=False, max_features=0.95,\n",
       "         max_samples=0.8, n_estimators=13, n_jobs=1, oob_score=False,\n",
       "         random_state=None, verbose=0, warm_start=False)"
      ]
     },
     "execution_count": 144,
     "metadata": {},
     "output_type": "execute_result"
    }
   ],
   "source": [
    "bagbest = BaggingClassifier(base_estimator = dtreebest,max_features= 0.95, max_samples= 0.8,\n",
    "                            bootstrap= False, n_estimators= 13, bootstrap_features= False)\n",
    "\n",
    "bagbest.fit(X_train,y_train)"
   ]
  },
  {
   "cell_type": "code",
   "execution_count": 145,
   "metadata": {},
   "outputs": [
    {
     "data": {
      "text/plain": [
       "0.81165919282511212"
      ]
     },
     "execution_count": 145,
     "metadata": {},
     "output_type": "execute_result"
    }
   ],
   "source": [
    "bagbest.score(X_test,y_test)"
   ]
  },
  {
   "cell_type": "code",
   "execution_count": 146,
   "metadata": {},
   "outputs": [
    {
     "name": "stdout",
     "output_type": "stream",
     "text": [
      "0.811659192825\n",
      "[[242  56]\n",
      " [ 28 120]]\n"
     ]
    }
   ],
   "source": [
    "print bagbest.score(X_test,y_test)\n",
    "yhat = bagbest.predict(X_test)\n",
    "yhat_pp = bagbest.predict_proba(X_test)\n",
    "cnf_matrix = confusion_matrix(yhat,y_test)\n",
    "print cnf_matrix"
   ]
  },
  {
   "cell_type": "markdown",
   "metadata": {},
   "source": [
    "This is the best score yet, narrowly edging out the previous decision tree.\n",
    "\n",
    "It has the highest True negative total to date, and thus the highest specificity and accuracy."
   ]
  },
  {
   "cell_type": "code",
   "execution_count": 147,
   "metadata": {
    "scrolled": false
   },
   "outputs": [
    {
     "data": {
      "image/png": "[encoded data removed]",
      "text/plain": [
       "<matplotlib.figure.Figure at 0x7efdf4c4fc50>"
      ]
     },
     "metadata": {},
     "output_type": "display_data"
    }
   ],
   "source": [
    "fpr4, tpr4, _ = roc_curve(y_test, yhat_pp[:,1])\n",
    "roc_auc4 = auc(fpr4, tpr4)\n",
    "\n",
    "plt.figure(figsize=[8,8])\n",
    "plt.plot(fpr, tpr, label='ROC curve log(area = %0.2f)' % roc_auc, linewidth=4,color='blue')\n",
    "plt.plot(fpr2, tpr2, label='ROC curve knn(area = %0.2f)' % roc_auc2, linewidth=4,color='red')\n",
    "plt.plot(fpr3, tpr3, label='ROC curve decision tree(area = %0.2f)' % roc_auc3, linewidth=4,color='orange')\n",
    "plt.plot(fpr4, tpr4, label='ROC curve bagging classifier(area = %0.2f)' % roc_auc4, linewidth=4,color='purple')\n",
    "\n",
    "plt.plot([0, 1], [0, 1], 'k--', linewidth=4)\n",
    "plt.xlim([-0.05, 1.0])\n",
    "plt.ylim([-0.05, 1.05])\n",
    "plt.xlabel('False Positive Rate', fontsize=18)\n",
    "plt.ylabel('True Positive Rate', fontsize=18)\n",
    "plt.title('Receiver operating characteristic: didn\\'t survive', fontsize=18)\n",
    "plt.legend(loc=\"lower right\")\n",
    "plt.show()"
   ]
  },
  {
   "cell_type": "markdown",
   "metadata": {},
   "source": [
    "# Project Conclusion"
   ]
  },
  {
   "cell_type": "markdown",
   "metadata": {},
   "source": [
    "I believe we can say that the null hypothesis has been disproven - people were not equally likely to survive the titanic disaster.\n",
    "\n",
    "The factors which particularly drove my models were the following:\n",
    "\n",
    "['Pclass', 'Age', 'Name_match_size', 'Male', 'Cabin_letter_D', 'Cabin_letter_E']\n",
    "\n",
    "Higher class tickets, lower age, smaller groups, not being male, and staying in cabin D or E all helped towards survival.\n",
    "\n",
    "People with the opposites of those variables had a very tough time (but, not all!)"
   ]
  },
  {
   "cell_type": "markdown",
   "metadata": {},
   "source": [
    "All models peaked in the low eigthies in accuracy, which is an improvement on the 62% baseline.\n",
    "\n",
    "The bagging classifier had the most success, but, at the expense of transparency and human understanding. The decision tree, and logistic regression, got close in terms of accuracy, and would be easier to explain to people, and implement on a simpler IT system.\n",
    "\n",
    "Lastly, false positives, and false negatives, can be reduced, but at the expense of other confusion matrix KPIs. If control of a particular KPI is important, the ROC curves, above, can be consulted to pick a model which is most complementary to the project's target"
   ]
  }
 ],
 "metadata": {
  "kernelspec": {
   "display_name": "Python 2",
   "language": "python",
   "name": "python2"
  },
  "language_info": {
   "codemirror_mode": {
    "name": "ipython",
    "version": 2
   },
   "file_extension": ".py",
   "mimetype": "text/x-python",
   "name": "python",
   "nbconvert_exporter": "python",
   "pygments_lexer": "ipython2",
   "version": "2.7.12"
  }
 },
 "nbformat": 4,
 "nbformat_minor": 1
}
